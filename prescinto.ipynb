{
 "metadata": {
  "language_info": {
   "codemirror_mode": {
    "name": "ipython",
    "version": 3
   },
   "file_extension": ".py",
   "mimetype": "text/x-python",
   "name": "python",
   "nbconvert_exporter": "python",
   "pygments_lexer": "ipython3",
   "version": "3.9.1-final"
  },
  "orig_nbformat": 2,
  "kernelspec": {
   "name": "python3",
   "display_name": "Python 3"
  }
 },
 "nbformat": 4,
 "nbformat_minor": 2,
 "cells": [
  {
   "cell_type": "code",
   "execution_count": 62,
   "metadata": {},
   "outputs": [],
   "source": [
    "import pandas as pd\n",
    "import numpy as np\n",
    "import matplotlib.pyplot as plt\n",
    "import seaborn as sns\n",
    "\n",
    "#Plotting parameters\n",
    "%matplotlib inline\n",
    "plt.rcParams['figure.figsize'] = (12,8)\n"
   ]
  },
  {
   "cell_type": "code",
   "execution_count": 63,
   "metadata": {},
   "outputs": [],
   "source": [
    "climacell =  pd.read_csv('climacell_data_formodel.csv')"
   ]
  },
  {
   "cell_type": "code",
   "execution_count": 65,
   "metadata": {},
   "outputs": [],
   "source": [
    "df = pd.read_csv('weather_data_from_plant.csv')"
   ]
  },
  {
   "cell_type": "code",
   "execution_count": 67,
   "metadata": {},
   "outputs": [
    {
     "output_type": "execute_result",
     "data": {
      "text/plain": [
       "                      date_time  ambient_temp  wind_speed  irradiance\n",
       "0      2020-08-21T06:26:01.000Z     28.185780     0.28164    0.000000\n",
       "1      2020-08-21T06:27:01.000Z     28.185780     0.28164    0.000000\n",
       "2      2020-08-21T06:28:01.000Z     28.185780     0.28164    0.000000\n",
       "3      2020-08-21T06:29:01.000Z     28.185780     0.28164    0.000000\n",
       "4      2020-08-21T06:30:01.000Z     28.170719     0.28164    3.442247\n",
       "...                         ...           ...         ...         ...\n",
       "79907  2020-10-20T12:57:01.000Z     36.253342     0.28164  749.843811\n",
       "79908  2020-10-20T12:58:01.000Z     36.238201     1.88136  753.283386\n",
       "79909  2020-10-20T12:59:01.000Z     36.088779     0.28164  753.283386\n",
       "79910  2020-10-20T13:00:01.000Z     35.983109     0.28164  753.283386\n",
       "79911  2020-10-20T13:01:01.000Z     35.952770     0.28164  749.843811\n",
       "\n",
       "[79912 rows x 4 columns]"
      ],
      "text/html": "<div>\n<style scoped>\n    .dataframe tbody tr th:only-of-type {\n        vertical-align: middle;\n    }\n\n    .dataframe tbody tr th {\n        vertical-align: top;\n    }\n\n    .dataframe thead th {\n        text-align: right;\n    }\n</style>\n<table border=\"1\" class=\"dataframe\">\n  <thead>\n    <tr style=\"text-align: right;\">\n      <th></th>\n      <th>date_time</th>\n      <th>ambient_temp</th>\n      <th>wind_speed</th>\n      <th>irradiance</th>\n    </tr>\n  </thead>\n  <tbody>\n    <tr>\n      <th>0</th>\n      <td>2020-08-21T06:26:01.000Z</td>\n      <td>28.185780</td>\n      <td>0.28164</td>\n      <td>0.000000</td>\n    </tr>\n    <tr>\n      <th>1</th>\n      <td>2020-08-21T06:27:01.000Z</td>\n      <td>28.185780</td>\n      <td>0.28164</td>\n      <td>0.000000</td>\n    </tr>\n    <tr>\n      <th>2</th>\n      <td>2020-08-21T06:28:01.000Z</td>\n      <td>28.185780</td>\n      <td>0.28164</td>\n      <td>0.000000</td>\n    </tr>\n    <tr>\n      <th>3</th>\n      <td>2020-08-21T06:29:01.000Z</td>\n      <td>28.185780</td>\n      <td>0.28164</td>\n      <td>0.000000</td>\n    </tr>\n    <tr>\n      <th>4</th>\n      <td>2020-08-21T06:30:01.000Z</td>\n      <td>28.170719</td>\n      <td>0.28164</td>\n      <td>3.442247</td>\n    </tr>\n    <tr>\n      <th>...</th>\n      <td>...</td>\n      <td>...</td>\n      <td>...</td>\n      <td>...</td>\n    </tr>\n    <tr>\n      <th>79907</th>\n      <td>2020-10-20T12:57:01.000Z</td>\n      <td>36.253342</td>\n      <td>0.28164</td>\n      <td>749.843811</td>\n    </tr>\n    <tr>\n      <th>79908</th>\n      <td>2020-10-20T12:58:01.000Z</td>\n      <td>36.238201</td>\n      <td>1.88136</td>\n      <td>753.283386</td>\n    </tr>\n    <tr>\n      <th>79909</th>\n      <td>2020-10-20T12:59:01.000Z</td>\n      <td>36.088779</td>\n      <td>0.28164</td>\n      <td>753.283386</td>\n    </tr>\n    <tr>\n      <th>79910</th>\n      <td>2020-10-20T13:00:01.000Z</td>\n      <td>35.983109</td>\n      <td>0.28164</td>\n      <td>753.283386</td>\n    </tr>\n    <tr>\n      <th>79911</th>\n      <td>2020-10-20T13:01:01.000Z</td>\n      <td>35.952770</td>\n      <td>0.28164</td>\n      <td>749.843811</td>\n    </tr>\n  </tbody>\n</table>\n<p>79912 rows × 4 columns</p>\n</div>"
     },
     "metadata": {},
     "execution_count": 67
    }
   ],
   "source": [
    "df"
   ]
  },
  {
   "cell_type": "code",
   "execution_count": 5,
   "metadata": {},
   "outputs": [
    {
     "output_type": "execute_result",
     "data": {
      "text/plain": [
       "                      date_time  ambient_temp  wind_speed  irradiance\n",
       "0      2020-08-21T06:26:01.000Z     28.185780     0.28164    0.000000\n",
       "1      2020-08-21T06:27:01.000Z     28.185780     0.28164    0.000000\n",
       "2      2020-08-21T06:28:01.000Z     28.185780     0.28164    0.000000\n",
       "3      2020-08-21T06:29:01.000Z     28.185780     0.28164    0.000000\n",
       "4      2020-08-21T06:30:01.000Z     28.170719     0.28164    3.442247\n",
       "...                         ...           ...         ...         ...\n",
       "79907  2020-10-20T12:57:01.000Z     36.253342     0.28164  749.843811\n",
       "79908  2020-10-20T12:58:01.000Z     36.238201     1.88136  753.283386\n",
       "79909  2020-10-20T12:59:01.000Z     36.088779     0.28164  753.283386\n",
       "79910  2020-10-20T13:00:01.000Z     35.983109     0.28164  753.283386\n",
       "79911  2020-10-20T13:01:01.000Z     35.952770     0.28164  749.843811\n",
       "\n",
       "[79912 rows x 4 columns]"
      ],
      "text/html": "<div>\n<style scoped>\n    .dataframe tbody tr th:only-of-type {\n        vertical-align: middle;\n    }\n\n    .dataframe tbody tr th {\n        vertical-align: top;\n    }\n\n    .dataframe thead th {\n        text-align: right;\n    }\n</style>\n<table border=\"1\" class=\"dataframe\">\n  <thead>\n    <tr style=\"text-align: right;\">\n      <th></th>\n      <th>date_time</th>\n      <th>ambient_temp</th>\n      <th>wind_speed</th>\n      <th>irradiance</th>\n    </tr>\n  </thead>\n  <tbody>\n    <tr>\n      <th>0</th>\n      <td>2020-08-21T06:26:01.000Z</td>\n      <td>28.185780</td>\n      <td>0.28164</td>\n      <td>0.000000</td>\n    </tr>\n    <tr>\n      <th>1</th>\n      <td>2020-08-21T06:27:01.000Z</td>\n      <td>28.185780</td>\n      <td>0.28164</td>\n      <td>0.000000</td>\n    </tr>\n    <tr>\n      <th>2</th>\n      <td>2020-08-21T06:28:01.000Z</td>\n      <td>28.185780</td>\n      <td>0.28164</td>\n      <td>0.000000</td>\n    </tr>\n    <tr>\n      <th>3</th>\n      <td>2020-08-21T06:29:01.000Z</td>\n      <td>28.185780</td>\n      <td>0.28164</td>\n      <td>0.000000</td>\n    </tr>\n    <tr>\n      <th>4</th>\n      <td>2020-08-21T06:30:01.000Z</td>\n      <td>28.170719</td>\n      <td>0.28164</td>\n      <td>3.442247</td>\n    </tr>\n    <tr>\n      <th>...</th>\n      <td>...</td>\n      <td>...</td>\n      <td>...</td>\n      <td>...</td>\n    </tr>\n    <tr>\n      <th>79907</th>\n      <td>2020-10-20T12:57:01.000Z</td>\n      <td>36.253342</td>\n      <td>0.28164</td>\n      <td>749.843811</td>\n    </tr>\n    <tr>\n      <th>79908</th>\n      <td>2020-10-20T12:58:01.000Z</td>\n      <td>36.238201</td>\n      <td>1.88136</td>\n      <td>753.283386</td>\n    </tr>\n    <tr>\n      <th>79909</th>\n      <td>2020-10-20T12:59:01.000Z</td>\n      <td>36.088779</td>\n      <td>0.28164</td>\n      <td>753.283386</td>\n    </tr>\n    <tr>\n      <th>79910</th>\n      <td>2020-10-20T13:00:01.000Z</td>\n      <td>35.983109</td>\n      <td>0.28164</td>\n      <td>753.283386</td>\n    </tr>\n    <tr>\n      <th>79911</th>\n      <td>2020-10-20T13:01:01.000Z</td>\n      <td>35.952770</td>\n      <td>0.28164</td>\n      <td>749.843811</td>\n    </tr>\n  </tbody>\n</table>\n<p>79912 rows × 4 columns</p>\n</div>"
     },
     "metadata": {},
     "execution_count": 5
    }
   ],
   "source": [
    "df2"
   ]
  },
  {
   "cell_type": "code",
   "execution_count": 68,
   "metadata": {},
   "outputs": [
    {
     "output_type": "execute_result",
     "data": {
      "text/plain": [
       "                      date_time        date      time  irradiance  \\\n",
       "0     2020-08-20 06:05:00+05:30  20-08-2020  06:05:00           0   \n",
       "1     2020-08-20 06:10:00+05:30  20-08-2020  06:10:00           0   \n",
       "2     2020-08-20 06:15:00+05:30  20-08-2020  06:15:00           0   \n",
       "3     2020-08-20 06:20:00+05:30  20-08-2020  06:20:00           0   \n",
       "4     2020-08-20 06:25:00+05:30  20-08-2020  06:25:00           0   \n",
       "...                         ...         ...       ...         ...   \n",
       "2947  2020-10-20 11:40:00+05:30  20-10-2020  11:40:00         322   \n",
       "2948  2020-10-20 11:45:00+05:30  20-10-2020  11:45:00         322   \n",
       "2949  2020-10-20 11:50:00+05:30  20-10-2020  11:50:00         322   \n",
       "2950  2020-10-20 11:55:00+05:30  20-10-2020  11:55:00         322   \n",
       "2951  2020-10-20 12:00:00+05:30  20-10-2020  12:00:00         322   \n",
       "\n",
       "      ambient_temp  wind_speed  \n",
       "0            28.58        6.33  \n",
       "1            28.57        6.26  \n",
       "2            28.57        6.18  \n",
       "3            28.56        6.11  \n",
       "4            28.56        6.03  \n",
       "...            ...         ...  \n",
       "2947         30.24        3.10  \n",
       "2948         30.25        3.14  \n",
       "2949         30.26        3.19  \n",
       "2950         30.26        3.24  \n",
       "2951         30.27        3.28  \n",
       "\n",
       "[2952 rows x 6 columns]"
      ],
      "text/html": "<div>\n<style scoped>\n    .dataframe tbody tr th:only-of-type {\n        vertical-align: middle;\n    }\n\n    .dataframe tbody tr th {\n        vertical-align: top;\n    }\n\n    .dataframe thead th {\n        text-align: right;\n    }\n</style>\n<table border=\"1\" class=\"dataframe\">\n  <thead>\n    <tr style=\"text-align: right;\">\n      <th></th>\n      <th>date_time</th>\n      <th>date</th>\n      <th>time</th>\n      <th>irradiance</th>\n      <th>ambient_temp</th>\n      <th>wind_speed</th>\n    </tr>\n  </thead>\n  <tbody>\n    <tr>\n      <th>0</th>\n      <td>2020-08-20 06:05:00+05:30</td>\n      <td>20-08-2020</td>\n      <td>06:05:00</td>\n      <td>0</td>\n      <td>28.58</td>\n      <td>6.33</td>\n    </tr>\n    <tr>\n      <th>1</th>\n      <td>2020-08-20 06:10:00+05:30</td>\n      <td>20-08-2020</td>\n      <td>06:10:00</td>\n      <td>0</td>\n      <td>28.57</td>\n      <td>6.26</td>\n    </tr>\n    <tr>\n      <th>2</th>\n      <td>2020-08-20 06:15:00+05:30</td>\n      <td>20-08-2020</td>\n      <td>06:15:00</td>\n      <td>0</td>\n      <td>28.57</td>\n      <td>6.18</td>\n    </tr>\n    <tr>\n      <th>3</th>\n      <td>2020-08-20 06:20:00+05:30</td>\n      <td>20-08-2020</td>\n      <td>06:20:00</td>\n      <td>0</td>\n      <td>28.56</td>\n      <td>6.11</td>\n    </tr>\n    <tr>\n      <th>4</th>\n      <td>2020-08-20 06:25:00+05:30</td>\n      <td>20-08-2020</td>\n      <td>06:25:00</td>\n      <td>0</td>\n      <td>28.56</td>\n      <td>6.03</td>\n    </tr>\n    <tr>\n      <th>...</th>\n      <td>...</td>\n      <td>...</td>\n      <td>...</td>\n      <td>...</td>\n      <td>...</td>\n      <td>...</td>\n    </tr>\n    <tr>\n      <th>2947</th>\n      <td>2020-10-20 11:40:00+05:30</td>\n      <td>20-10-2020</td>\n      <td>11:40:00</td>\n      <td>322</td>\n      <td>30.24</td>\n      <td>3.10</td>\n    </tr>\n    <tr>\n      <th>2948</th>\n      <td>2020-10-20 11:45:00+05:30</td>\n      <td>20-10-2020</td>\n      <td>11:45:00</td>\n      <td>322</td>\n      <td>30.25</td>\n      <td>3.14</td>\n    </tr>\n    <tr>\n      <th>2949</th>\n      <td>2020-10-20 11:50:00+05:30</td>\n      <td>20-10-2020</td>\n      <td>11:50:00</td>\n      <td>322</td>\n      <td>30.26</td>\n      <td>3.19</td>\n    </tr>\n    <tr>\n      <th>2950</th>\n      <td>2020-10-20 11:55:00+05:30</td>\n      <td>20-10-2020</td>\n      <td>11:55:00</td>\n      <td>322</td>\n      <td>30.26</td>\n      <td>3.24</td>\n    </tr>\n    <tr>\n      <th>2951</th>\n      <td>2020-10-20 12:00:00+05:30</td>\n      <td>20-10-2020</td>\n      <td>12:00:00</td>\n      <td>322</td>\n      <td>30.27</td>\n      <td>3.28</td>\n    </tr>\n  </tbody>\n</table>\n<p>2952 rows × 6 columns</p>\n</div>"
     },
     "metadata": {},
     "execution_count": 68
    }
   ],
   "source": [
    "climacell"
   ]
  },
  {
   "cell_type": "code",
   "execution_count": 8,
   "metadata": {},
   "outputs": [
    {
     "output_type": "stream",
     "name": "stdout",
     "text": [
      "<class 'pandas.core.frame.DataFrame'>\nRangeIndex: 79912 entries, 0 to 79911\nData columns (total 4 columns):\n #   Column        Non-Null Count  Dtype  \n---  ------        --------------  -----  \n 0   date_time     79912 non-null  object \n 1   ambient_temp  79912 non-null  float64\n 2   wind_speed    79912 non-null  float64\n 3   irradiance    79912 non-null  float64\ndtypes: float64(3), object(1)\nmemory usage: 2.4+ MB\n"
     ]
    }
   ],
   "source": [
    "df2.info(verbose=True)"
   ]
  },
  {
   "cell_type": "code",
   "execution_count": 9,
   "metadata": {},
   "outputs": [
    {
     "output_type": "execute_result",
     "data": {
      "text/plain": [
       "                   date_time        date      time  irradiance  ambient_temp  \\\n",
       "0  2020-08-20 06:05:00+05:30  20-08-2020  06:05:00           0         28.58   \n",
       "1  2020-08-20 06:10:00+05:30  20-08-2020  06:10:00           0         28.57   \n",
       "2  2020-08-20 06:15:00+05:30  20-08-2020  06:15:00           0         28.57   \n",
       "3  2020-08-20 06:20:00+05:30  20-08-2020  06:20:00           0         28.56   \n",
       "4  2020-08-20 06:25:00+05:30  20-08-2020  06:25:00           0         28.56   \n",
       "\n",
       "   wind_speed  \n",
       "0        6.33  \n",
       "1        6.26  \n",
       "2        6.18  \n",
       "3        6.11  \n",
       "4        6.03  "
      ],
      "text/html": "<div>\n<style scoped>\n    .dataframe tbody tr th:only-of-type {\n        vertical-align: middle;\n    }\n\n    .dataframe tbody tr th {\n        vertical-align: top;\n    }\n\n    .dataframe thead th {\n        text-align: right;\n    }\n</style>\n<table border=\"1\" class=\"dataframe\">\n  <thead>\n    <tr style=\"text-align: right;\">\n      <th></th>\n      <th>date_time</th>\n      <th>date</th>\n      <th>time</th>\n      <th>irradiance</th>\n      <th>ambient_temp</th>\n      <th>wind_speed</th>\n    </tr>\n  </thead>\n  <tbody>\n    <tr>\n      <th>0</th>\n      <td>2020-08-20 06:05:00+05:30</td>\n      <td>20-08-2020</td>\n      <td>06:05:00</td>\n      <td>0</td>\n      <td>28.58</td>\n      <td>6.33</td>\n    </tr>\n    <tr>\n      <th>1</th>\n      <td>2020-08-20 06:10:00+05:30</td>\n      <td>20-08-2020</td>\n      <td>06:10:00</td>\n      <td>0</td>\n      <td>28.57</td>\n      <td>6.26</td>\n    </tr>\n    <tr>\n      <th>2</th>\n      <td>2020-08-20 06:15:00+05:30</td>\n      <td>20-08-2020</td>\n      <td>06:15:00</td>\n      <td>0</td>\n      <td>28.57</td>\n      <td>6.18</td>\n    </tr>\n    <tr>\n      <th>3</th>\n      <td>2020-08-20 06:20:00+05:30</td>\n      <td>20-08-2020</td>\n      <td>06:20:00</td>\n      <td>0</td>\n      <td>28.56</td>\n      <td>6.11</td>\n    </tr>\n    <tr>\n      <th>4</th>\n      <td>2020-08-20 06:25:00+05:30</td>\n      <td>20-08-2020</td>\n      <td>06:25:00</td>\n      <td>0</td>\n      <td>28.56</td>\n      <td>6.03</td>\n    </tr>\n  </tbody>\n</table>\n</div>"
     },
     "metadata": {},
     "execution_count": 9
    }
   ],
   "source": [
    "df1.head()"
   ]
  },
  {
   "cell_type": "code",
   "execution_count": 40,
   "metadata": {},
   "outputs": [
    {
     "output_type": "error",
     "ename": "TypeError",
     "evalue": "Only valid with DatetimeIndex, TimedeltaIndex or PeriodIndex, but got an instance of 'RangeIndex'",
     "traceback": [
      "\u001b[0;31m---------------------------------------------------------------------------\u001b[0m",
      "\u001b[0;31mTypeError\u001b[0m                                 Traceback (most recent call last)",
      "\u001b[0;32m<ipython-input-40-c7653287fa1f>\u001b[0m in \u001b[0;36m<module>\u001b[0;34m\u001b[0m\n\u001b[0;32m----> 1\u001b[0;31m \u001b[0mdf2\u001b[0m\u001b[0;34m.\u001b[0m\u001b[0mresample\u001b[0m\u001b[0;34m(\u001b[0m\u001b[0;34m'3T'\u001b[0m\u001b[0;34m)\u001b[0m\u001b[0;34m\u001b[0m\u001b[0;34m\u001b[0m\u001b[0m\n\u001b[0m",
      "\u001b[0;32m/opt/conda/lib/python3.8/site-packages/pandas/core/generic.py\u001b[0m in \u001b[0;36mresample\u001b[0;34m(self, rule, axis, closed, label, convention, kind, loffset, base, on, level, origin, offset)\u001b[0m\n\u001b[1;32m   8081\u001b[0m \u001b[0;34m\u001b[0m\u001b[0m\n\u001b[1;32m   8082\u001b[0m         \u001b[0maxis\u001b[0m \u001b[0;34m=\u001b[0m \u001b[0mself\u001b[0m\u001b[0;34m.\u001b[0m\u001b[0m_get_axis_number\u001b[0m\u001b[0;34m(\u001b[0m\u001b[0maxis\u001b[0m\u001b[0;34m)\u001b[0m\u001b[0;34m\u001b[0m\u001b[0;34m\u001b[0m\u001b[0m\n\u001b[0;32m-> 8083\u001b[0;31m         return get_resampler(\n\u001b[0m\u001b[1;32m   8084\u001b[0m             \u001b[0mself\u001b[0m\u001b[0;34m,\u001b[0m\u001b[0;34m\u001b[0m\u001b[0;34m\u001b[0m\u001b[0m\n\u001b[1;32m   8085\u001b[0m             \u001b[0mfreq\u001b[0m\u001b[0;34m=\u001b[0m\u001b[0mrule\u001b[0m\u001b[0;34m,\u001b[0m\u001b[0;34m\u001b[0m\u001b[0;34m\u001b[0m\u001b[0m\n",
      "\u001b[0;32m/opt/conda/lib/python3.8/site-packages/pandas/core/resample.py\u001b[0m in \u001b[0;36mget_resampler\u001b[0;34m(obj, kind, **kwds)\u001b[0m\n\u001b[1;32m   1268\u001b[0m     \"\"\"\n\u001b[1;32m   1269\u001b[0m     \u001b[0mtg\u001b[0m \u001b[0;34m=\u001b[0m \u001b[0mTimeGrouper\u001b[0m\u001b[0;34m(\u001b[0m\u001b[0;34m**\u001b[0m\u001b[0mkwds\u001b[0m\u001b[0;34m)\u001b[0m\u001b[0;34m\u001b[0m\u001b[0;34m\u001b[0m\u001b[0m\n\u001b[0;32m-> 1270\u001b[0;31m     \u001b[0;32mreturn\u001b[0m \u001b[0mtg\u001b[0m\u001b[0;34m.\u001b[0m\u001b[0m_get_resampler\u001b[0m\u001b[0;34m(\u001b[0m\u001b[0mobj\u001b[0m\u001b[0;34m,\u001b[0m \u001b[0mkind\u001b[0m\u001b[0;34m=\u001b[0m\u001b[0mkind\u001b[0m\u001b[0;34m)\u001b[0m\u001b[0;34m\u001b[0m\u001b[0;34m\u001b[0m\u001b[0m\n\u001b[0m\u001b[1;32m   1271\u001b[0m \u001b[0;34m\u001b[0m\u001b[0m\n\u001b[1;32m   1272\u001b[0m \u001b[0;34m\u001b[0m\u001b[0m\n",
      "\u001b[0;32m/opt/conda/lib/python3.8/site-packages/pandas/core/resample.py\u001b[0m in \u001b[0;36m_get_resampler\u001b[0;34m(self, obj, kind)\u001b[0m\n\u001b[1;32m   1433\u001b[0m             \u001b[0;32mreturn\u001b[0m \u001b[0mTimedeltaIndexResampler\u001b[0m\u001b[0;34m(\u001b[0m\u001b[0mobj\u001b[0m\u001b[0;34m,\u001b[0m \u001b[0mgroupby\u001b[0m\u001b[0;34m=\u001b[0m\u001b[0mself\u001b[0m\u001b[0;34m,\u001b[0m \u001b[0maxis\u001b[0m\u001b[0;34m=\u001b[0m\u001b[0mself\u001b[0m\u001b[0;34m.\u001b[0m\u001b[0maxis\u001b[0m\u001b[0;34m)\u001b[0m\u001b[0;34m\u001b[0m\u001b[0;34m\u001b[0m\u001b[0m\n\u001b[1;32m   1434\u001b[0m \u001b[0;34m\u001b[0m\u001b[0m\n\u001b[0;32m-> 1435\u001b[0;31m         raise TypeError(\n\u001b[0m\u001b[1;32m   1436\u001b[0m             \u001b[0;34m\"Only valid with DatetimeIndex, \"\u001b[0m\u001b[0;34m\u001b[0m\u001b[0;34m\u001b[0m\u001b[0m\n\u001b[1;32m   1437\u001b[0m             \u001b[0;34m\"TimedeltaIndex or PeriodIndex, \"\u001b[0m\u001b[0;34m\u001b[0m\u001b[0;34m\u001b[0m\u001b[0m\n",
      "\u001b[0;31mTypeError\u001b[0m: Only valid with DatetimeIndex, TimedeltaIndex or PeriodIndex, but got an instance of 'RangeIndex'"
     ]
    }
   ],
   "source": [
    "df2.resample('3T')"
   ]
  },
  {
   "cell_type": "code",
   "execution_count": 69,
   "metadata": {},
   "outputs": [
    {
     "output_type": "execute_result",
     "data": {
      "text/plain": [
       "                      date_time  ambient_temp  wind_speed  irradiance\n",
       "0      2020-08-21T06:26:01.000Z     28.185780     0.28164    0.000000\n",
       "1      2020-08-21T06:27:01.000Z     28.185780     0.28164    0.000000\n",
       "2      2020-08-21T06:28:01.000Z     28.185780     0.28164    0.000000\n",
       "3      2020-08-21T06:29:01.000Z     28.185780     0.28164    0.000000\n",
       "4      2020-08-21T06:30:01.000Z     28.170719     0.28164    3.442247\n",
       "...                         ...           ...         ...         ...\n",
       "79907  2020-10-20T12:57:01.000Z     36.253342     0.28164  749.843811\n",
       "79908  2020-10-20T12:58:01.000Z     36.238201     1.88136  753.283386\n",
       "79909  2020-10-20T12:59:01.000Z     36.088779     0.28164  753.283386\n",
       "79910  2020-10-20T13:00:01.000Z     35.983109     0.28164  753.283386\n",
       "79911  2020-10-20T13:01:01.000Z     35.952770     0.28164  749.843811\n",
       "\n",
       "[79912 rows x 4 columns]"
      ],
      "text/html": "<div>\n<style scoped>\n    .dataframe tbody tr th:only-of-type {\n        vertical-align: middle;\n    }\n\n    .dataframe tbody tr th {\n        vertical-align: top;\n    }\n\n    .dataframe thead th {\n        text-align: right;\n    }\n</style>\n<table border=\"1\" class=\"dataframe\">\n  <thead>\n    <tr style=\"text-align: right;\">\n      <th></th>\n      <th>date_time</th>\n      <th>ambient_temp</th>\n      <th>wind_speed</th>\n      <th>irradiance</th>\n    </tr>\n  </thead>\n  <tbody>\n    <tr>\n      <th>0</th>\n      <td>2020-08-21T06:26:01.000Z</td>\n      <td>28.185780</td>\n      <td>0.28164</td>\n      <td>0.000000</td>\n    </tr>\n    <tr>\n      <th>1</th>\n      <td>2020-08-21T06:27:01.000Z</td>\n      <td>28.185780</td>\n      <td>0.28164</td>\n      <td>0.000000</td>\n    </tr>\n    <tr>\n      <th>2</th>\n      <td>2020-08-21T06:28:01.000Z</td>\n      <td>28.185780</td>\n      <td>0.28164</td>\n      <td>0.000000</td>\n    </tr>\n    <tr>\n      <th>3</th>\n      <td>2020-08-21T06:29:01.000Z</td>\n      <td>28.185780</td>\n      <td>0.28164</td>\n      <td>0.000000</td>\n    </tr>\n    <tr>\n      <th>4</th>\n      <td>2020-08-21T06:30:01.000Z</td>\n      <td>28.170719</td>\n      <td>0.28164</td>\n      <td>3.442247</td>\n    </tr>\n    <tr>\n      <th>...</th>\n      <td>...</td>\n      <td>...</td>\n      <td>...</td>\n      <td>...</td>\n    </tr>\n    <tr>\n      <th>79907</th>\n      <td>2020-10-20T12:57:01.000Z</td>\n      <td>36.253342</td>\n      <td>0.28164</td>\n      <td>749.843811</td>\n    </tr>\n    <tr>\n      <th>79908</th>\n      <td>2020-10-20T12:58:01.000Z</td>\n      <td>36.238201</td>\n      <td>1.88136</td>\n      <td>753.283386</td>\n    </tr>\n    <tr>\n      <th>79909</th>\n      <td>2020-10-20T12:59:01.000Z</td>\n      <td>36.088779</td>\n      <td>0.28164</td>\n      <td>753.283386</td>\n    </tr>\n    <tr>\n      <th>79910</th>\n      <td>2020-10-20T13:00:01.000Z</td>\n      <td>35.983109</td>\n      <td>0.28164</td>\n      <td>753.283386</td>\n    </tr>\n    <tr>\n      <th>79911</th>\n      <td>2020-10-20T13:01:01.000Z</td>\n      <td>35.952770</td>\n      <td>0.28164</td>\n      <td>749.843811</td>\n    </tr>\n  </tbody>\n</table>\n<p>79912 rows × 4 columns</p>\n</div>"
     },
     "metadata": {},
     "execution_count": 69
    }
   ],
   "source": [
    "df"
   ]
  },
  {
   "cell_type": "code",
   "execution_count": 76,
   "metadata": {},
   "outputs": [],
   "source": [
    "df['date_time'] = pd.to_datetime(df['date_time']).dt.tz_convert('Asia/Kolkata')"
   ]
  },
  {
   "cell_type": "code",
   "execution_count": 77,
   "metadata": {},
   "outputs": [
    {
     "output_type": "execute_result",
     "data": {
      "text/plain": [
       "                      date_time  ambient_temp  wind_speed  irradiance\n",
       "0     2020-08-21 11:56:01+05:30     28.185780     0.28164    0.000000\n",
       "1     2020-08-21 11:57:01+05:30     28.185780     0.28164    0.000000\n",
       "2     2020-08-21 11:58:01+05:30     28.185780     0.28164    0.000000\n",
       "3     2020-08-21 11:59:01+05:30     28.185780     0.28164    0.000000\n",
       "4     2020-08-21 12:00:01+05:30     28.170719     0.28164    3.442247\n",
       "...                         ...           ...         ...         ...\n",
       "79907 2020-10-20 18:27:01+05:30     36.253342     0.28164  749.843811\n",
       "79908 2020-10-20 18:28:01+05:30     36.238201     1.88136  753.283386\n",
       "79909 2020-10-20 18:29:01+05:30     36.088779     0.28164  753.283386\n",
       "79910 2020-10-20 18:30:01+05:30     35.983109     0.28164  753.283386\n",
       "79911 2020-10-20 18:31:01+05:30     35.952770     0.28164  749.843811\n",
       "\n",
       "[79912 rows x 4 columns]"
      ],
      "text/html": "<div>\n<style scoped>\n    .dataframe tbody tr th:only-of-type {\n        vertical-align: middle;\n    }\n\n    .dataframe tbody tr th {\n        vertical-align: top;\n    }\n\n    .dataframe thead th {\n        text-align: right;\n    }\n</style>\n<table border=\"1\" class=\"dataframe\">\n  <thead>\n    <tr style=\"text-align: right;\">\n      <th></th>\n      <th>date_time</th>\n      <th>ambient_temp</th>\n      <th>wind_speed</th>\n      <th>irradiance</th>\n    </tr>\n  </thead>\n  <tbody>\n    <tr>\n      <th>0</th>\n      <td>2020-08-21 11:56:01+05:30</td>\n      <td>28.185780</td>\n      <td>0.28164</td>\n      <td>0.000000</td>\n    </tr>\n    <tr>\n      <th>1</th>\n      <td>2020-08-21 11:57:01+05:30</td>\n      <td>28.185780</td>\n      <td>0.28164</td>\n      <td>0.000000</td>\n    </tr>\n    <tr>\n      <th>2</th>\n      <td>2020-08-21 11:58:01+05:30</td>\n      <td>28.185780</td>\n      <td>0.28164</td>\n      <td>0.000000</td>\n    </tr>\n    <tr>\n      <th>3</th>\n      <td>2020-08-21 11:59:01+05:30</td>\n      <td>28.185780</td>\n      <td>0.28164</td>\n      <td>0.000000</td>\n    </tr>\n    <tr>\n      <th>4</th>\n      <td>2020-08-21 12:00:01+05:30</td>\n      <td>28.170719</td>\n      <td>0.28164</td>\n      <td>3.442247</td>\n    </tr>\n    <tr>\n      <th>...</th>\n      <td>...</td>\n      <td>...</td>\n      <td>...</td>\n      <td>...</td>\n    </tr>\n    <tr>\n      <th>79907</th>\n      <td>2020-10-20 18:27:01+05:30</td>\n      <td>36.253342</td>\n      <td>0.28164</td>\n      <td>749.843811</td>\n    </tr>\n    <tr>\n      <th>79908</th>\n      <td>2020-10-20 18:28:01+05:30</td>\n      <td>36.238201</td>\n      <td>1.88136</td>\n      <td>753.283386</td>\n    </tr>\n    <tr>\n      <th>79909</th>\n      <td>2020-10-20 18:29:01+05:30</td>\n      <td>36.088779</td>\n      <td>0.28164</td>\n      <td>753.283386</td>\n    </tr>\n    <tr>\n      <th>79910</th>\n      <td>2020-10-20 18:30:01+05:30</td>\n      <td>35.983109</td>\n      <td>0.28164</td>\n      <td>753.283386</td>\n    </tr>\n    <tr>\n      <th>79911</th>\n      <td>2020-10-20 18:31:01+05:30</td>\n      <td>35.952770</td>\n      <td>0.28164</td>\n      <td>749.843811</td>\n    </tr>\n  </tbody>\n</table>\n<p>79912 rows × 4 columns</p>\n</div>"
     },
     "metadata": {},
     "execution_count": 77
    }
   ],
   "source": [
    "df"
   ]
  },
  {
   "source": [
    "### Sample the dataset to contain one hour data \n",
    "\n",
    "12:00 am 13:00am , etc"
   ],
   "cell_type": "markdown",
   "metadata": {}
  },
  {
   "source": [
    "df['date_time'].min(),df['date_time'].max()"
   ],
   "cell_type": "code",
   "metadata": {},
   "execution_count": 79,
   "outputs": [
    {
     "output_type": "execute_result",
     "data": {
      "text/plain": [
       "(Timestamp('2020-08-21 11:56:01+0530', tz='Asia/Kolkata'),\n",
       " Timestamp('2020-10-20 18:31:01+0530', tz='Asia/Kolkata'))"
      ]
     },
     "metadata": {},
     "execution_count": 79
    }
   ]
  },
  {
   "source": [
    "df['date_time'].max() - df['date_time'].min()"
   ],
   "cell_type": "code",
   "metadata": {},
   "execution_count": 80,
   "outputs": [
    {
     "output_type": "execute_result",
     "data": {
      "text/plain": [
       "Timedelta('60 days 06:35:00')"
      ]
     },
     "metadata": {},
     "execution_count": 80
    }
   ]
  },
  {
   "source": [
    "df = df.pivot(index=\"date_time\",columns)"
   ],
   "cell_type": "code",
   "metadata": {},
   "execution_count": 82,
   "outputs": [
    {
     "output_type": "error",
     "ename": "TypeError",
     "evalue": "pivot() missing 1 required argument: 'columns'",
     "traceback": [
      "\u001b[0;31m---------------------------------------------------------------------------\u001b[0m",
      "\u001b[0;31mTypeError\u001b[0m                                 Traceback (most recent call last)",
      "\u001b[0;32m<ipython-input-82-a5bc1f724671>\u001b[0m in \u001b[0;36m<module>\u001b[0;34m\u001b[0m\n\u001b[0;32m----> 1\u001b[0;31m \u001b[0mdf\u001b[0m \u001b[0;34m=\u001b[0m \u001b[0mdf\u001b[0m\u001b[0;34m.\u001b[0m\u001b[0mpivot\u001b[0m\u001b[0;34m(\u001b[0m\u001b[0mindex\u001b[0m\u001b[0;34m=\u001b[0m\u001b[0;34m\"date_time\"\u001b[0m\u001b[0;34m)\u001b[0m\u001b[0;34m\u001b[0m\u001b[0;34m\u001b[0m\u001b[0m\n\u001b[0m",
      "\u001b[0;32m/opt/conda/lib/python3.8/site-packages/pandas/core/frame.py\u001b[0m in \u001b[0;36mpivot\u001b[0;34m(self, index, columns, values)\u001b[0m\n\u001b[1;32m   6676\u001b[0m         \u001b[0;32mfrom\u001b[0m \u001b[0mpandas\u001b[0m\u001b[0;34m.\u001b[0m\u001b[0mcore\u001b[0m\u001b[0;34m.\u001b[0m\u001b[0mreshape\u001b[0m\u001b[0;34m.\u001b[0m\u001b[0mpivot\u001b[0m \u001b[0;32mimport\u001b[0m \u001b[0mpivot\u001b[0m\u001b[0;34m\u001b[0m\u001b[0;34m\u001b[0m\u001b[0m\n\u001b[1;32m   6677\u001b[0m \u001b[0;34m\u001b[0m\u001b[0m\n\u001b[0;32m-> 6678\u001b[0;31m         \u001b[0;32mreturn\u001b[0m \u001b[0mpivot\u001b[0m\u001b[0;34m(\u001b[0m\u001b[0mself\u001b[0m\u001b[0;34m,\u001b[0m \u001b[0mindex\u001b[0m\u001b[0;34m=\u001b[0m\u001b[0mindex\u001b[0m\u001b[0;34m,\u001b[0m \u001b[0mcolumns\u001b[0m\u001b[0;34m=\u001b[0m\u001b[0mcolumns\u001b[0m\u001b[0;34m,\u001b[0m \u001b[0mvalues\u001b[0m\u001b[0;34m=\u001b[0m\u001b[0mvalues\u001b[0m\u001b[0;34m)\u001b[0m\u001b[0;34m\u001b[0m\u001b[0;34m\u001b[0m\u001b[0m\n\u001b[0m\u001b[1;32m   6679\u001b[0m \u001b[0;34m\u001b[0m\u001b[0m\n\u001b[1;32m   6680\u001b[0m     _shared_docs[\n",
      "\u001b[0;32m/opt/conda/lib/python3.8/site-packages/pandas/core/reshape/pivot.py\u001b[0m in \u001b[0;36mpivot\u001b[0;34m(data, index, columns, values)\u001b[0m\n\u001b[1;32m    443\u001b[0m ) -> \"DataFrame\":\n\u001b[1;32m    444\u001b[0m     \u001b[0;32mif\u001b[0m \u001b[0mcolumns\u001b[0m \u001b[0;32mis\u001b[0m \u001b[0;32mNone\u001b[0m\u001b[0;34m:\u001b[0m\u001b[0;34m\u001b[0m\u001b[0;34m\u001b[0m\u001b[0m\n\u001b[0;32m--> 445\u001b[0;31m         \u001b[0;32mraise\u001b[0m \u001b[0mTypeError\u001b[0m\u001b[0;34m(\u001b[0m\u001b[0;34m\"pivot() missing 1 required argument: 'columns'\"\u001b[0m\u001b[0;34m)\u001b[0m\u001b[0;34m\u001b[0m\u001b[0;34m\u001b[0m\u001b[0m\n\u001b[0m\u001b[1;32m    446\u001b[0m \u001b[0;34m\u001b[0m\u001b[0m\n\u001b[1;32m    447\u001b[0m     \u001b[0mcolumns\u001b[0m \u001b[0;34m=\u001b[0m \u001b[0mcom\u001b[0m\u001b[0;34m.\u001b[0m\u001b[0mconvert_to_list_like\u001b[0m\u001b[0;34m(\u001b[0m\u001b[0mcolumns\u001b[0m\u001b[0;34m)\u001b[0m\u001b[0;34m\u001b[0m\u001b[0;34m\u001b[0m\u001b[0m\n",
      "\u001b[0;31mTypeError\u001b[0m: pivot() missing 1 required argument: 'columns'"
     ]
    }
   ]
  },
  {
   "cell_type": "code",
   "execution_count": null,
   "metadata": {},
   "outputs": [],
   "source": []
  }
 ]
}