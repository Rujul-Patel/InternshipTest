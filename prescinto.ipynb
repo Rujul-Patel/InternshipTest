{
 "metadata": {
  "language_info": {
   "codemirror_mode": {
    "name": "ipython",
    "version": 3
   },
   "file_extension": ".py",
   "mimetype": "text/x-python",
   "name": "python",
   "nbconvert_exporter": "python",
   "pygments_lexer": "ipython3",
   "version": "3.9.1-final"
  },
  "orig_nbformat": 2,
  "kernelspec": {
   "name": "python3",
   "display_name": "Python 3"
  }
 },
 "nbformat": 4,
 "nbformat_minor": 2,
 "cells": [
  {
   "cell_type": "code",
   "execution_count": 138,
   "metadata": {},
   "outputs": [],
   "source": [
    "import pandas as pd\n",
    "import numpy as np\n",
    "import matplotlib.pyplot as plt\n",
    "import seaborn as sns\n",
    "from tensorflow import keras\n",
    "import sklearn\n",
    "\n",
    "\n",
    "#Plotting parameters\n",
    "%matplotlib inline\n",
    "plt.rcParams['figure.figsize'] = (12,8)\n"
   ]
  },
  {
   "cell_type": "code",
   "execution_count": 146,
   "metadata": {},
   "outputs": [],
   "source": [
    "climacell =  pd.read_csv('climacell_data_formodel.csv')"
   ]
  },
  {
   "cell_type": "code",
   "execution_count": 147,
   "metadata": {},
   "outputs": [
    {
     "output_type": "execute_result",
     "data": {
      "text/plain": [
       "                      date_time        date      time  irradiance  \\\n",
       "0     2020-08-20 06:05:00+05:30  20-08-2020  06:05:00           0   \n",
       "1     2020-08-20 06:10:00+05:30  20-08-2020  06:10:00           0   \n",
       "2     2020-08-20 06:15:00+05:30  20-08-2020  06:15:00           0   \n",
       "3     2020-08-20 06:20:00+05:30  20-08-2020  06:20:00           0   \n",
       "4     2020-08-20 06:25:00+05:30  20-08-2020  06:25:00           0   \n",
       "...                         ...         ...       ...         ...   \n",
       "2947  2020-10-20 11:40:00+05:30  20-10-2020  11:40:00         322   \n",
       "2948  2020-10-20 11:45:00+05:30  20-10-2020  11:45:00         322   \n",
       "2949  2020-10-20 11:50:00+05:30  20-10-2020  11:50:00         322   \n",
       "2950  2020-10-20 11:55:00+05:30  20-10-2020  11:55:00         322   \n",
       "2951  2020-10-20 12:00:00+05:30  20-10-2020  12:00:00         322   \n",
       "\n",
       "      ambient_temp  wind_speed  \n",
       "0            28.58        6.33  \n",
       "1            28.57        6.26  \n",
       "2            28.57        6.18  \n",
       "3            28.56        6.11  \n",
       "4            28.56        6.03  \n",
       "...            ...         ...  \n",
       "2947         30.24        3.10  \n",
       "2948         30.25        3.14  \n",
       "2949         30.26        3.19  \n",
       "2950         30.26        3.24  \n",
       "2951         30.27        3.28  \n",
       "\n",
       "[2952 rows x 6 columns]"
      ],
      "text/html": "<div>\n<style scoped>\n    .dataframe tbody tr th:only-of-type {\n        vertical-align: middle;\n    }\n\n    .dataframe tbody tr th {\n        vertical-align: top;\n    }\n\n    .dataframe thead th {\n        text-align: right;\n    }\n</style>\n<table border=\"1\" class=\"dataframe\">\n  <thead>\n    <tr style=\"text-align: right;\">\n      <th></th>\n      <th>date_time</th>\n      <th>date</th>\n      <th>time</th>\n      <th>irradiance</th>\n      <th>ambient_temp</th>\n      <th>wind_speed</th>\n    </tr>\n  </thead>\n  <tbody>\n    <tr>\n      <th>0</th>\n      <td>2020-08-20 06:05:00+05:30</td>\n      <td>20-08-2020</td>\n      <td>06:05:00</td>\n      <td>0</td>\n      <td>28.58</td>\n      <td>6.33</td>\n    </tr>\n    <tr>\n      <th>1</th>\n      <td>2020-08-20 06:10:00+05:30</td>\n      <td>20-08-2020</td>\n      <td>06:10:00</td>\n      <td>0</td>\n      <td>28.57</td>\n      <td>6.26</td>\n    </tr>\n    <tr>\n      <th>2</th>\n      <td>2020-08-20 06:15:00+05:30</td>\n      <td>20-08-2020</td>\n      <td>06:15:00</td>\n      <td>0</td>\n      <td>28.57</td>\n      <td>6.18</td>\n    </tr>\n    <tr>\n      <th>3</th>\n      <td>2020-08-20 06:20:00+05:30</td>\n      <td>20-08-2020</td>\n      <td>06:20:00</td>\n      <td>0</td>\n      <td>28.56</td>\n      <td>6.11</td>\n    </tr>\n    <tr>\n      <th>4</th>\n      <td>2020-08-20 06:25:00+05:30</td>\n      <td>20-08-2020</td>\n      <td>06:25:00</td>\n      <td>0</td>\n      <td>28.56</td>\n      <td>6.03</td>\n    </tr>\n    <tr>\n      <th>...</th>\n      <td>...</td>\n      <td>...</td>\n      <td>...</td>\n      <td>...</td>\n      <td>...</td>\n      <td>...</td>\n    </tr>\n    <tr>\n      <th>2947</th>\n      <td>2020-10-20 11:40:00+05:30</td>\n      <td>20-10-2020</td>\n      <td>11:40:00</td>\n      <td>322</td>\n      <td>30.24</td>\n      <td>3.10</td>\n    </tr>\n    <tr>\n      <th>2948</th>\n      <td>2020-10-20 11:45:00+05:30</td>\n      <td>20-10-2020</td>\n      <td>11:45:00</td>\n      <td>322</td>\n      <td>30.25</td>\n      <td>3.14</td>\n    </tr>\n    <tr>\n      <th>2949</th>\n      <td>2020-10-20 11:50:00+05:30</td>\n      <td>20-10-2020</td>\n      <td>11:50:00</td>\n      <td>322</td>\n      <td>30.26</td>\n      <td>3.19</td>\n    </tr>\n    <tr>\n      <th>2950</th>\n      <td>2020-10-20 11:55:00+05:30</td>\n      <td>20-10-2020</td>\n      <td>11:55:00</td>\n      <td>322</td>\n      <td>30.26</td>\n      <td>3.24</td>\n    </tr>\n    <tr>\n      <th>2951</th>\n      <td>2020-10-20 12:00:00+05:30</td>\n      <td>20-10-2020</td>\n      <td>12:00:00</td>\n      <td>322</td>\n      <td>30.27</td>\n      <td>3.28</td>\n    </tr>\n  </tbody>\n</table>\n<p>2952 rows × 6 columns</p>\n</div>"
     },
     "metadata": {},
     "execution_count": 147
    }
   ],
   "source": [
    "climacell"
   ]
  },
  {
   "cell_type": "code",
   "execution_count": 55,
   "metadata": {},
   "outputs": [],
   "source": [
    "df = pd.read_csv('weather_data_from_plant.csv')"
   ]
  },
  {
   "cell_type": "code",
   "execution_count": 56,
   "metadata": {},
   "outputs": [
    {
     "output_type": "execute_result",
     "data": {
      "text/plain": [
       "                      date_time  ambient_temp  wind_speed  irradiance\n",
       "0      2020-08-21T06:26:01.000Z     28.185780     0.28164    0.000000\n",
       "1      2020-08-21T06:27:01.000Z     28.185780     0.28164    0.000000\n",
       "2      2020-08-21T06:28:01.000Z     28.185780     0.28164    0.000000\n",
       "3      2020-08-21T06:29:01.000Z     28.185780     0.28164    0.000000\n",
       "4      2020-08-21T06:30:01.000Z     28.170719     0.28164    3.442247\n",
       "...                         ...           ...         ...         ...\n",
       "79907  2020-10-20T12:57:01.000Z     36.253342     0.28164  749.843811\n",
       "79908  2020-10-20T12:58:01.000Z     36.238201     1.88136  753.283386\n",
       "79909  2020-10-20T12:59:01.000Z     36.088779     0.28164  753.283386\n",
       "79910  2020-10-20T13:00:01.000Z     35.983109     0.28164  753.283386\n",
       "79911  2020-10-20T13:01:01.000Z     35.952770     0.28164  749.843811\n",
       "\n",
       "[79912 rows x 4 columns]"
      ],
      "text/html": "<div>\n<style scoped>\n    .dataframe tbody tr th:only-of-type {\n        vertical-align: middle;\n    }\n\n    .dataframe tbody tr th {\n        vertical-align: top;\n    }\n\n    .dataframe thead th {\n        text-align: right;\n    }\n</style>\n<table border=\"1\" class=\"dataframe\">\n  <thead>\n    <tr style=\"text-align: right;\">\n      <th></th>\n      <th>date_time</th>\n      <th>ambient_temp</th>\n      <th>wind_speed</th>\n      <th>irradiance</th>\n    </tr>\n  </thead>\n  <tbody>\n    <tr>\n      <th>0</th>\n      <td>2020-08-21T06:26:01.000Z</td>\n      <td>28.185780</td>\n      <td>0.28164</td>\n      <td>0.000000</td>\n    </tr>\n    <tr>\n      <th>1</th>\n      <td>2020-08-21T06:27:01.000Z</td>\n      <td>28.185780</td>\n      <td>0.28164</td>\n      <td>0.000000</td>\n    </tr>\n    <tr>\n      <th>2</th>\n      <td>2020-08-21T06:28:01.000Z</td>\n      <td>28.185780</td>\n      <td>0.28164</td>\n      <td>0.000000</td>\n    </tr>\n    <tr>\n      <th>3</th>\n      <td>2020-08-21T06:29:01.000Z</td>\n      <td>28.185780</td>\n      <td>0.28164</td>\n      <td>0.000000</td>\n    </tr>\n    <tr>\n      <th>4</th>\n      <td>2020-08-21T06:30:01.000Z</td>\n      <td>28.170719</td>\n      <td>0.28164</td>\n      <td>3.442247</td>\n    </tr>\n    <tr>\n      <th>...</th>\n      <td>...</td>\n      <td>...</td>\n      <td>...</td>\n      <td>...</td>\n    </tr>\n    <tr>\n      <th>79907</th>\n      <td>2020-10-20T12:57:01.000Z</td>\n      <td>36.253342</td>\n      <td>0.28164</td>\n      <td>749.843811</td>\n    </tr>\n    <tr>\n      <th>79908</th>\n      <td>2020-10-20T12:58:01.000Z</td>\n      <td>36.238201</td>\n      <td>1.88136</td>\n      <td>753.283386</td>\n    </tr>\n    <tr>\n      <th>79909</th>\n      <td>2020-10-20T12:59:01.000Z</td>\n      <td>36.088779</td>\n      <td>0.28164</td>\n      <td>753.283386</td>\n    </tr>\n    <tr>\n      <th>79910</th>\n      <td>2020-10-20T13:00:01.000Z</td>\n      <td>35.983109</td>\n      <td>0.28164</td>\n      <td>753.283386</td>\n    </tr>\n    <tr>\n      <th>79911</th>\n      <td>2020-10-20T13:01:01.000Z</td>\n      <td>35.952770</td>\n      <td>0.28164</td>\n      <td>749.843811</td>\n    </tr>\n  </tbody>\n</table>\n<p>79912 rows × 4 columns</p>\n</div>"
     },
     "metadata": {},
     "execution_count": 56
    }
   ],
   "source": [
    "df"
   ]
  },
  {
   "cell_type": "code",
   "execution_count": 57,
   "metadata": {},
   "outputs": [
    {
     "output_type": "stream",
     "name": "stdout",
     "text": [
      "<class 'pandas.core.frame.DataFrame'>\nRangeIndex: 79912 entries, 0 to 79911\nData columns (total 4 columns):\n #   Column        Non-Null Count  Dtype  \n---  ------        --------------  -----  \n 0   date_time     79912 non-null  object \n 1   ambient_temp  79912 non-null  float64\n 2   wind_speed    79912 non-null  float64\n 3   irradiance    79912 non-null  float64\ndtypes: float64(3), object(1)\nmemory usage: 2.4+ MB\n"
     ]
    }
   ],
   "source": [
    "df.info(verbose=True)"
   ]
  },
  {
   "cell_type": "code",
   "execution_count": 58,
   "metadata": {},
   "outputs": [
    {
     "output_type": "execute_result",
     "data": {
      "text/plain": [
       "                           ambient_temp  wind_speed  irradiance\n",
       "date_time                                                      \n",
       "2020-08-21 11:56:01+05:30     28.185780     0.28164    0.000000\n",
       "2020-08-21 11:57:01+05:30     28.185780     0.28164    0.000000\n",
       "2020-08-21 11:58:01+05:30     28.185780     0.28164    0.000000\n",
       "2020-08-21 11:59:01+05:30     28.185780     0.28164    0.000000\n",
       "2020-08-21 12:00:01+05:30     28.170719     0.28164    3.442247"
      ],
      "text/html": "<div>\n<style scoped>\n    .dataframe tbody tr th:only-of-type {\n        vertical-align: middle;\n    }\n\n    .dataframe tbody tr th {\n        vertical-align: top;\n    }\n\n    .dataframe thead th {\n        text-align: right;\n    }\n</style>\n<table border=\"1\" class=\"dataframe\">\n  <thead>\n    <tr style=\"text-align: right;\">\n      <th></th>\n      <th>ambient_temp</th>\n      <th>wind_speed</th>\n      <th>irradiance</th>\n    </tr>\n    <tr>\n      <th>date_time</th>\n      <th></th>\n      <th></th>\n      <th></th>\n    </tr>\n  </thead>\n  <tbody>\n    <tr>\n      <th>2020-08-21 11:56:01+05:30</th>\n      <td>28.185780</td>\n      <td>0.28164</td>\n      <td>0.000000</td>\n    </tr>\n    <tr>\n      <th>2020-08-21 11:57:01+05:30</th>\n      <td>28.185780</td>\n      <td>0.28164</td>\n      <td>0.000000</td>\n    </tr>\n    <tr>\n      <th>2020-08-21 11:58:01+05:30</th>\n      <td>28.185780</td>\n      <td>0.28164</td>\n      <td>0.000000</td>\n    </tr>\n    <tr>\n      <th>2020-08-21 11:59:01+05:30</th>\n      <td>28.185780</td>\n      <td>0.28164</td>\n      <td>0.000000</td>\n    </tr>\n    <tr>\n      <th>2020-08-21 12:00:01+05:30</th>\n      <td>28.170719</td>\n      <td>0.28164</td>\n      <td>3.442247</td>\n    </tr>\n  </tbody>\n</table>\n</div>"
     },
     "metadata": {},
     "execution_count": 58
    }
   ],
   "source": [
    "df['date_time'] = pd.to_datetime(df['date_time']).dt.tz_convert('Asia/Kolkata')\n",
    "df = df.set_index('date_time')\n",
    "df.head()"
   ]
  },
  {
   "cell_type": "code",
   "execution_count": 59,
   "metadata": {},
   "outputs": [
    {
     "output_type": "execute_result",
     "data": {
      "text/plain": [
       "                           ambient_temp  wind_speed  irradiance\n",
       "date_time                                                      \n",
       "2020-08-21 11:56:01+05:30     28.185780     0.28164    0.000000\n",
       "2020-08-21 11:57:01+05:30     28.185780     0.28164    0.000000\n",
       "2020-08-21 11:58:01+05:30     28.185780     0.28164    0.000000\n",
       "2020-08-21 11:59:01+05:30     28.185780     0.28164    0.000000\n",
       "2020-08-21 12:00:01+05:30     28.170719     0.28164    3.442247\n",
       "...                                 ...         ...         ...\n",
       "2020-10-20 18:27:01+05:30     36.253342     0.28164  749.843811\n",
       "2020-10-20 18:28:01+05:30     36.238201     1.88136  753.283386\n",
       "2020-10-20 18:29:01+05:30     36.088779     0.28164  753.283386\n",
       "2020-10-20 18:30:01+05:30     35.983109     0.28164  753.283386\n",
       "2020-10-20 18:31:01+05:30     35.952770     0.28164  749.843811\n",
       "\n",
       "[79912 rows x 3 columns]"
      ],
      "text/html": "<div>\n<style scoped>\n    .dataframe tbody tr th:only-of-type {\n        vertical-align: middle;\n    }\n\n    .dataframe tbody tr th {\n        vertical-align: top;\n    }\n\n    .dataframe thead th {\n        text-align: right;\n    }\n</style>\n<table border=\"1\" class=\"dataframe\">\n  <thead>\n    <tr style=\"text-align: right;\">\n      <th></th>\n      <th>ambient_temp</th>\n      <th>wind_speed</th>\n      <th>irradiance</th>\n    </tr>\n    <tr>\n      <th>date_time</th>\n      <th></th>\n      <th></th>\n      <th></th>\n    </tr>\n  </thead>\n  <tbody>\n    <tr>\n      <th>2020-08-21 11:56:01+05:30</th>\n      <td>28.185780</td>\n      <td>0.28164</td>\n      <td>0.000000</td>\n    </tr>\n    <tr>\n      <th>2020-08-21 11:57:01+05:30</th>\n      <td>28.185780</td>\n      <td>0.28164</td>\n      <td>0.000000</td>\n    </tr>\n    <tr>\n      <th>2020-08-21 11:58:01+05:30</th>\n      <td>28.185780</td>\n      <td>0.28164</td>\n      <td>0.000000</td>\n    </tr>\n    <tr>\n      <th>2020-08-21 11:59:01+05:30</th>\n      <td>28.185780</td>\n      <td>0.28164</td>\n      <td>0.000000</td>\n    </tr>\n    <tr>\n      <th>2020-08-21 12:00:01+05:30</th>\n      <td>28.170719</td>\n      <td>0.28164</td>\n      <td>3.442247</td>\n    </tr>\n    <tr>\n      <th>...</th>\n      <td>...</td>\n      <td>...</td>\n      <td>...</td>\n    </tr>\n    <tr>\n      <th>2020-10-20 18:27:01+05:30</th>\n      <td>36.253342</td>\n      <td>0.28164</td>\n      <td>749.843811</td>\n    </tr>\n    <tr>\n      <th>2020-10-20 18:28:01+05:30</th>\n      <td>36.238201</td>\n      <td>1.88136</td>\n      <td>753.283386</td>\n    </tr>\n    <tr>\n      <th>2020-10-20 18:29:01+05:30</th>\n      <td>36.088779</td>\n      <td>0.28164</td>\n      <td>753.283386</td>\n    </tr>\n    <tr>\n      <th>2020-10-20 18:30:01+05:30</th>\n      <td>35.983109</td>\n      <td>0.28164</td>\n      <td>753.283386</td>\n    </tr>\n    <tr>\n      <th>2020-10-20 18:31:01+05:30</th>\n      <td>35.952770</td>\n      <td>0.28164</td>\n      <td>749.843811</td>\n    </tr>\n  </tbody>\n</table>\n<p>79912 rows × 3 columns</p>\n</div>"
     },
     "metadata": {},
     "execution_count": 59
    }
   ],
   "source": [
    "df"
   ]
  },
  {
   "source": [
    "### Sample the dataset to contain one hour data \n",
    "\n",
    "12:00 am 13:00am , etc"
   ],
   "cell_type": "markdown",
   "metadata": {}
  },
  {
   "cell_type": "code",
   "execution_count": 67,
   "metadata": {},
   "outputs": [
    {
     "output_type": "execute_result",
     "data": {
      "text/plain": [
       "DatetimeIndex(['2020-08-21 11:56:01+05:30', '2020-08-21 11:57:01+05:30',\n",
       "               '2020-08-21 11:58:01+05:30', '2020-08-21 11:59:01+05:30',\n",
       "               '2020-08-21 12:00:01+05:30', '2020-08-21 12:01:01+05:30',\n",
       "               '2020-08-21 12:02:01+05:30', '2020-08-21 12:03:01+05:30',\n",
       "               '2020-08-21 12:04:01+05:30', '2020-08-21 12:05:01+05:30',\n",
       "               ...\n",
       "               '2020-10-20 18:22:01+05:30', '2020-10-20 18:23:01+05:30',\n",
       "               '2020-10-20 18:24:01+05:30', '2020-10-20 18:25:01+05:30',\n",
       "               '2020-10-20 18:26:01+05:30', '2020-10-20 18:27:01+05:30',\n",
       "               '2020-10-20 18:28:01+05:30', '2020-10-20 18:29:01+05:30',\n",
       "               '2020-10-20 18:30:01+05:30', '2020-10-20 18:31:01+05:30'],\n",
       "              dtype='datetime64[ns, Asia/Kolkata]', name='date_time', length=79912, freq=None)"
      ]
     },
     "metadata": {},
     "execution_count": 67
    }
   ],
   "source": [
    "df.index"
   ]
  },
  {
   "cell_type": "code",
   "execution_count": 70,
   "metadata": {},
   "outputs": [
    {
     "output_type": "execute_result",
     "data": {
      "text/plain": [
       "(Timestamp('2020-08-21 11:56:01+0530', tz='Asia/Kolkata'),\n",
       " Timestamp('2020-10-20 18:31:01+0530', tz='Asia/Kolkata'),\n",
       " Timedelta('60 days 06:35:00'))"
      ]
     },
     "metadata": {},
     "execution_count": 70
    }
   ],
   "source": [
    "df.index.min(),df.index.max(),df.index.max() - df.index.min()"
   ]
  },
  {
   "source": [
    "Note: As we can see the data consists of 60 days from 21-08-2020 (11:56 am)to 20-10-2020 (06:31 pm) sampled at interval of 1 minute"
   ],
   "cell_type": "markdown",
   "metadata": {}
  },
  {
   "cell_type": "code",
   "execution_count": 82,
   "metadata": {},
   "outputs": [
    {
     "output_type": "execute_result",
     "data": {
      "text/plain": [
       "[<matplotlib.lines.Line2D at 0x7f0f5aba8ca0>]"
      ]
     },
     "metadata": {},
     "execution_count": 82
    },
    {
     "output_type": "display_data",
     "data": {
      "text/plain": "<Figure size 864x576 with 1 Axes>",
      "image/svg+xml": "<?xml version=\"1.0\" encoding=\"utf-8\" standalone=\"no\"?>\n<!DOCTYPE svg PUBLIC \"-//W3C//DTD SVG 1.1//EN\"\n  \"http://www.w3.org/Graphics/SVG/1.1/DTD/svg11.dtd\">\n<!-- Created with matplotlib (https://matplotlib.org/) -->\n<svg height=\"465.958125pt\" version=\"1.1\" viewBox=\"0 0 737.687358 465.958125\" width=\"737.687358pt\" xmlns=\"http://www.w3.org/2000/svg\" xmlns:xlink=\"http://www.w3.org/1999/xlink\">\n <metadata>\n  <rdf:RDF xmlns:cc=\"http://creativecommons.org/ns#\" xmlns:dc=\"http://purl.org/dc/elements/1.1/\" xmlns:rdf=\"http://www.w3.org/1999/02/22-rdf-syntax-ns#\">\n   <cc:Work>\n    <dc:type rdf:resource=\"http://purl.org/dc/dcmitype/StillImage\"/>\n    <dc:date>2021-01-05T06:04:32.721558</dc:date>\n    <dc:format>image/svg+xml</dc:format>\n    <dc:creator>\n     <cc:Agent>\n      <dc:title>Matplotlib v3.3.3, https://matplotlib.org/</dc:title>\n     </cc:Agent>\n    </dc:creator>\n   </cc:Work>\n  </rdf:RDF>\n </metadata>\n <defs>\n  <style type=\"text/css\">*{stroke-linecap:butt;stroke-linejoin:round;}</style>\n </defs>\n <g id=\"figure_1\">\n  <g id=\"patch_1\">\n   <path d=\"M 0 465.958125 \nL 737.687358 465.958125 \nL 737.687358 0 \nL 0 0 \nz\n\" style=\"fill:none;\"/>\n  </g>\n  <g id=\"axes_1\">\n   <g id=\"patch_2\">\n    <path d=\"M 39.65 442.08 \nL 709.25 442.08 \nL 709.25 7.2 \nL 39.65 7.2 \nz\n\" style=\"fill:#ffffff;\"/>\n   </g>\n   <g id=\"matplotlib.axis_1\">\n    <g id=\"xtick_1\">\n     <g id=\"line2d_1\">\n      <defs>\n       <path d=\"M 0 0 \nL 0 3.5 \n\" id=\"me00902c564\" style=\"stroke:#000000;stroke-width:0.8;\"/>\n      </defs>\n      <g>\n       <use style=\"stroke:#000000;stroke-width:0.8;\" x=\"82.556818\" xlink:href=\"#me00902c564\" y=\"442.08\"/>\n      </g>\n     </g>\n     <g id=\"text_1\">\n      <!-- 2020-08-22 -->\n      <g transform=\"translate(53.499006 456.678437)scale(0.1 -0.1)\">\n       <defs>\n        <path d=\"M 19.1875 8.296875 \nL 53.609375 8.296875 \nL 53.609375 0 \nL 7.328125 0 \nL 7.328125 8.296875 \nQ 12.9375 14.109375 22.625 23.890625 \nQ 32.328125 33.6875 34.8125 36.53125 \nQ 39.546875 41.84375 41.421875 45.53125 \nQ 43.3125 49.21875 43.3125 52.78125 \nQ 43.3125 58.59375 39.234375 62.25 \nQ 35.15625 65.921875 28.609375 65.921875 \nQ 23.96875 65.921875 18.8125 64.3125 \nQ 13.671875 62.703125 7.8125 59.421875 \nL 7.8125 69.390625 \nQ 13.765625 71.78125 18.9375 73 \nQ 24.125 74.21875 28.421875 74.21875 \nQ 39.75 74.21875 46.484375 68.546875 \nQ 53.21875 62.890625 53.21875 53.421875 \nQ 53.21875 48.921875 51.53125 44.890625 \nQ 49.859375 40.875 45.40625 35.40625 \nQ 44.1875 33.984375 37.640625 27.21875 \nQ 31.109375 20.453125 19.1875 8.296875 \nz\n\" id=\"DejaVuSans-50\"/>\n        <path d=\"M 31.78125 66.40625 \nQ 24.171875 66.40625 20.328125 58.90625 \nQ 16.5 51.421875 16.5 36.375 \nQ 16.5 21.390625 20.328125 13.890625 \nQ 24.171875 6.390625 31.78125 6.390625 \nQ 39.453125 6.390625 43.28125 13.890625 \nQ 47.125 21.390625 47.125 36.375 \nQ 47.125 51.421875 43.28125 58.90625 \nQ 39.453125 66.40625 31.78125 66.40625 \nz\nM 31.78125 74.21875 \nQ 44.046875 74.21875 50.515625 64.515625 \nQ 56.984375 54.828125 56.984375 36.375 \nQ 56.984375 17.96875 50.515625 8.265625 \nQ 44.046875 -1.421875 31.78125 -1.421875 \nQ 19.53125 -1.421875 13.0625 8.265625 \nQ 6.59375 17.96875 6.59375 36.375 \nQ 6.59375 54.828125 13.0625 64.515625 \nQ 19.53125 74.21875 31.78125 74.21875 \nz\n\" id=\"DejaVuSans-48\"/>\n        <path d=\"M 4.890625 31.390625 \nL 31.203125 31.390625 \nL 31.203125 23.390625 \nL 4.890625 23.390625 \nz\n\" id=\"DejaVuSans-45\"/>\n        <path d=\"M 31.78125 34.625 \nQ 24.75 34.625 20.71875 30.859375 \nQ 16.703125 27.09375 16.703125 20.515625 \nQ 16.703125 13.921875 20.71875 10.15625 \nQ 24.75 6.390625 31.78125 6.390625 \nQ 38.8125 6.390625 42.859375 10.171875 \nQ 46.921875 13.96875 46.921875 20.515625 \nQ 46.921875 27.09375 42.890625 30.859375 \nQ 38.875 34.625 31.78125 34.625 \nz\nM 21.921875 38.8125 \nQ 15.578125 40.375 12.03125 44.71875 \nQ 8.5 49.078125 8.5 55.328125 \nQ 8.5 64.0625 14.71875 69.140625 \nQ 20.953125 74.21875 31.78125 74.21875 \nQ 42.671875 74.21875 48.875 69.140625 \nQ 55.078125 64.0625 55.078125 55.328125 \nQ 55.078125 49.078125 51.53125 44.71875 \nQ 48 40.375 41.703125 38.8125 \nQ 48.828125 37.15625 52.796875 32.3125 \nQ 56.78125 27.484375 56.78125 20.515625 \nQ 56.78125 9.90625 50.3125 4.234375 \nQ 43.84375 -1.421875 31.78125 -1.421875 \nQ 19.734375 -1.421875 13.25 4.234375 \nQ 6.78125 9.90625 6.78125 20.515625 \nQ 6.78125 27.484375 10.78125 32.3125 \nQ 14.796875 37.15625 21.921875 38.8125 \nz\nM 18.3125 54.390625 \nQ 18.3125 48.734375 21.84375 45.5625 \nQ 25.390625 42.390625 31.78125 42.390625 \nQ 38.140625 42.390625 41.71875 45.5625 \nQ 45.3125 48.734375 45.3125 54.390625 \nQ 45.3125 60.0625 41.71875 63.234375 \nQ 38.140625 66.40625 31.78125 66.40625 \nQ 25.390625 66.40625 21.84375 63.234375 \nQ 18.3125 60.0625 18.3125 54.390625 \nz\n\" id=\"DejaVuSans-56\"/>\n       </defs>\n       <use xlink:href=\"#DejaVuSans-50\"/>\n       <use x=\"63.623047\" xlink:href=\"#DejaVuSans-48\"/>\n       <use x=\"127.246094\" xlink:href=\"#DejaVuSans-50\"/>\n       <use x=\"190.869141\" xlink:href=\"#DejaVuSans-48\"/>\n       <use x=\"254.492188\" xlink:href=\"#DejaVuSans-45\"/>\n       <use x=\"290.576172\" xlink:href=\"#DejaVuSans-48\"/>\n       <use x=\"354.199219\" xlink:href=\"#DejaVuSans-56\"/>\n       <use x=\"417.822266\" xlink:href=\"#DejaVuSans-45\"/>\n       <use x=\"453.90625\" xlink:href=\"#DejaVuSans-50\"/>\n       <use x=\"517.529297\" xlink:href=\"#DejaVuSans-50\"/>\n      </g>\n     </g>\n    </g>\n    <g id=\"xtick_2\">\n     <g id=\"line2d_2\">\n      <g>\n       <use style=\"stroke:#000000;stroke-width:0.8;\" x=\"184.011364\" xlink:href=\"#me00902c564\" y=\"442.08\"/>\n      </g>\n     </g>\n     <g id=\"text_2\">\n      <!-- 2020-09-01 -->\n      <g transform=\"translate(154.953551 456.678437)scale(0.1 -0.1)\">\n       <defs>\n        <path d=\"M 10.984375 1.515625 \nL 10.984375 10.5 \nQ 14.703125 8.734375 18.5 7.8125 \nQ 22.3125 6.890625 25.984375 6.890625 \nQ 35.75 6.890625 40.890625 13.453125 \nQ 46.046875 20.015625 46.78125 33.40625 \nQ 43.953125 29.203125 39.59375 26.953125 \nQ 35.25 24.703125 29.984375 24.703125 \nQ 19.046875 24.703125 12.671875 31.3125 \nQ 6.296875 37.9375 6.296875 49.421875 \nQ 6.296875 60.640625 12.9375 67.421875 \nQ 19.578125 74.21875 30.609375 74.21875 \nQ 43.265625 74.21875 49.921875 64.515625 \nQ 56.59375 54.828125 56.59375 36.375 \nQ 56.59375 19.140625 48.40625 8.859375 \nQ 40.234375 -1.421875 26.421875 -1.421875 \nQ 22.703125 -1.421875 18.890625 -0.6875 \nQ 15.09375 0.046875 10.984375 1.515625 \nz\nM 30.609375 32.421875 \nQ 37.25 32.421875 41.125 36.953125 \nQ 45.015625 41.5 45.015625 49.421875 \nQ 45.015625 57.28125 41.125 61.84375 \nQ 37.25 66.40625 30.609375 66.40625 \nQ 23.96875 66.40625 20.09375 61.84375 \nQ 16.21875 57.28125 16.21875 49.421875 \nQ 16.21875 41.5 20.09375 36.953125 \nQ 23.96875 32.421875 30.609375 32.421875 \nz\n\" id=\"DejaVuSans-57\"/>\n        <path d=\"M 12.40625 8.296875 \nL 28.515625 8.296875 \nL 28.515625 63.921875 \nL 10.984375 60.40625 \nL 10.984375 69.390625 \nL 28.421875 72.90625 \nL 38.28125 72.90625 \nL 38.28125 8.296875 \nL 54.390625 8.296875 \nL 54.390625 0 \nL 12.40625 0 \nz\n\" id=\"DejaVuSans-49\"/>\n       </defs>\n       <use xlink:href=\"#DejaVuSans-50\"/>\n       <use x=\"63.623047\" xlink:href=\"#DejaVuSans-48\"/>\n       <use x=\"127.246094\" xlink:href=\"#DejaVuSans-50\"/>\n       <use x=\"190.869141\" xlink:href=\"#DejaVuSans-48\"/>\n       <use x=\"254.492188\" xlink:href=\"#DejaVuSans-45\"/>\n       <use x=\"290.576172\" xlink:href=\"#DejaVuSans-48\"/>\n       <use x=\"354.199219\" xlink:href=\"#DejaVuSans-57\"/>\n       <use x=\"417.822266\" xlink:href=\"#DejaVuSans-45\"/>\n       <use x=\"453.90625\" xlink:href=\"#DejaVuSans-48\"/>\n       <use x=\"517.529297\" xlink:href=\"#DejaVuSans-49\"/>\n      </g>\n     </g>\n    </g>\n    <g id=\"xtick_3\">\n     <g id=\"line2d_3\">\n      <g>\n       <use style=\"stroke:#000000;stroke-width:0.8;\" x=\"255.029545\" xlink:href=\"#me00902c564\" y=\"442.08\"/>\n      </g>\n     </g>\n     <g id=\"text_3\">\n      <!-- 2020-09-08 -->\n      <g transform=\"translate(225.971733 456.678437)scale(0.1 -0.1)\">\n       <use xlink:href=\"#DejaVuSans-50\"/>\n       <use x=\"63.623047\" xlink:href=\"#DejaVuSans-48\"/>\n       <use x=\"127.246094\" xlink:href=\"#DejaVuSans-50\"/>\n       <use x=\"190.869141\" xlink:href=\"#DejaVuSans-48\"/>\n       <use x=\"254.492188\" xlink:href=\"#DejaVuSans-45\"/>\n       <use x=\"290.576172\" xlink:href=\"#DejaVuSans-48\"/>\n       <use x=\"354.199219\" xlink:href=\"#DejaVuSans-57\"/>\n       <use x=\"417.822266\" xlink:href=\"#DejaVuSans-45\"/>\n       <use x=\"453.90625\" xlink:href=\"#DejaVuSans-48\"/>\n       <use x=\"517.529297\" xlink:href=\"#DejaVuSans-56\"/>\n      </g>\n     </g>\n    </g>\n    <g id=\"xtick_4\">\n     <g id=\"line2d_4\">\n      <g>\n       <use style=\"stroke:#000000;stroke-width:0.8;\" x=\"326.047727\" xlink:href=\"#me00902c564\" y=\"442.08\"/>\n      </g>\n     </g>\n     <g id=\"text_4\">\n      <!-- 2020-09-15 -->\n      <g transform=\"translate(296.989915 456.678437)scale(0.1 -0.1)\">\n       <defs>\n        <path d=\"M 10.796875 72.90625 \nL 49.515625 72.90625 \nL 49.515625 64.59375 \nL 19.828125 64.59375 \nL 19.828125 46.734375 \nQ 21.96875 47.46875 24.109375 47.828125 \nQ 26.265625 48.1875 28.421875 48.1875 \nQ 40.625 48.1875 47.75 41.5 \nQ 54.890625 34.8125 54.890625 23.390625 \nQ 54.890625 11.625 47.5625 5.09375 \nQ 40.234375 -1.421875 26.90625 -1.421875 \nQ 22.3125 -1.421875 17.546875 -0.640625 \nQ 12.796875 0.140625 7.71875 1.703125 \nL 7.71875 11.625 \nQ 12.109375 9.234375 16.796875 8.0625 \nQ 21.484375 6.890625 26.703125 6.890625 \nQ 35.15625 6.890625 40.078125 11.328125 \nQ 45.015625 15.765625 45.015625 23.390625 \nQ 45.015625 31 40.078125 35.4375 \nQ 35.15625 39.890625 26.703125 39.890625 \nQ 22.75 39.890625 18.8125 39.015625 \nQ 14.890625 38.140625 10.796875 36.28125 \nz\n\" id=\"DejaVuSans-53\"/>\n       </defs>\n       <use xlink:href=\"#DejaVuSans-50\"/>\n       <use x=\"63.623047\" xlink:href=\"#DejaVuSans-48\"/>\n       <use x=\"127.246094\" xlink:href=\"#DejaVuSans-50\"/>\n       <use x=\"190.869141\" xlink:href=\"#DejaVuSans-48\"/>\n       <use x=\"254.492188\" xlink:href=\"#DejaVuSans-45\"/>\n       <use x=\"290.576172\" xlink:href=\"#DejaVuSans-48\"/>\n       <use x=\"354.199219\" xlink:href=\"#DejaVuSans-57\"/>\n       <use x=\"417.822266\" xlink:href=\"#DejaVuSans-45\"/>\n       <use x=\"453.90625\" xlink:href=\"#DejaVuSans-49\"/>\n       <use x=\"517.529297\" xlink:href=\"#DejaVuSans-53\"/>\n      </g>\n     </g>\n    </g>\n    <g id=\"xtick_5\">\n     <g id=\"line2d_5\">\n      <g>\n       <use style=\"stroke:#000000;stroke-width:0.8;\" x=\"397.065909\" xlink:href=\"#me00902c564\" y=\"442.08\"/>\n      </g>\n     </g>\n     <g id=\"text_5\">\n      <!-- 2020-09-22 -->\n      <g transform=\"translate(368.008097 456.678437)scale(0.1 -0.1)\">\n       <use xlink:href=\"#DejaVuSans-50\"/>\n       <use x=\"63.623047\" xlink:href=\"#DejaVuSans-48\"/>\n       <use x=\"127.246094\" xlink:href=\"#DejaVuSans-50\"/>\n       <use x=\"190.869141\" xlink:href=\"#DejaVuSans-48\"/>\n       <use x=\"254.492188\" xlink:href=\"#DejaVuSans-45\"/>\n       <use x=\"290.576172\" xlink:href=\"#DejaVuSans-48\"/>\n       <use x=\"354.199219\" xlink:href=\"#DejaVuSans-57\"/>\n       <use x=\"417.822266\" xlink:href=\"#DejaVuSans-45\"/>\n       <use x=\"453.90625\" xlink:href=\"#DejaVuSans-50\"/>\n       <use x=\"517.529297\" xlink:href=\"#DejaVuSans-50\"/>\n      </g>\n     </g>\n    </g>\n    <g id=\"xtick_6\">\n     <g id=\"line2d_6\">\n      <g>\n       <use style=\"stroke:#000000;stroke-width:0.8;\" x=\"488.375\" xlink:href=\"#me00902c564\" y=\"442.08\"/>\n      </g>\n     </g>\n     <g id=\"text_6\">\n      <!-- 2020-10-01 -->\n      <g transform=\"translate(459.317187 456.678437)scale(0.1 -0.1)\">\n       <use xlink:href=\"#DejaVuSans-50\"/>\n       <use x=\"63.623047\" xlink:href=\"#DejaVuSans-48\"/>\n       <use x=\"127.246094\" xlink:href=\"#DejaVuSans-50\"/>\n       <use x=\"190.869141\" xlink:href=\"#DejaVuSans-48\"/>\n       <use x=\"254.492188\" xlink:href=\"#DejaVuSans-45\"/>\n       <use x=\"290.576172\" xlink:href=\"#DejaVuSans-49\"/>\n       <use x=\"354.199219\" xlink:href=\"#DejaVuSans-48\"/>\n       <use x=\"417.822266\" xlink:href=\"#DejaVuSans-45\"/>\n       <use x=\"453.90625\" xlink:href=\"#DejaVuSans-48\"/>\n       <use x=\"517.529297\" xlink:href=\"#DejaVuSans-49\"/>\n      </g>\n     </g>\n    </g>\n    <g id=\"xtick_7\">\n     <g id=\"line2d_7\">\n      <g>\n       <use style=\"stroke:#000000;stroke-width:0.8;\" x=\"559.393182\" xlink:href=\"#me00902c564\" y=\"442.08\"/>\n      </g>\n     </g>\n     <g id=\"text_7\">\n      <!-- 2020-10-08 -->\n      <g transform=\"translate(530.335369 456.678437)scale(0.1 -0.1)\">\n       <use xlink:href=\"#DejaVuSans-50\"/>\n       <use x=\"63.623047\" xlink:href=\"#DejaVuSans-48\"/>\n       <use x=\"127.246094\" xlink:href=\"#DejaVuSans-50\"/>\n       <use x=\"190.869141\" xlink:href=\"#DejaVuSans-48\"/>\n       <use x=\"254.492188\" xlink:href=\"#DejaVuSans-45\"/>\n       <use x=\"290.576172\" xlink:href=\"#DejaVuSans-49\"/>\n       <use x=\"354.199219\" xlink:href=\"#DejaVuSans-48\"/>\n       <use x=\"417.822266\" xlink:href=\"#DejaVuSans-45\"/>\n       <use x=\"453.90625\" xlink:href=\"#DejaVuSans-48\"/>\n       <use x=\"517.529297\" xlink:href=\"#DejaVuSans-56\"/>\n      </g>\n     </g>\n    </g>\n    <g id=\"xtick_8\">\n     <g id=\"line2d_8\">\n      <g>\n       <use style=\"stroke:#000000;stroke-width:0.8;\" x=\"630.411364\" xlink:href=\"#me00902c564\" y=\"442.08\"/>\n      </g>\n     </g>\n     <g id=\"text_8\">\n      <!-- 2020-10-15 -->\n      <g transform=\"translate(601.353551 456.678437)scale(0.1 -0.1)\">\n       <use xlink:href=\"#DejaVuSans-50\"/>\n       <use x=\"63.623047\" xlink:href=\"#DejaVuSans-48\"/>\n       <use x=\"127.246094\" xlink:href=\"#DejaVuSans-50\"/>\n       <use x=\"190.869141\" xlink:href=\"#DejaVuSans-48\"/>\n       <use x=\"254.492188\" xlink:href=\"#DejaVuSans-45\"/>\n       <use x=\"290.576172\" xlink:href=\"#DejaVuSans-49\"/>\n       <use x=\"354.199219\" xlink:href=\"#DejaVuSans-48\"/>\n       <use x=\"417.822266\" xlink:href=\"#DejaVuSans-45\"/>\n       <use x=\"453.90625\" xlink:href=\"#DejaVuSans-49\"/>\n       <use x=\"517.529297\" xlink:href=\"#DejaVuSans-53\"/>\n      </g>\n     </g>\n    </g>\n    <g id=\"xtick_9\">\n     <g id=\"line2d_9\">\n      <g>\n       <use style=\"stroke:#000000;stroke-width:0.8;\" x=\"701.429545\" xlink:href=\"#me00902c564\" y=\"442.08\"/>\n      </g>\n     </g>\n     <g id=\"text_9\">\n      <!-- 2020-10-22 -->\n      <g transform=\"translate(672.371733 456.678437)scale(0.1 -0.1)\">\n       <use xlink:href=\"#DejaVuSans-50\"/>\n       <use x=\"63.623047\" xlink:href=\"#DejaVuSans-48\"/>\n       <use x=\"127.246094\" xlink:href=\"#DejaVuSans-50\"/>\n       <use x=\"190.869141\" xlink:href=\"#DejaVuSans-48\"/>\n       <use x=\"254.492188\" xlink:href=\"#DejaVuSans-45\"/>\n       <use x=\"290.576172\" xlink:href=\"#DejaVuSans-49\"/>\n       <use x=\"354.199219\" xlink:href=\"#DejaVuSans-48\"/>\n       <use x=\"417.822266\" xlink:href=\"#DejaVuSans-45\"/>\n       <use x=\"453.90625\" xlink:href=\"#DejaVuSans-50\"/>\n       <use x=\"517.529297\" xlink:href=\"#DejaVuSans-50\"/>\n      </g>\n     </g>\n    </g>\n   </g>\n   <g id=\"matplotlib.axis_2\">\n    <g id=\"ytick_1\">\n     <g id=\"line2d_10\">\n      <defs>\n       <path d=\"M 0 0 \nL -3.5 0 \n\" id=\"ma1588cc835\" style=\"stroke:#000000;stroke-width:0.8;\"/>\n      </defs>\n      <g>\n       <use style=\"stroke:#000000;stroke-width:0.8;\" x=\"39.65\" xlink:href=\"#ma1588cc835\" y=\"426.751773\"/>\n      </g>\n     </g>\n     <g id=\"text_10\">\n      <!-- 0 -->\n      <g transform=\"translate(26.2875 430.550992)scale(0.1 -0.1)\">\n       <use xlink:href=\"#DejaVuSans-48\"/>\n      </g>\n     </g>\n    </g>\n    <g id=\"ytick_2\">\n     <g id=\"line2d_11\">\n      <g>\n       <use style=\"stroke:#000000;stroke-width:0.8;\" x=\"39.65\" xlink:href=\"#ma1588cc835\" y=\"368.421727\"/>\n      </g>\n     </g>\n     <g id=\"text_11\">\n      <!-- 200 -->\n      <g transform=\"translate(13.5625 372.220946)scale(0.1 -0.1)\">\n       <use xlink:href=\"#DejaVuSans-50\"/>\n       <use x=\"63.623047\" xlink:href=\"#DejaVuSans-48\"/>\n       <use x=\"127.246094\" xlink:href=\"#DejaVuSans-48\"/>\n      </g>\n     </g>\n    </g>\n    <g id=\"ytick_3\">\n     <g id=\"line2d_12\">\n      <g>\n       <use style=\"stroke:#000000;stroke-width:0.8;\" x=\"39.65\" xlink:href=\"#ma1588cc835\" y=\"310.091681\"/>\n      </g>\n     </g>\n     <g id=\"text_12\">\n      <!-- 400 -->\n      <g transform=\"translate(13.5625 313.8909)scale(0.1 -0.1)\">\n       <defs>\n        <path d=\"M 37.796875 64.3125 \nL 12.890625 25.390625 \nL 37.796875 25.390625 \nz\nM 35.203125 72.90625 \nL 47.609375 72.90625 \nL 47.609375 25.390625 \nL 58.015625 25.390625 \nL 58.015625 17.1875 \nL 47.609375 17.1875 \nL 47.609375 0 \nL 37.796875 0 \nL 37.796875 17.1875 \nL 4.890625 17.1875 \nL 4.890625 26.703125 \nz\n\" id=\"DejaVuSans-52\"/>\n       </defs>\n       <use xlink:href=\"#DejaVuSans-52\"/>\n       <use x=\"63.623047\" xlink:href=\"#DejaVuSans-48\"/>\n       <use x=\"127.246094\" xlink:href=\"#DejaVuSans-48\"/>\n      </g>\n     </g>\n    </g>\n    <g id=\"ytick_4\">\n     <g id=\"line2d_13\">\n      <g>\n       <use style=\"stroke:#000000;stroke-width:0.8;\" x=\"39.65\" xlink:href=\"#ma1588cc835\" y=\"251.761636\"/>\n      </g>\n     </g>\n     <g id=\"text_13\">\n      <!-- 600 -->\n      <g transform=\"translate(13.5625 255.560854)scale(0.1 -0.1)\">\n       <defs>\n        <path d=\"M 33.015625 40.375 \nQ 26.375 40.375 22.484375 35.828125 \nQ 18.609375 31.296875 18.609375 23.390625 \nQ 18.609375 15.53125 22.484375 10.953125 \nQ 26.375 6.390625 33.015625 6.390625 \nQ 39.65625 6.390625 43.53125 10.953125 \nQ 47.40625 15.53125 47.40625 23.390625 \nQ 47.40625 31.296875 43.53125 35.828125 \nQ 39.65625 40.375 33.015625 40.375 \nz\nM 52.59375 71.296875 \nL 52.59375 62.3125 \nQ 48.875 64.0625 45.09375 64.984375 \nQ 41.3125 65.921875 37.59375 65.921875 \nQ 27.828125 65.921875 22.671875 59.328125 \nQ 17.53125 52.734375 16.796875 39.40625 \nQ 19.671875 43.65625 24.015625 45.921875 \nQ 28.375 48.1875 33.59375 48.1875 \nQ 44.578125 48.1875 50.953125 41.515625 \nQ 57.328125 34.859375 57.328125 23.390625 \nQ 57.328125 12.15625 50.6875 5.359375 \nQ 44.046875 -1.421875 33.015625 -1.421875 \nQ 20.359375 -1.421875 13.671875 8.265625 \nQ 6.984375 17.96875 6.984375 36.375 \nQ 6.984375 53.65625 15.1875 63.9375 \nQ 23.390625 74.21875 37.203125 74.21875 \nQ 40.921875 74.21875 44.703125 73.484375 \nQ 48.484375 72.75 52.59375 71.296875 \nz\n\" id=\"DejaVuSans-54\"/>\n       </defs>\n       <use xlink:href=\"#DejaVuSans-54\"/>\n       <use x=\"63.623047\" xlink:href=\"#DejaVuSans-48\"/>\n       <use x=\"127.246094\" xlink:href=\"#DejaVuSans-48\"/>\n      </g>\n     </g>\n    </g>\n    <g id=\"ytick_5\">\n     <g id=\"line2d_14\">\n      <g>\n       <use style=\"stroke:#000000;stroke-width:0.8;\" x=\"39.65\" xlink:href=\"#ma1588cc835\" y=\"193.43159\"/>\n      </g>\n     </g>\n     <g id=\"text_14\">\n      <!-- 800 -->\n      <g transform=\"translate(13.5625 197.230809)scale(0.1 -0.1)\">\n       <use xlink:href=\"#DejaVuSans-56\"/>\n       <use x=\"63.623047\" xlink:href=\"#DejaVuSans-48\"/>\n       <use x=\"127.246094\" xlink:href=\"#DejaVuSans-48\"/>\n      </g>\n     </g>\n    </g>\n    <g id=\"ytick_6\">\n     <g id=\"line2d_15\">\n      <g>\n       <use style=\"stroke:#000000;stroke-width:0.8;\" x=\"39.65\" xlink:href=\"#ma1588cc835\" y=\"135.101544\"/>\n      </g>\n     </g>\n     <g id=\"text_15\">\n      <!-- 1000 -->\n      <g transform=\"translate(7.2 138.900763)scale(0.1 -0.1)\">\n       <use xlink:href=\"#DejaVuSans-49\"/>\n       <use x=\"63.623047\" xlink:href=\"#DejaVuSans-48\"/>\n       <use x=\"127.246094\" xlink:href=\"#DejaVuSans-48\"/>\n       <use x=\"190.869141\" xlink:href=\"#DejaVuSans-48\"/>\n      </g>\n     </g>\n    </g>\n    <g id=\"ytick_7\">\n     <g id=\"line2d_16\">\n      <g>\n       <use style=\"stroke:#000000;stroke-width:0.8;\" x=\"39.65\" xlink:href=\"#ma1588cc835\" y=\"76.771498\"/>\n      </g>\n     </g>\n     <g id=\"text_16\">\n      <!-- 1200 -->\n      <g transform=\"translate(7.2 80.570717)scale(0.1 -0.1)\">\n       <use xlink:href=\"#DejaVuSans-49\"/>\n       <use x=\"63.623047\" xlink:href=\"#DejaVuSans-50\"/>\n       <use x=\"127.246094\" xlink:href=\"#DejaVuSans-48\"/>\n       <use x=\"190.869141\" xlink:href=\"#DejaVuSans-48\"/>\n      </g>\n     </g>\n    </g>\n    <g id=\"ytick_8\">\n     <g id=\"line2d_17\">\n      <g>\n       <use style=\"stroke:#000000;stroke-width:0.8;\" x=\"39.65\" xlink:href=\"#ma1588cc835\" y=\"18.441452\"/>\n      </g>\n     </g>\n     <g id=\"text_17\">\n      <!-- 1400 -->\n      <g transform=\"translate(7.2 22.240671)scale(0.1 -0.1)\">\n       <use xlink:href=\"#DejaVuSans-49\"/>\n       <use x=\"63.623047\" xlink:href=\"#DejaVuSans-52\"/>\n       <use x=\"127.246094\" xlink:href=\"#DejaVuSans-48\"/>\n       <use x=\"190.869141\" xlink:href=\"#DejaVuSans-48\"/>\n      </g>\n     </g>\n    </g>\n   </g>\n   <g id=\"line2d_18\">\n    <path clip-path=\"url(#p6d0969b450)\" d=\"M 70.086364 90.468556 \nL 80.231818 176.882736 \nL 90.377273 387.589154 \nL 100.522727 360.476564 \nL 110.668182 69.030805 \nL 120.813636 93.509594 \nL 130.959091 29.208017 \nL 141.104545 61.411442 \nL 151.25 65.855335 \nL 161.395455 261.239022 \nL 171.540909 26.967273 \nL 181.686364 73.628675 \nL 191.831818 131.371629 \nL 201.977273 110.274818 \nL 212.122727 108.143158 \nL 222.268182 92.504554 \nL 232.413636 105.829502 \nL 242.559091 99.188015 \nL 252.704545 61.412333 \nL 262.85 90.283071 \nL 272.995455 88.062157 \nL 283.140909 121.477398 \nL 293.286364 88.158674 \nL 303.431818 131.403119 \nL 313.577273 81.399416 \nL 323.722727 107.045945 \nL 333.868182 102.596535 \nL 344.013636 111.444054 \nL 354.159091 75.963336 \nL 364.304545 131.818432 \nL 374.45 141.849658 \nL 384.595455 154.801054 \nL 394.740909 168.906483 \nL 404.886364 121.770508 \nL 415.031818 103.675947 \nL 425.177273 117.700222 \nL 435.322727 131.749898 \nL 445.468182 115.664224 \nL 455.613636 117.671349 \nL 465.759091 125.699313 \nL 475.904545 153.800909 \nL 486.05 129.765505 \nL 496.195455 157.813111 \nL 506.340909 157.889192 \nL 516.486364 157.89982 \nL 526.631818 159.835385 \nL 536.777273 164.921925 \nL 546.922727 167.932381 \nL 557.068182 164.919754 \nL 567.213636 159.907122 \nL 577.359091 167.93231 \nL 587.504545 168.935516 \nL 597.65 165.925844 \nL 607.795455 168.935213 \nL 617.940909 161.912912 \nL 628.086364 203.043658 \nL 638.231818 148.871978 \nL 648.377273 174.954878 \nL 658.522727 177.959638 \nL 668.668182 167.846687 \nL 678.813636 196.021552 \n\" style=\"fill:none;stroke:#1f77b4;stroke-linecap:square;stroke-width:1.5;\"/>\n   </g>\n   <g id=\"line2d_19\">\n    <path clip-path=\"url(#p6d0969b450)\" d=\"M 70.086364 364.024658 \nL 80.231818 383.322176 \nL 90.377273 422.312727 \nL 100.522727 420.331275 \nL 110.668182 385.385481 \nL 120.813636 372.788087 \nL 130.959091 366.558652 \nL 141.104545 372.507325 \nL 151.25 359.468948 \nL 161.395455 408.332931 \nL 171.540909 403.31932 \nL 181.686364 353.918178 \nL 191.831818 346.485107 \nL 201.977273 388.442397 \nL 212.122727 353.020667 \nL 222.268182 346.978756 \nL 232.413636 353.962237 \nL 242.559091 339.688778 \nL 252.704545 347.674996 \nL 262.85 362.11185 \nL 272.995455 352.766812 \nL 283.140909 360.7658 \nL 293.286364 358.18888 \nL 303.431818 346.26547 \nL 313.577273 361.602261 \nL 323.722727 350.791826 \nL 333.868182 363.791931 \nL 344.013636 355.893358 \nL 354.159091 358.2048 \nL 364.304545 362.47139 \nL 374.45 366.447416 \nL 384.595455 361.544643 \nL 394.740909 352.120491 \nL 404.886364 358.726439 \nL 415.031818 356.774428 \nL 425.177273 360.032409 \nL 435.322727 356.744045 \nL 445.468182 354.380048 \nL 455.613636 370.590277 \nL 465.759091 355.350947 \nL 475.904545 361.465674 \nL 486.05 354.611141 \nL 496.195455 351.496673 \nL 506.340909 349.721468 \nL 516.486364 349.212517 \nL 526.631818 351.903552 \nL 536.777273 351.252874 \nL 546.922727 352.646131 \nL 557.068182 351.041307 \nL 567.213636 349.870219 \nL 577.359091 352.060251 \nL 587.504545 352.731169 \nL 597.65 351.939861 \nL 607.795455 352.438695 \nL 617.940909 353.811179 \nL 628.086364 375.774358 \nL 638.231818 384.402026 \nL 648.377273 374.519649 \nL 658.522727 375.909427 \nL 668.668182 386.447634 \nL 678.813636 379.467656 \n\" style=\"fill:none;stroke:#ff7f0e;stroke-linecap:square;stroke-width:1.5;\"/>\n   </g>\n   <g id=\"patch_3\">\n    <path d=\"M 39.65 442.08 \nL 39.65 7.2 \n\" style=\"fill:none;stroke:#000000;stroke-linecap:square;stroke-linejoin:miter;stroke-width:0.8;\"/>\n   </g>\n   <g id=\"patch_4\">\n    <path d=\"M 709.25 442.08 \nL 709.25 7.2 \n\" style=\"fill:none;stroke:#000000;stroke-linecap:square;stroke-linejoin:miter;stroke-width:0.8;\"/>\n   </g>\n   <g id=\"patch_5\">\n    <path d=\"M 39.65 442.08 \nL 709.25 442.08 \n\" style=\"fill:none;stroke:#000000;stroke-linecap:square;stroke-linejoin:miter;stroke-width:0.8;\"/>\n   </g>\n   <g id=\"patch_6\">\n    <path d=\"M 39.65 7.2 \nL 709.25 7.2 \n\" style=\"fill:none;stroke:#000000;stroke-linecap:square;stroke-linejoin:miter;stroke-width:0.8;\"/>\n   </g>\n  </g>\n </g>\n <defs>\n  <clipPath id=\"p6d0969b450\">\n   <rect height=\"434.88\" width=\"669.6\" x=\"39.65\" y=\"7.2\"/>\n  </clipPath>\n </defs>\n</svg>\n",
      "image/png": "[encoded data removed]"
     },
     "metadata": {
      "needs_background": "light"
     }
    }
   ],
   "source": [
    "plt.plot(df.resample('D').max()['irradiance'])\n",
    "plt.plot(df.resample('D').mean()['irradiance'])"
   ]
  },
  {
   "cell_type": "code",
   "execution_count": 92,
   "metadata": {},
   "outputs": [
    {
     "output_type": "execute_result",
     "data": {
      "text/plain": [
       "                           ambient_temp  wind_speed  irradiance\n",
       "date_time                                                      \n",
       "2020-08-21 11:56:01+05:30     28.185780     0.28164    0.000000\n",
       "2020-08-21 12:56:01+05:30     28.456940     0.28164   48.187481\n",
       "2020-08-21 13:56:01+05:30     28.848610     0.28164  127.351303\n",
       "2020-08-21 14:56:01+05:30     29.149891     0.28164  216.841507\n",
       "2020-08-21 15:56:01+05:30     29.888050     0.28164   99.814743\n",
       "...                                 ...         ...         ...\n",
       "2020-10-20 13:56:01+05:30     29.872990     0.28164  254.702103\n",
       "2020-10-20 14:56:01+05:30     31.268909     2.68122  461.066406\n",
       "2020-10-20 15:56:01+05:30     33.281879     1.08150  643.427978\n",
       "2020-10-20 16:56:01+05:30     34.485661     2.68122  736.276489\n",
       "2020-10-20 17:56:01+05:30     35.842972     1.88136  780.800720\n",
       "\n",
       "[1447 rows x 3 columns]"
      ],
      "text/html": "<div>\n<style scoped>\n    .dataframe tbody tr th:only-of-type {\n        vertical-align: middle;\n    }\n\n    .dataframe tbody tr th {\n        vertical-align: top;\n    }\n\n    .dataframe thead th {\n        text-align: right;\n    }\n</style>\n<table border=\"1\" class=\"dataframe\">\n  <thead>\n    <tr style=\"text-align: right;\">\n      <th></th>\n      <th>ambient_temp</th>\n      <th>wind_speed</th>\n      <th>irradiance</th>\n    </tr>\n    <tr>\n      <th>date_time</th>\n      <th></th>\n      <th></th>\n      <th></th>\n    </tr>\n  </thead>\n  <tbody>\n    <tr>\n      <th>2020-08-21 11:56:01+05:30</th>\n      <td>28.185780</td>\n      <td>0.28164</td>\n      <td>0.000000</td>\n    </tr>\n    <tr>\n      <th>2020-08-21 12:56:01+05:30</th>\n      <td>28.456940</td>\n      <td>0.28164</td>\n      <td>48.187481</td>\n    </tr>\n    <tr>\n      <th>2020-08-21 13:56:01+05:30</th>\n      <td>28.848610</td>\n      <td>0.28164</td>\n      <td>127.351303</td>\n    </tr>\n    <tr>\n      <th>2020-08-21 14:56:01+05:30</th>\n      <td>29.149891</td>\n      <td>0.28164</td>\n      <td>216.841507</td>\n    </tr>\n    <tr>\n      <th>2020-08-21 15:56:01+05:30</th>\n      <td>29.888050</td>\n      <td>0.28164</td>\n      <td>99.814743</td>\n    </tr>\n    <tr>\n      <th>...</th>\n      <td>...</td>\n      <td>...</td>\n      <td>...</td>\n    </tr>\n    <tr>\n      <th>2020-10-20 13:56:01+05:30</th>\n      <td>29.872990</td>\n      <td>0.28164</td>\n      <td>254.702103</td>\n    </tr>\n    <tr>\n      <th>2020-10-20 14:56:01+05:30</th>\n      <td>31.268909</td>\n      <td>2.68122</td>\n      <td>461.066406</td>\n    </tr>\n    <tr>\n      <th>2020-10-20 15:56:01+05:30</th>\n      <td>33.281879</td>\n      <td>1.08150</td>\n      <td>643.427978</td>\n    </tr>\n    <tr>\n      <th>2020-10-20 16:56:01+05:30</th>\n      <td>34.485661</td>\n      <td>2.68122</td>\n      <td>736.276489</td>\n    </tr>\n    <tr>\n      <th>2020-10-20 17:56:01+05:30</th>\n      <td>35.842972</td>\n      <td>1.88136</td>\n      <td>780.800720</td>\n    </tr>\n  </tbody>\n</table>\n<p>1447 rows × 3 columns</p>\n</div>"
     },
     "metadata": {},
     "execution_count": 92
    }
   ],
   "source": [
    "df = df.asfreq('H')\n",
    "df"
   ]
  },
  {
   "source": [
    "## Now, we have hourly data \n",
    "\n",
    "## Fitting a baseline naive model that just predict's the currunt value as the next value"
   ],
   "cell_type": "markdown",
   "metadata": {}
  },
  {
   "source": [
    "### Splitting the dataset"
   ],
   "cell_type": "markdown",
   "metadata": {}
  },
  {
   "cell_type": "code",
   "execution_count": 117,
   "metadata": {},
   "outputs": [],
   "source": [
    "split = int(df.shape[0]*0.7)"
   ]
  },
  {
   "cell_type": "code",
   "execution_count": 118,
   "metadata": {},
   "outputs": [],
   "source": [
    "split = int(df.shape[0]*0.7)\n",
    "train_df = df[:split]\n",
    "test_df = df[split:]"
   ]
  },
  {
   "cell_type": "code",
   "execution_count": 119,
   "metadata": {},
   "outputs": [
    {
     "output_type": "execute_result",
     "data": {
      "text/plain": [
       "(                           ambient_temp  wind_speed  irradiance\n",
       " date_time                                                      \n",
       " 2020-08-21 11:56:01+05:30     28.185780     0.28164    0.000000\n",
       " 2020-08-21 12:56:01+05:30     28.456940     0.28164   48.187481\n",
       " 2020-08-21 13:56:01+05:30     28.848610     0.28164  127.351303\n",
       " 2020-08-21 14:56:01+05:30     29.149891     0.28164  216.841507\n",
       " 2020-08-21 15:56:01+05:30     29.888050     0.28164   99.814743\n",
       " ...                                 ...         ...         ...\n",
       " 2020-10-02 10:56:01+05:30     27.094730     0.28164    0.000000\n",
       " 2020-10-02 11:56:01+05:30     27.138161     0.28164    0.000000\n",
       " 2020-10-02 12:56:01+05:30     27.261829     0.28164  110.151001\n",
       " 2020-10-02 13:56:01+05:30     28.336430     1.88136  344.192810\n",
       " 2020-10-02 14:56:01+05:30     29.760260     1.08150  536.787170\n",
       " \n",
       " [1012 rows x 3 columns],\n",
       "                            ambient_temp  wind_speed  irradiance\n",
       " date_time                                                      \n",
       " 2020-10-02 15:56:01+05:30     31.043110     1.08150  729.444824\n",
       " 2020-10-02 16:56:01+05:30     32.272419     0.28164  846.435120\n",
       " 2020-10-02 17:56:01+05:30     33.702839     2.68122  887.660095\n",
       " 2020-10-02 18:56:01+05:30     34.741581     1.08150  873.734070\n",
       " 2020-10-02 19:56:01+05:30     35.484921     0.28164  770.481689\n",
       " ...                                 ...         ...         ...\n",
       " 2020-10-20 13:56:01+05:30     29.872990     0.28164  254.702103\n",
       " 2020-10-20 14:56:01+05:30     31.268909     2.68122  461.066406\n",
       " 2020-10-20 15:56:01+05:30     33.281879     1.08150  643.427978\n",
       " 2020-10-20 16:56:01+05:30     34.485661     2.68122  736.276489\n",
       " 2020-10-20 17:56:01+05:30     35.842972     1.88136  780.800720\n",
       " \n",
       " [435 rows x 3 columns])"
      ]
     },
     "metadata": {},
     "execution_count": 119
    }
   ],
   "source": [
    "train_df,test_df"
   ]
  },
  {
   "cell_type": "code",
   "execution_count": 121,
   "metadata": {},
   "outputs": [
    {
     "output_type": "execute_result",
     "data": {
      "text/plain": [
       "                           ambient_temp  wind_speed  irradiance\n",
       "date_time                                                      \n",
       "2020-10-02 14:56:01+05:30     29.760260     1.08150  536.787170\n",
       "2020-10-02 15:56:01+05:30     31.043110     1.08150  729.444824\n",
       "2020-10-02 16:56:01+05:30     32.272419     0.28164  846.435120\n",
       "2020-10-02 17:56:01+05:30     33.702839     2.68122  887.660095\n",
       "2020-10-02 18:56:01+05:30     34.741581     1.08150  873.734070\n",
       "...                                 ...         ...         ...\n",
       "2020-10-20 12:56:01+05:30     28.080339     0.28164   68.841080\n",
       "2020-10-20 13:56:01+05:30     29.872990     0.28164  254.702103\n",
       "2020-10-20 14:56:01+05:30     31.268909     2.68122  461.066406\n",
       "2020-10-20 15:56:01+05:30     33.281879     1.08150  643.427978\n",
       "2020-10-20 16:56:01+05:30     34.485661     2.68122  736.276489\n",
       "\n",
       "[435 rows x 3 columns]"
      ],
      "text/html": "<div>\n<style scoped>\n    .dataframe tbody tr th:only-of-type {\n        vertical-align: middle;\n    }\n\n    .dataframe tbody tr th {\n        vertical-align: top;\n    }\n\n    .dataframe thead th {\n        text-align: right;\n    }\n</style>\n<table border=\"1\" class=\"dataframe\">\n  <thead>\n    <tr style=\"text-align: right;\">\n      <th></th>\n      <th>ambient_temp</th>\n      <th>wind_speed</th>\n      <th>irradiance</th>\n    </tr>\n    <tr>\n      <th>date_time</th>\n      <th></th>\n      <th></th>\n      <th></th>\n    </tr>\n  </thead>\n  <tbody>\n    <tr>\n      <th>2020-10-02 14:56:01+05:30</th>\n      <td>29.760260</td>\n      <td>1.08150</td>\n      <td>536.787170</td>\n    </tr>\n    <tr>\n      <th>2020-10-02 15:56:01+05:30</th>\n      <td>31.043110</td>\n      <td>1.08150</td>\n      <td>729.444824</td>\n    </tr>\n    <tr>\n      <th>2020-10-02 16:56:01+05:30</th>\n      <td>32.272419</td>\n      <td>0.28164</td>\n      <td>846.435120</td>\n    </tr>\n    <tr>\n      <th>2020-10-02 17:56:01+05:30</th>\n      <td>33.702839</td>\n      <td>2.68122</td>\n      <td>887.660095</td>\n    </tr>\n    <tr>\n      <th>2020-10-02 18:56:01+05:30</th>\n      <td>34.741581</td>\n      <td>1.08150</td>\n      <td>873.734070</td>\n    </tr>\n    <tr>\n      <th>...</th>\n      <td>...</td>\n      <td>...</td>\n      <td>...</td>\n    </tr>\n    <tr>\n      <th>2020-10-20 12:56:01+05:30</th>\n      <td>28.080339</td>\n      <td>0.28164</td>\n      <td>68.841080</td>\n    </tr>\n    <tr>\n      <th>2020-10-20 13:56:01+05:30</th>\n      <td>29.872990</td>\n      <td>0.28164</td>\n      <td>254.702103</td>\n    </tr>\n    <tr>\n      <th>2020-10-20 14:56:01+05:30</th>\n      <td>31.268909</td>\n      <td>2.68122</td>\n      <td>461.066406</td>\n    </tr>\n    <tr>\n      <th>2020-10-20 15:56:01+05:30</th>\n      <td>33.281879</td>\n      <td>1.08150</td>\n      <td>643.427978</td>\n    </tr>\n    <tr>\n      <th>2020-10-20 16:56:01+05:30</th>\n      <td>34.485661</td>\n      <td>2.68122</td>\n      <td>736.276489</td>\n    </tr>\n  </tbody>\n</table>\n<p>435 rows × 3 columns</p>\n</div>"
     },
     "metadata": {},
     "execution_count": 121
    }
   ],
   "source": [
    "naive_forecast = df[split - 1:-1]\n",
    "naive_forecast"
   ]
  },
  {
   "cell_type": "code",
   "execution_count": 125,
   "metadata": {},
   "outputs": [
    {
     "output_type": "display_data",
     "data": {
      "text/plain": "<Figure size 864x576 with 1 Axes>",
      "image/svg+xml": "<?xml version=\"1.0\" encoding=\"utf-8\" standalone=\"no\"?>\n<!DOCTYPE svg PUBLIC \"-//W3C//DTD SVG 1.1//EN\"\n  \"http://www.w3.org/Graphics/SVG/1.1/DTD/svg11.dtd\">\n<!-- Created with matplotlib (https://matplotlib.org/) -->\n<svg height=\"465.958125pt\" version=\"1.1\" viewBox=\"0 0 717.21765 465.958125\" width=\"717.21765pt\" xmlns=\"http://www.w3.org/2000/svg\" xmlns:xlink=\"http://www.w3.org/1999/xlink\">\n <metadata>\n  <rdf:RDF xmlns:cc=\"http://creativecommons.org/ns#\" xmlns:dc=\"http://purl.org/dc/elements/1.1/\" xmlns:rdf=\"http://www.w3.org/1999/02/22-rdf-syntax-ns#\">\n   <cc:Work>\n    <dc:type rdf:resource=\"http://purl.org/dc/dcmitype/StillImage\"/>\n    <dc:date>2021-01-05T06:41:02.300130</dc:date>\n    <dc:format>image/svg+xml</dc:format>\n    <dc:creator>\n     <cc:Agent>\n      <dc:title>Matplotlib v3.3.3, https://matplotlib.org/</dc:title>\n     </cc:Agent>\n    </dc:creator>\n   </cc:Work>\n  </rdf:RDF>\n </metadata>\n <defs>\n  <style type=\"text/css\">*{stroke-linecap:butt;stroke-linejoin:round;}</style>\n </defs>\n <g id=\"figure_1\">\n  <g id=\"patch_1\">\n   <path d=\"M 0 465.958125 \nL 717.21765 465.958125 \nL 717.21765 0 \nL 0 0 \nz\n\" style=\"fill:none;\"/>\n  </g>\n  <g id=\"axes_1\">\n   <g id=\"patch_2\">\n    <path d=\"M 33.2875 442.08 \nL 702.8875 442.08 \nL 702.8875 7.2 \nL 33.2875 7.2 \nz\n\" style=\"fill:#ffffff;\"/>\n   </g>\n   <g id=\"matplotlib.axis_1\">\n    <g id=\"xtick_1\">\n     <g id=\"line2d_1\">\n      <defs>\n       <path d=\"M 0 0 \nL 0 3.5 \n\" id=\"m2f6a11490f\" style=\"stroke:#000000;stroke-width:0.8;\"/>\n      </defs>\n      <g>\n       <use style=\"stroke:#000000;stroke-width:0.8;\" x=\"75.03776\" xlink:href=\"#m2f6a11490f\" y=\"442.08\"/>\n      </g>\n     </g>\n     <g id=\"text_1\">\n      <!-- 2020-10-03 -->\n      <g transform=\"translate(45.979947 456.678437)scale(0.1 -0.1)\">\n       <defs>\n        <path d=\"M 19.1875 8.296875 \nL 53.609375 8.296875 \nL 53.609375 0 \nL 7.328125 0 \nL 7.328125 8.296875 \nQ 12.9375 14.109375 22.625 23.890625 \nQ 32.328125 33.6875 34.8125 36.53125 \nQ 39.546875 41.84375 41.421875 45.53125 \nQ 43.3125 49.21875 43.3125 52.78125 \nQ 43.3125 58.59375 39.234375 62.25 \nQ 35.15625 65.921875 28.609375 65.921875 \nQ 23.96875 65.921875 18.8125 64.3125 \nQ 13.671875 62.703125 7.8125 59.421875 \nL 7.8125 69.390625 \nQ 13.765625 71.78125 18.9375 73 \nQ 24.125 74.21875 28.421875 74.21875 \nQ 39.75 74.21875 46.484375 68.546875 \nQ 53.21875 62.890625 53.21875 53.421875 \nQ 53.21875 48.921875 51.53125 44.890625 \nQ 49.859375 40.875 45.40625 35.40625 \nQ 44.1875 33.984375 37.640625 27.21875 \nQ 31.109375 20.453125 19.1875 8.296875 \nz\n\" id=\"DejaVuSans-50\"/>\n        <path d=\"M 31.78125 66.40625 \nQ 24.171875 66.40625 20.328125 58.90625 \nQ 16.5 51.421875 16.5 36.375 \nQ 16.5 21.390625 20.328125 13.890625 \nQ 24.171875 6.390625 31.78125 6.390625 \nQ 39.453125 6.390625 43.28125 13.890625 \nQ 47.125 21.390625 47.125 36.375 \nQ 47.125 51.421875 43.28125 58.90625 \nQ 39.453125 66.40625 31.78125 66.40625 \nz\nM 31.78125 74.21875 \nQ 44.046875 74.21875 50.515625 64.515625 \nQ 56.984375 54.828125 56.984375 36.375 \nQ 56.984375 17.96875 50.515625 8.265625 \nQ 44.046875 -1.421875 31.78125 -1.421875 \nQ 19.53125 -1.421875 13.0625 8.265625 \nQ 6.59375 17.96875 6.59375 36.375 \nQ 6.59375 54.828125 13.0625 64.515625 \nQ 19.53125 74.21875 31.78125 74.21875 \nz\n\" id=\"DejaVuSans-48\"/>\n        <path d=\"M 4.890625 31.390625 \nL 31.203125 31.390625 \nL 31.203125 23.390625 \nL 4.890625 23.390625 \nz\n\" id=\"DejaVuSans-45\"/>\n        <path d=\"M 12.40625 8.296875 \nL 28.515625 8.296875 \nL 28.515625 63.921875 \nL 10.984375 60.40625 \nL 10.984375 69.390625 \nL 28.421875 72.90625 \nL 38.28125 72.90625 \nL 38.28125 8.296875 \nL 54.390625 8.296875 \nL 54.390625 0 \nL 12.40625 0 \nz\n\" id=\"DejaVuSans-49\"/>\n        <path d=\"M 40.578125 39.3125 \nQ 47.65625 37.796875 51.625 33 \nQ 55.609375 28.21875 55.609375 21.1875 \nQ 55.609375 10.40625 48.1875 4.484375 \nQ 40.765625 -1.421875 27.09375 -1.421875 \nQ 22.515625 -1.421875 17.65625 -0.515625 \nQ 12.796875 0.390625 7.625 2.203125 \nL 7.625 11.71875 \nQ 11.71875 9.328125 16.59375 8.109375 \nQ 21.484375 6.890625 26.8125 6.890625 \nQ 36.078125 6.890625 40.9375 10.546875 \nQ 45.796875 14.203125 45.796875 21.1875 \nQ 45.796875 27.640625 41.28125 31.265625 \nQ 36.765625 34.90625 28.71875 34.90625 \nL 20.21875 34.90625 \nL 20.21875 43.015625 \nL 29.109375 43.015625 \nQ 36.375 43.015625 40.234375 45.921875 \nQ 44.09375 48.828125 44.09375 54.296875 \nQ 44.09375 59.90625 40.109375 62.90625 \nQ 36.140625 65.921875 28.71875 65.921875 \nQ 24.65625 65.921875 20.015625 65.03125 \nQ 15.375 64.15625 9.8125 62.3125 \nL 9.8125 71.09375 \nQ 15.4375 72.65625 20.34375 73.4375 \nQ 25.25 74.21875 29.59375 74.21875 \nQ 40.828125 74.21875 47.359375 69.109375 \nQ 53.90625 64.015625 53.90625 55.328125 \nQ 53.90625 49.265625 50.4375 45.09375 \nQ 46.96875 40.921875 40.578125 39.3125 \nz\n\" id=\"DejaVuSans-51\"/>\n       </defs>\n       <use xlink:href=\"#DejaVuSans-50\"/>\n       <use x=\"63.623047\" xlink:href=\"#DejaVuSans-48\"/>\n       <use x=\"127.246094\" xlink:href=\"#DejaVuSans-50\"/>\n       <use x=\"190.869141\" xlink:href=\"#DejaVuSans-48\"/>\n       <use x=\"254.492188\" xlink:href=\"#DejaVuSans-45\"/>\n       <use x=\"290.576172\" xlink:href=\"#DejaVuSans-49\"/>\n       <use x=\"354.199219\" xlink:href=\"#DejaVuSans-48\"/>\n       <use x=\"417.822266\" xlink:href=\"#DejaVuSans-45\"/>\n       <use x=\"453.90625\" xlink:href=\"#DejaVuSans-48\"/>\n       <use x=\"517.529297\" xlink:href=\"#DejaVuSans-51\"/>\n      </g>\n     </g>\n    </g>\n    <g id=\"xtick_2\">\n     <g id=\"line2d_2\">\n      <g>\n       <use style=\"stroke:#000000;stroke-width:0.8;\" x=\"142.362435\" xlink:href=\"#m2f6a11490f\" y=\"442.08\"/>\n      </g>\n     </g>\n     <g id=\"text_2\">\n      <!-- 2020-10-05 -->\n      <g transform=\"translate(113.304623 456.678437)scale(0.1 -0.1)\">\n       <defs>\n        <path d=\"M 10.796875 72.90625 \nL 49.515625 72.90625 \nL 49.515625 64.59375 \nL 19.828125 64.59375 \nL 19.828125 46.734375 \nQ 21.96875 47.46875 24.109375 47.828125 \nQ 26.265625 48.1875 28.421875 48.1875 \nQ 40.625 48.1875 47.75 41.5 \nQ 54.890625 34.8125 54.890625 23.390625 \nQ 54.890625 11.625 47.5625 5.09375 \nQ 40.234375 -1.421875 26.90625 -1.421875 \nQ 22.3125 -1.421875 17.546875 -0.640625 \nQ 12.796875 0.140625 7.71875 1.703125 \nL 7.71875 11.625 \nQ 12.109375 9.234375 16.796875 8.0625 \nQ 21.484375 6.890625 26.703125 6.890625 \nQ 35.15625 6.890625 40.078125 11.328125 \nQ 45.015625 15.765625 45.015625 23.390625 \nQ 45.015625 31 40.078125 35.4375 \nQ 35.15625 39.890625 26.703125 39.890625 \nQ 22.75 39.890625 18.8125 39.015625 \nQ 14.890625 38.140625 10.796875 36.28125 \nz\n\" id=\"DejaVuSans-53\"/>\n       </defs>\n       <use xlink:href=\"#DejaVuSans-50\"/>\n       <use x=\"63.623047\" xlink:href=\"#DejaVuSans-48\"/>\n       <use x=\"127.246094\" xlink:href=\"#DejaVuSans-50\"/>\n       <use x=\"190.869141\" xlink:href=\"#DejaVuSans-48\"/>\n       <use x=\"254.492188\" xlink:href=\"#DejaVuSans-45\"/>\n       <use x=\"290.576172\" xlink:href=\"#DejaVuSans-49\"/>\n       <use x=\"354.199219\" xlink:href=\"#DejaVuSans-48\"/>\n       <use x=\"417.822266\" xlink:href=\"#DejaVuSans-45\"/>\n       <use x=\"453.90625\" xlink:href=\"#DejaVuSans-48\"/>\n       <use x=\"517.529297\" xlink:href=\"#DejaVuSans-53\"/>\n      </g>\n     </g>\n    </g>\n    <g id=\"xtick_3\">\n     <g id=\"line2d_3\">\n      <g>\n       <use style=\"stroke:#000000;stroke-width:0.8;\" x=\"209.68711\" xlink:href=\"#m2f6a11490f\" y=\"442.08\"/>\n      </g>\n     </g>\n     <g id=\"text_3\">\n      <!-- 2020-10-07 -->\n      <g transform=\"translate(180.629298 456.678437)scale(0.1 -0.1)\">\n       <defs>\n        <path d=\"M 8.203125 72.90625 \nL 55.078125 72.90625 \nL 55.078125 68.703125 \nL 28.609375 0 \nL 18.3125 0 \nL 43.21875 64.59375 \nL 8.203125 64.59375 \nz\n\" id=\"DejaVuSans-55\"/>\n       </defs>\n       <use xlink:href=\"#DejaVuSans-50\"/>\n       <use x=\"63.623047\" xlink:href=\"#DejaVuSans-48\"/>\n       <use x=\"127.246094\" xlink:href=\"#DejaVuSans-50\"/>\n       <use x=\"190.869141\" xlink:href=\"#DejaVuSans-48\"/>\n       <use x=\"254.492188\" xlink:href=\"#DejaVuSans-45\"/>\n       <use x=\"290.576172\" xlink:href=\"#DejaVuSans-49\"/>\n       <use x=\"354.199219\" xlink:href=\"#DejaVuSans-48\"/>\n       <use x=\"417.822266\" xlink:href=\"#DejaVuSans-45\"/>\n       <use x=\"453.90625\" xlink:href=\"#DejaVuSans-48\"/>\n       <use x=\"517.529297\" xlink:href=\"#DejaVuSans-55\"/>\n      </g>\n     </g>\n    </g>\n    <g id=\"xtick_4\">\n     <g id=\"line2d_4\">\n      <g>\n       <use style=\"stroke:#000000;stroke-width:0.8;\" x=\"277.011786\" xlink:href=\"#m2f6a11490f\" y=\"442.08\"/>\n      </g>\n     </g>\n     <g id=\"text_4\">\n      <!-- 2020-10-09 -->\n      <g transform=\"translate(247.953973 456.678437)scale(0.1 -0.1)\">\n       <defs>\n        <path d=\"M 10.984375 1.515625 \nL 10.984375 10.5 \nQ 14.703125 8.734375 18.5 7.8125 \nQ 22.3125 6.890625 25.984375 6.890625 \nQ 35.75 6.890625 40.890625 13.453125 \nQ 46.046875 20.015625 46.78125 33.40625 \nQ 43.953125 29.203125 39.59375 26.953125 \nQ 35.25 24.703125 29.984375 24.703125 \nQ 19.046875 24.703125 12.671875 31.3125 \nQ 6.296875 37.9375 6.296875 49.421875 \nQ 6.296875 60.640625 12.9375 67.421875 \nQ 19.578125 74.21875 30.609375 74.21875 \nQ 43.265625 74.21875 49.921875 64.515625 \nQ 56.59375 54.828125 56.59375 36.375 \nQ 56.59375 19.140625 48.40625 8.859375 \nQ 40.234375 -1.421875 26.421875 -1.421875 \nQ 22.703125 -1.421875 18.890625 -0.6875 \nQ 15.09375 0.046875 10.984375 1.515625 \nz\nM 30.609375 32.421875 \nQ 37.25 32.421875 41.125 36.953125 \nQ 45.015625 41.5 45.015625 49.421875 \nQ 45.015625 57.28125 41.125 61.84375 \nQ 37.25 66.40625 30.609375 66.40625 \nQ 23.96875 66.40625 20.09375 61.84375 \nQ 16.21875 57.28125 16.21875 49.421875 \nQ 16.21875 41.5 20.09375 36.953125 \nQ 23.96875 32.421875 30.609375 32.421875 \nz\n\" id=\"DejaVuSans-57\"/>\n       </defs>\n       <use xlink:href=\"#DejaVuSans-50\"/>\n       <use x=\"63.623047\" xlink:href=\"#DejaVuSans-48\"/>\n       <use x=\"127.246094\" xlink:href=\"#DejaVuSans-50\"/>\n       <use x=\"190.869141\" xlink:href=\"#DejaVuSans-48\"/>\n       <use x=\"254.492188\" xlink:href=\"#DejaVuSans-45\"/>\n       <use x=\"290.576172\" xlink:href=\"#DejaVuSans-49\"/>\n       <use x=\"354.199219\" xlink:href=\"#DejaVuSans-48\"/>\n       <use x=\"417.822266\" xlink:href=\"#DejaVuSans-45\"/>\n       <use x=\"453.90625\" xlink:href=\"#DejaVuSans-48\"/>\n       <use x=\"517.529297\" xlink:href=\"#DejaVuSans-57\"/>\n      </g>\n     </g>\n    </g>\n    <g id=\"xtick_5\">\n     <g id=\"line2d_5\">\n      <g>\n       <use style=\"stroke:#000000;stroke-width:0.8;\" x=\"344.336461\" xlink:href=\"#m2f6a11490f\" y=\"442.08\"/>\n      </g>\n     </g>\n     <g id=\"text_5\">\n      <!-- 2020-10-11 -->\n      <g transform=\"translate(315.278649 456.678437)scale(0.1 -0.1)\">\n       <use xlink:href=\"#DejaVuSans-50\"/>\n       <use x=\"63.623047\" xlink:href=\"#DejaVuSans-48\"/>\n       <use x=\"127.246094\" xlink:href=\"#DejaVuSans-50\"/>\n       <use x=\"190.869141\" xlink:href=\"#DejaVuSans-48\"/>\n       <use x=\"254.492188\" xlink:href=\"#DejaVuSans-45\"/>\n       <use x=\"290.576172\" xlink:href=\"#DejaVuSans-49\"/>\n       <use x=\"354.199219\" xlink:href=\"#DejaVuSans-48\"/>\n       <use x=\"417.822266\" xlink:href=\"#DejaVuSans-45\"/>\n       <use x=\"453.90625\" xlink:href=\"#DejaVuSans-49\"/>\n       <use x=\"517.529297\" xlink:href=\"#DejaVuSans-49\"/>\n      </g>\n     </g>\n    </g>\n    <g id=\"xtick_6\">\n     <g id=\"line2d_6\">\n      <g>\n       <use style=\"stroke:#000000;stroke-width:0.8;\" x=\"411.661136\" xlink:href=\"#m2f6a11490f\" y=\"442.08\"/>\n      </g>\n     </g>\n     <g id=\"text_6\">\n      <!-- 2020-10-13 -->\n      <g transform=\"translate(382.603324 456.678437)scale(0.1 -0.1)\">\n       <use xlink:href=\"#DejaVuSans-50\"/>\n       <use x=\"63.623047\" xlink:href=\"#DejaVuSans-48\"/>\n       <use x=\"127.246094\" xlink:href=\"#DejaVuSans-50\"/>\n       <use x=\"190.869141\" xlink:href=\"#DejaVuSans-48\"/>\n       <use x=\"254.492188\" xlink:href=\"#DejaVuSans-45\"/>\n       <use x=\"290.576172\" xlink:href=\"#DejaVuSans-49\"/>\n       <use x=\"354.199219\" xlink:href=\"#DejaVuSans-48\"/>\n       <use x=\"417.822266\" xlink:href=\"#DejaVuSans-45\"/>\n       <use x=\"453.90625\" xlink:href=\"#DejaVuSans-49\"/>\n       <use x=\"517.529297\" xlink:href=\"#DejaVuSans-51\"/>\n      </g>\n     </g>\n    </g>\n    <g id=\"xtick_7\">\n     <g id=\"line2d_7\">\n      <g>\n       <use style=\"stroke:#000000;stroke-width:0.8;\" x=\"478.985812\" xlink:href=\"#m2f6a11490f\" y=\"442.08\"/>\n      </g>\n     </g>\n     <g id=\"text_7\">\n      <!-- 2020-10-15 -->\n      <g transform=\"translate(449.927999 456.678437)scale(0.1 -0.1)\">\n       <use xlink:href=\"#DejaVuSans-50\"/>\n       <use x=\"63.623047\" xlink:href=\"#DejaVuSans-48\"/>\n       <use x=\"127.246094\" xlink:href=\"#DejaVuSans-50\"/>\n       <use x=\"190.869141\" xlink:href=\"#DejaVuSans-48\"/>\n       <use x=\"254.492188\" xlink:href=\"#DejaVuSans-45\"/>\n       <use x=\"290.576172\" xlink:href=\"#DejaVuSans-49\"/>\n       <use x=\"354.199219\" xlink:href=\"#DejaVuSans-48\"/>\n       <use x=\"417.822266\" xlink:href=\"#DejaVuSans-45\"/>\n       <use x=\"453.90625\" xlink:href=\"#DejaVuSans-49\"/>\n       <use x=\"517.529297\" xlink:href=\"#DejaVuSans-53\"/>\n      </g>\n     </g>\n    </g>\n    <g id=\"xtick_8\">\n     <g id=\"line2d_8\">\n      <g>\n       <use style=\"stroke:#000000;stroke-width:0.8;\" x=\"546.310487\" xlink:href=\"#m2f6a11490f\" y=\"442.08\"/>\n      </g>\n     </g>\n     <g id=\"text_8\">\n      <!-- 2020-10-17 -->\n      <g transform=\"translate(517.252675 456.678437)scale(0.1 -0.1)\">\n       <use xlink:href=\"#DejaVuSans-50\"/>\n       <use x=\"63.623047\" xlink:href=\"#DejaVuSans-48\"/>\n       <use x=\"127.246094\" xlink:href=\"#DejaVuSans-50\"/>\n       <use x=\"190.869141\" xlink:href=\"#DejaVuSans-48\"/>\n       <use x=\"254.492188\" xlink:href=\"#DejaVuSans-45\"/>\n       <use x=\"290.576172\" xlink:href=\"#DejaVuSans-49\"/>\n       <use x=\"354.199219\" xlink:href=\"#DejaVuSans-48\"/>\n       <use x=\"417.822266\" xlink:href=\"#DejaVuSans-45\"/>\n       <use x=\"453.90625\" xlink:href=\"#DejaVuSans-49\"/>\n       <use x=\"517.529297\" xlink:href=\"#DejaVuSans-55\"/>\n      </g>\n     </g>\n    </g>\n    <g id=\"xtick_9\">\n     <g id=\"line2d_9\">\n      <g>\n       <use style=\"stroke:#000000;stroke-width:0.8;\" x=\"613.635162\" xlink:href=\"#m2f6a11490f\" y=\"442.08\"/>\n      </g>\n     </g>\n     <g id=\"text_9\">\n      <!-- 2020-10-19 -->\n      <g transform=\"translate(584.57735 456.678437)scale(0.1 -0.1)\">\n       <use xlink:href=\"#DejaVuSans-50\"/>\n       <use x=\"63.623047\" xlink:href=\"#DejaVuSans-48\"/>\n       <use x=\"127.246094\" xlink:href=\"#DejaVuSans-50\"/>\n       <use x=\"190.869141\" xlink:href=\"#DejaVuSans-48\"/>\n       <use x=\"254.492188\" xlink:href=\"#DejaVuSans-45\"/>\n       <use x=\"290.576172\" xlink:href=\"#DejaVuSans-49\"/>\n       <use x=\"354.199219\" xlink:href=\"#DejaVuSans-48\"/>\n       <use x=\"417.822266\" xlink:href=\"#DejaVuSans-45\"/>\n       <use x=\"453.90625\" xlink:href=\"#DejaVuSans-49\"/>\n       <use x=\"517.529297\" xlink:href=\"#DejaVuSans-57\"/>\n      </g>\n     </g>\n    </g>\n    <g id=\"xtick_10\">\n     <g id=\"line2d_10\">\n      <g>\n       <use style=\"stroke:#000000;stroke-width:0.8;\" x=\"680.959838\" xlink:href=\"#m2f6a11490f\" y=\"442.08\"/>\n      </g>\n     </g>\n     <g id=\"text_10\">\n      <!-- 2020-10-21 -->\n      <g transform=\"translate(651.902025 456.678437)scale(0.1 -0.1)\">\n       <use xlink:href=\"#DejaVuSans-50\"/>\n       <use x=\"63.623047\" xlink:href=\"#DejaVuSans-48\"/>\n       <use x=\"127.246094\" xlink:href=\"#DejaVuSans-50\"/>\n       <use x=\"190.869141\" xlink:href=\"#DejaVuSans-48\"/>\n       <use x=\"254.492188\" xlink:href=\"#DejaVuSans-45\"/>\n       <use x=\"290.576172\" xlink:href=\"#DejaVuSans-49\"/>\n       <use x=\"354.199219\" xlink:href=\"#DejaVuSans-48\"/>\n       <use x=\"417.822266\" xlink:href=\"#DejaVuSans-45\"/>\n       <use x=\"453.90625\" xlink:href=\"#DejaVuSans-50\"/>\n       <use x=\"517.529297\" xlink:href=\"#DejaVuSans-49\"/>\n      </g>\n     </g>\n    </g>\n   </g>\n   <g id=\"matplotlib.axis_2\">\n    <g id=\"ytick_1\">\n     <g id=\"line2d_11\">\n      <defs>\n       <path d=\"M 0 0 \nL -3.5 0 \n\" id=\"m3c8711f103\" style=\"stroke:#000000;stroke-width:0.8;\"/>\n      </defs>\n      <g>\n       <use style=\"stroke:#000000;stroke-width:0.8;\" x=\"33.2875\" xlink:href=\"#m3c8711f103\" y=\"422.312727\"/>\n      </g>\n     </g>\n     <g id=\"text_11\">\n      <!-- 0 -->\n      <g transform=\"translate(19.925 426.111946)scale(0.1 -0.1)\">\n       <use xlink:href=\"#DejaVuSans-48\"/>\n      </g>\n     </g>\n    </g>\n    <g id=\"ytick_2\">\n     <g id=\"line2d_12\">\n      <g>\n       <use style=\"stroke:#000000;stroke-width:0.8;\" x=\"33.2875\" xlink:href=\"#m3c8711f103\" y=\"335.244802\"/>\n      </g>\n     </g>\n     <g id=\"text_12\">\n      <!-- 200 -->\n      <g transform=\"translate(7.2 339.044021)scale(0.1 -0.1)\">\n       <use xlink:href=\"#DejaVuSans-50\"/>\n       <use x=\"63.623047\" xlink:href=\"#DejaVuSans-48\"/>\n       <use x=\"127.246094\" xlink:href=\"#DejaVuSans-48\"/>\n      </g>\n     </g>\n    </g>\n    <g id=\"ytick_3\">\n     <g id=\"line2d_13\">\n      <g>\n       <use style=\"stroke:#000000;stroke-width:0.8;\" x=\"33.2875\" xlink:href=\"#m3c8711f103\" y=\"248.176877\"/>\n      </g>\n     </g>\n     <g id=\"text_13\">\n      <!-- 400 -->\n      <g transform=\"translate(7.2 251.976096)scale(0.1 -0.1)\">\n       <defs>\n        <path d=\"M 37.796875 64.3125 \nL 12.890625 25.390625 \nL 37.796875 25.390625 \nz\nM 35.203125 72.90625 \nL 47.609375 72.90625 \nL 47.609375 25.390625 \nL 58.015625 25.390625 \nL 58.015625 17.1875 \nL 47.609375 17.1875 \nL 47.609375 0 \nL 37.796875 0 \nL 37.796875 17.1875 \nL 4.890625 17.1875 \nL 4.890625 26.703125 \nz\n\" id=\"DejaVuSans-52\"/>\n       </defs>\n       <use xlink:href=\"#DejaVuSans-52\"/>\n       <use x=\"63.623047\" xlink:href=\"#DejaVuSans-48\"/>\n       <use x=\"127.246094\" xlink:href=\"#DejaVuSans-48\"/>\n      </g>\n     </g>\n    </g>\n    <g id=\"ytick_4\">\n     <g id=\"line2d_14\">\n      <g>\n       <use style=\"stroke:#000000;stroke-width:0.8;\" x=\"33.2875\" xlink:href=\"#m3c8711f103\" y=\"161.108952\"/>\n      </g>\n     </g>\n     <g id=\"text_14\">\n      <!-- 600 -->\n      <g transform=\"translate(7.2 164.908171)scale(0.1 -0.1)\">\n       <defs>\n        <path d=\"M 33.015625 40.375 \nQ 26.375 40.375 22.484375 35.828125 \nQ 18.609375 31.296875 18.609375 23.390625 \nQ 18.609375 15.53125 22.484375 10.953125 \nQ 26.375 6.390625 33.015625 6.390625 \nQ 39.65625 6.390625 43.53125 10.953125 \nQ 47.40625 15.53125 47.40625 23.390625 \nQ 47.40625 31.296875 43.53125 35.828125 \nQ 39.65625 40.375 33.015625 40.375 \nz\nM 52.59375 71.296875 \nL 52.59375 62.3125 \nQ 48.875 64.0625 45.09375 64.984375 \nQ 41.3125 65.921875 37.59375 65.921875 \nQ 27.828125 65.921875 22.671875 59.328125 \nQ 17.53125 52.734375 16.796875 39.40625 \nQ 19.671875 43.65625 24.015625 45.921875 \nQ 28.375 48.1875 33.59375 48.1875 \nQ 44.578125 48.1875 50.953125 41.515625 \nQ 57.328125 34.859375 57.328125 23.390625 \nQ 57.328125 12.15625 50.6875 5.359375 \nQ 44.046875 -1.421875 33.015625 -1.421875 \nQ 20.359375 -1.421875 13.671875 8.265625 \nQ 6.984375 17.96875 6.984375 36.375 \nQ 6.984375 53.65625 15.1875 63.9375 \nQ 23.390625 74.21875 37.203125 74.21875 \nQ 40.921875 74.21875 44.703125 73.484375 \nQ 48.484375 72.75 52.59375 71.296875 \nz\n\" id=\"DejaVuSans-54\"/>\n       </defs>\n       <use xlink:href=\"#DejaVuSans-54\"/>\n       <use x=\"63.623047\" xlink:href=\"#DejaVuSans-48\"/>\n       <use x=\"127.246094\" xlink:href=\"#DejaVuSans-48\"/>\n      </g>\n     </g>\n    </g>\n    <g id=\"ytick_5\">\n     <g id=\"line2d_15\">\n      <g>\n       <use style=\"stroke:#000000;stroke-width:0.8;\" x=\"33.2875\" xlink:href=\"#m3c8711f103\" y=\"74.041027\"/>\n      </g>\n     </g>\n     <g id=\"text_15\">\n      <!-- 800 -->\n      <g transform=\"translate(7.2 77.840246)scale(0.1 -0.1)\">\n       <defs>\n        <path d=\"M 31.78125 34.625 \nQ 24.75 34.625 20.71875 30.859375 \nQ 16.703125 27.09375 16.703125 20.515625 \nQ 16.703125 13.921875 20.71875 10.15625 \nQ 24.75 6.390625 31.78125 6.390625 \nQ 38.8125 6.390625 42.859375 10.171875 \nQ 46.921875 13.96875 46.921875 20.515625 \nQ 46.921875 27.09375 42.890625 30.859375 \nQ 38.875 34.625 31.78125 34.625 \nz\nM 21.921875 38.8125 \nQ 15.578125 40.375 12.03125 44.71875 \nQ 8.5 49.078125 8.5 55.328125 \nQ 8.5 64.0625 14.71875 69.140625 \nQ 20.953125 74.21875 31.78125 74.21875 \nQ 42.671875 74.21875 48.875 69.140625 \nQ 55.078125 64.0625 55.078125 55.328125 \nQ 55.078125 49.078125 51.53125 44.71875 \nQ 48 40.375 41.703125 38.8125 \nQ 48.828125 37.15625 52.796875 32.3125 \nQ 56.78125 27.484375 56.78125 20.515625 \nQ 56.78125 9.90625 50.3125 4.234375 \nQ 43.84375 -1.421875 31.78125 -1.421875 \nQ 19.734375 -1.421875 13.25 4.234375 \nQ 6.78125 9.90625 6.78125 20.515625 \nQ 6.78125 27.484375 10.78125 32.3125 \nQ 14.796875 37.15625 21.921875 38.8125 \nz\nM 18.3125 54.390625 \nQ 18.3125 48.734375 21.84375 45.5625 \nQ 25.390625 42.390625 31.78125 42.390625 \nQ 38.140625 42.390625 41.71875 45.5625 \nQ 45.3125 48.734375 45.3125 54.390625 \nQ 45.3125 60.0625 41.71875 63.234375 \nQ 38.140625 66.40625 31.78125 66.40625 \nQ 25.390625 66.40625 21.84375 63.234375 \nQ 18.3125 60.0625 18.3125 54.390625 \nz\n\" id=\"DejaVuSans-56\"/>\n       </defs>\n       <use xlink:href=\"#DejaVuSans-56\"/>\n       <use x=\"63.623047\" xlink:href=\"#DejaVuSans-48\"/>\n       <use x=\"127.246094\" xlink:href=\"#DejaVuSans-48\"/>\n      </g>\n     </g>\n    </g>\n   </g>\n   <g id=\"line2d_16\">\n    <path clip-path=\"url(#p19e71f7349)\" d=\"M 63.723864 104.756491 \nL 65.126461 53.825979 \nL 66.529058 35.879114 \nL 67.931656 41.941664 \nL 69.334253 86.891517 \nL 70.736851 158.767487 \nL 72.139448 256.099532 \nL 73.542045 368.398526 \nL 74.944643 420.814814 \nL 76.34724 422.312727 \nL 91.775812 422.312727 \nL 93.178409 374.350056 \nL 94.581006 272.471918 \nL 95.983604 158.680228 \nL 98.788799 47.848217 \nL 100.191396 26.967273 \nL 101.593994 35.978968 \nL 102.996591 86.891517 \nL 104.399188 155.772508 \nL 105.801786 251.607262 \nL 107.204383 359.421257 \nL 108.606981 420.814814 \nL 110.009578 422.312727 \nL 125.438149 422.312727 \nL 126.840747 368.353774 \nL 129.645942 170.663838 \nL 131.048539 86.780078 \nL 132.451136 38.901328 \nL 133.853734 29.983535 \nL 135.256331 44.963348 \nL 136.658929 83.896671 \nL 138.061526 158.767354 \nL 139.464123 254.601923 \nL 140.866721 359.419125 \nL 142.269318 422.312727 \nL 159.100487 422.312727 \nL 160.503084 377.349719 \nL 163.308279 176.637217 \nL 164.710877 101.760927 \nL 166.113474 53.825979 \nL 167.516071 35.856396 \nL 168.918669 38.905102 \nL 170.321266 113.844444 \nL 171.723864 164.757153 \nL 173.126461 257.596929 \nL 174.529058 362.414828 \nL 175.931656 422.312727 \nL 192.762825 422.312727 \nL 194.165422 372.860541 \nL 195.568019 269.475132 \nL 196.970617 176.655285 \nL 198.373214 101.759226 \nL 199.775812 53.856456 \nL 201.178409 32.983457 \nL 202.581006 47.958646 \nL 203.983604 95.875871 \nL 205.386201 164.756569 \nL 206.788799 260.591496 \nL 208.191396 365.410923 \nL 209.593994 422.312727 \nL 226.425162 422.312727 \nL 227.82776 375.846666 \nL 230.632955 182.645111 \nL 233.438149 53.828025 \nL 234.840747 50.94847 \nL 236.243344 50.953519 \nL 237.645942 98.870398 \nL 239.048539 164.756489 \nL 241.853734 366.908227 \nL 243.256331 422.312727 \nL 260.0875 422.312727 \nL 261.490097 371.350261 \nL 262.892695 267.969685 \nL 264.295292 176.623506 \nL 265.69789 103.257672 \nL 267.100487 50.83015 \nL 268.503084 31.482061 \nL 269.905682 41.968979 \nL 271.308279 86.891251 \nL 272.710877 161.761669 \nL 274.113474 260.591377 \nL 275.516071 368.405667 \nL 276.918669 422.312727 \nL 293.749838 422.312727 \nL 295.152435 365.351976 \nL 297.95763 170.663599 \nL 299.360227 95.767567 \nL 300.762825 50.939303 \nL 302.165422 26.99488 \nL 303.568019 38.973734 \nL 304.970617 83.895767 \nL 306.373214 158.766769 \nL 307.775812 257.604767 \nL 309.178409 374.39533 \nL 310.581006 422.312727 \nL 327.412175 422.312727 \nL 328.814773 374.347705 \nL 330.21737 270.972529 \nL 331.619968 176.655285 \nL 333.022565 101.759226 \nL 334.425162 53.938614 \nL 335.82776 35.979074 \nL 337.230357 47.957689 \nL 338.632955 94.377743 \nL 340.035552 167.772273 \nL 341.438149 266.584431 \nL 342.840747 386.374676 \nL 344.243344 422.312727 \nL 361.074513 422.312727 \nL 362.47711 378.845627 \nL 363.879708 270.972914 \nL 365.282305 176.655418 \nL 366.684903 103.257141 \nL 368.0875 56.940316 \nL 369.490097 37.476298 \nL 370.892695 50.952536 \nL 372.295292 98.87085 \nL 373.69789 172.266762 \nL 375.100487 266.603416 \nL 376.503084 396.856587 \nL 377.905682 422.312727 \nL 394.736851 422.312727 \nL 396.139448 372.840819 \nL 398.944643 179.63767 \nL 400.34724 106.252971 \nL 401.749838 53.947063 \nL 403.152435 34.481319 \nL 404.555032 53.947409 \nL 405.95763 92.88036 \nL 407.360227 164.770811 \nL 408.762825 259.093927 \nL 410.165422 398.354037 \nL 411.568019 422.312727 \nL 428.399188 422.312727 \nL 429.801786 372.829151 \nL 432.606981 170.63554 \nL 434.009578 97.265482 \nL 435.412175 53.946452 \nL 436.814773 43.465592 \nL 438.21737 53.947409 \nL 439.619968 97.386247 \nL 441.022565 173.779689 \nL 442.425162 269.587049 \nL 443.82776 393.861772 \nL 445.230357 422.312727 \nL 462.061526 422.312727 \nL 463.464123 383.336997 \nL 464.866721 248.445258 \nL 466.269318 206.549744 \nL 467.671916 83.784275 \nL 469.074513 62.93147 \nL 470.47711 32.98367 \nL 473.282305 100.371422 \nL 474.684903 176.746796 \nL 476.0875 278.561053 \nL 477.490097 395.3592 \nL 478.892695 422.312727 \nL 495.723864 422.312727 \nL 497.126461 404.325539 \nL 498.529058 327.893703 \nL 499.931656 305.438014 \nL 501.334253 157.182711 \nL 502.736851 191.663661 \nL 504.139448 131.814002 \nL 505.542045 103.362708 \nL 506.944643 245.617171 \nL 508.34724 251.606837 \nL 511.152435 398.354068 \nL 512.555032 422.312727 \nL 529.386201 422.312727 \nL 530.788799 392.342418 \nL 532.191396 321.920365 \nL 533.593994 347.4172 \nL 534.996591 266.529748 \nL 536.399188 291.996505 \nL 537.801786 200.695085 \nL 539.204383 146.787809 \nL 540.606981 272.570736 \nL 542.009578 302.51936 \nL 543.412175 338.457431 \nL 544.814773 404.343262 \nL 546.21737 422.312727 \nL 563.048539 422.312727 \nL 564.451136 408.827059 \nL 565.853734 359.379726 \nL 567.256331 205.113952 \nL 568.658929 130.219554 \nL 570.061526 73.343139 \nL 571.464123 121.332052 \nL 572.866721 244.12008 \nL 574.269318 271.073605 \nL 575.671916 372.89798 \nL 577.074513 401.341995 \nL 578.47711 375.877402 \nL 579.879708 422.312727 \nL 596.710877 422.312727 \nL 598.113474 420.814233 \nL 599.516071 405.829346 \nL 600.918669 368.368315 \nL 602.321266 196.056967 \nL 603.723864 254.546509 \nL 605.126461 62.8787 \nL 606.529058 76.409355 \nL 607.931656 154.274726 \nL 609.334253 194.705299 \nL 610.736851 347.441798 \nL 612.139448 407.333692 \nL 613.542045 422.312727 \nL 630.373214 422.312727 \nL 631.775812 398.338204 \nL 633.178409 294.949728 \nL 635.983604 127.233901 \nL 637.386201 62.883111 \nL 638.788799 324.969177 \nL 640.191396 209.609012 \nL 641.593994 170.663254 \nL 642.996591 339.950125 \nL 644.399188 372.881612 \nL 645.801786 401.342161 \nL 647.204383 422.312727 \nL 664.035552 422.312727 \nL 665.438149 392.343477 \nL 666.840747 311.430809 \nL 668.243344 221.592251 \nL 669.645942 142.203032 \nL 671.048539 101.782396 \nL 672.451136 82.399234 \nL 672.451136 82.399234 \n\" style=\"fill:none;stroke:#1f77b4;stroke-linecap:square;stroke-width:1.5;\"/>\n   </g>\n   <g id=\"line2d_17\">\n    <path clip-path=\"url(#p19e71f7349)\" d=\"M 63.723864 188.628002 \nL 65.126461 104.756491 \nL 66.529058 53.825979 \nL 67.931656 35.879114 \nL 69.334253 41.941664 \nL 70.736851 86.891517 \nL 72.139448 158.767487 \nL 73.542045 256.099532 \nL 74.944643 368.398526 \nL 76.34724 420.814814 \nL 77.749838 422.312727 \nL 93.178409 422.312727 \nL 94.581006 374.350056 \nL 95.983604 272.471918 \nL 97.386201 158.680228 \nL 100.191396 47.848217 \nL 101.593994 26.967273 \nL 102.996591 35.978968 \nL 104.399188 86.891517 \nL 105.801786 155.772508 \nL 107.204383 251.607262 \nL 108.606981 359.421257 \nL 110.009578 420.814814 \nL 111.412175 422.312727 \nL 126.840747 422.312727 \nL 128.243344 368.353774 \nL 131.048539 170.663838 \nL 132.451136 86.780078 \nL 133.853734 38.901328 \nL 135.256331 29.983535 \nL 136.658929 44.963348 \nL 138.061526 83.896671 \nL 139.464123 158.767354 \nL 140.866721 254.601923 \nL 142.269318 359.419125 \nL 143.671916 422.312727 \nL 160.503084 422.312727 \nL 161.905682 377.349719 \nL 164.710877 176.637217 \nL 166.113474 101.760927 \nL 167.516071 53.825979 \nL 168.918669 35.856396 \nL 170.321266 38.905102 \nL 171.723864 113.844444 \nL 173.126461 164.757153 \nL 174.529058 257.596929 \nL 175.931656 362.414828 \nL 177.334253 422.312727 \nL 194.165422 422.312727 \nL 195.568019 372.860541 \nL 196.970617 269.475132 \nL 198.373214 176.655285 \nL 199.775812 101.759226 \nL 201.178409 53.856456 \nL 202.581006 32.983457 \nL 203.983604 47.958646 \nL 205.386201 95.875871 \nL 206.788799 164.756569 \nL 208.191396 260.591496 \nL 209.593994 365.410923 \nL 210.996591 422.312727 \nL 227.82776 422.312727 \nL 229.230357 375.846666 \nL 232.035552 182.645111 \nL 234.840747 53.828025 \nL 236.243344 50.94847 \nL 237.645942 50.953519 \nL 239.048539 98.870398 \nL 240.451136 164.756489 \nL 243.256331 366.908227 \nL 244.658929 422.312727 \nL 261.490097 422.312727 \nL 262.892695 371.350261 \nL 264.295292 267.969685 \nL 265.69789 176.623506 \nL 267.100487 103.257672 \nL 268.503084 50.83015 \nL 269.905682 31.482061 \nL 271.308279 41.968979 \nL 272.710877 86.891251 \nL 274.113474 161.761669 \nL 275.516071 260.591377 \nL 276.918669 368.405667 \nL 278.321266 422.312727 \nL 295.152435 422.312727 \nL 296.555032 365.351976 \nL 299.360227 170.663599 \nL 300.762825 95.767567 \nL 302.165422 50.939303 \nL 303.568019 26.99488 \nL 304.970617 38.973734 \nL 306.373214 83.895767 \nL 307.775812 158.766769 \nL 309.178409 257.604767 \nL 310.581006 374.39533 \nL 311.983604 422.312727 \nL 328.814773 422.312727 \nL 330.21737 374.347705 \nL 331.619968 270.972529 \nL 333.022565 176.655285 \nL 334.425162 101.759226 \nL 335.82776 53.938614 \nL 337.230357 35.979074 \nL 338.632955 47.957689 \nL 340.035552 94.377743 \nL 341.438149 167.772273 \nL 342.840747 266.584431 \nL 344.243344 386.374676 \nL 345.645942 422.312727 \nL 362.47711 422.312727 \nL 363.879708 378.845627 \nL 365.282305 270.972914 \nL 366.684903 176.655418 \nL 368.0875 103.257141 \nL 369.490097 56.940316 \nL 370.892695 37.476298 \nL 372.295292 50.952536 \nL 373.69789 98.87085 \nL 375.100487 172.266762 \nL 376.503084 266.603416 \nL 377.905682 396.856587 \nL 379.308279 422.312727 \nL 396.139448 422.312727 \nL 397.542045 372.840819 \nL 400.34724 179.63767 \nL 401.749838 106.252971 \nL 403.152435 53.947063 \nL 404.555032 34.481319 \nL 405.95763 53.947409 \nL 407.360227 92.88036 \nL 408.762825 164.770811 \nL 410.165422 259.093927 \nL 411.568019 398.354037 \nL 412.970617 422.312727 \nL 429.801786 422.312727 \nL 431.204383 372.829151 \nL 434.009578 170.63554 \nL 435.412175 97.265482 \nL 436.814773 53.946452 \nL 438.21737 43.465592 \nL 439.619968 53.947409 \nL 441.022565 97.386247 \nL 442.425162 173.779689 \nL 443.82776 269.587049 \nL 445.230357 393.861772 \nL 446.632955 422.312727 \nL 463.464123 422.312727 \nL 464.866721 383.336997 \nL 466.269318 248.445258 \nL 467.671916 206.549744 \nL 469.074513 83.784275 \nL 470.47711 62.93147 \nL 471.879708 32.98367 \nL 474.684903 100.371422 \nL 476.0875 176.746796 \nL 477.490097 278.561053 \nL 478.892695 395.3592 \nL 480.295292 422.312727 \nL 497.126461 422.312727 \nL 498.529058 404.325539 \nL 499.931656 327.893703 \nL 501.334253 305.438014 \nL 502.736851 157.182711 \nL 504.139448 191.663661 \nL 505.542045 131.814002 \nL 506.944643 103.362708 \nL 508.34724 245.617171 \nL 509.749838 251.606837 \nL 512.555032 398.354068 \nL 513.95763 422.312727 \nL 530.788799 422.312727 \nL 532.191396 392.342418 \nL 533.593994 321.920365 \nL 534.996591 347.4172 \nL 536.399188 266.529748 \nL 537.801786 291.996505 \nL 539.204383 200.695085 \nL 540.606981 146.787809 \nL 542.009578 272.570736 \nL 543.412175 302.51936 \nL 544.814773 338.457431 \nL 546.21737 404.343262 \nL 547.619968 422.312727 \nL 564.451136 422.312727 \nL 565.853734 408.827059 \nL 567.256331 359.379726 \nL 568.658929 205.113952 \nL 570.061526 130.219554 \nL 571.464123 73.343139 \nL 572.866721 121.332052 \nL 574.269318 244.12008 \nL 575.671916 271.073605 \nL 577.074513 372.89798 \nL 578.47711 401.341995 \nL 579.879708 375.877402 \nL 581.282305 422.312727 \nL 598.113474 422.312727 \nL 599.516071 420.814233 \nL 600.918669 405.829346 \nL 602.321266 368.368315 \nL 603.723864 196.056967 \nL 605.126461 254.546509 \nL 606.529058 62.8787 \nL 607.931656 76.409355 \nL 609.334253 154.274726 \nL 610.736851 194.705299 \nL 612.139448 347.441798 \nL 613.542045 407.333692 \nL 614.944643 422.312727 \nL 631.775812 422.312727 \nL 633.178409 398.338204 \nL 634.581006 294.949728 \nL 637.386201 127.233901 \nL 638.788799 62.883111 \nL 640.191396 324.969177 \nL 641.593994 209.609012 \nL 642.996591 170.663254 \nL 644.399188 339.950125 \nL 645.801786 372.881612 \nL 647.204383 401.342161 \nL 648.606981 422.312727 \nL 665.438149 422.312727 \nL 666.840747 392.343477 \nL 668.243344 311.430809 \nL 669.645942 221.592251 \nL 671.048539 142.203032 \nL 672.451136 101.782396 \nL 672.451136 101.782396 \n\" style=\"fill:none;stroke:#ff7f0e;stroke-linecap:square;stroke-width:1.5;\"/>\n   </g>\n   <g id=\"patch_3\">\n    <path d=\"M 33.2875 442.08 \nL 33.2875 7.2 \n\" style=\"fill:none;stroke:#000000;stroke-linecap:square;stroke-linejoin:miter;stroke-width:0.8;\"/>\n   </g>\n   <g id=\"patch_4\">\n    <path d=\"M 702.8875 442.08 \nL 702.8875 7.2 \n\" style=\"fill:none;stroke:#000000;stroke-linecap:square;stroke-linejoin:miter;stroke-width:0.8;\"/>\n   </g>\n   <g id=\"patch_5\">\n    <path d=\"M 33.2875 442.08 \nL 702.8875 442.08 \n\" style=\"fill:none;stroke:#000000;stroke-linecap:square;stroke-linejoin:miter;stroke-width:0.8;\"/>\n   </g>\n   <g id=\"patch_6\">\n    <path d=\"M 33.2875 7.2 \nL 702.8875 7.2 \n\" style=\"fill:none;stroke:#000000;stroke-linecap:square;stroke-linejoin:miter;stroke-width:0.8;\"/>\n   </g>\n  </g>\n </g>\n <defs>\n  <clipPath id=\"p19e71f7349\">\n   <rect height=\"434.88\" width=\"669.6\" x=\"33.2875\" y=\"7.2\"/>\n  </clipPath>\n </defs>\n</svg>\n",
      "image/png": "[encoded data removed]"
     },
     "metadata": {
      "needs_background": "light"
     }
    }
   ],
   "source": [
    "plt.plot(test_df.index,test_df['irradiance'])\n",
    "plt.plot(test_df.index,naive_forecast['irradiance'])\n",
    "plt.show()"
   ]
  },
  {
   "cell_type": "code",
   "execution_count": 329,
   "metadata": {},
   "outputs": [],
   "source": [
    "from sklearn import metrics\n",
    "\n",
    "def print_score(pred,actual):\n",
    "    print(\"Root Mean Squared Error : \",np.sqrt(keras.metrics.mean_squared_error(pred,actual).numpy()))\n",
    "    print(\"Mean Absolute Error : \",keras.metrics.mean_absolute_error(pred,actual).numpy())\n",
    "    print(\"Mean Absolute Percentage Error : \",keras.metrics.mean_absolute_percentage_error(pred,actual).numpy())\n",
    "\n",
    "    print(\"R2 Score : \",sklearn.metrics.r2_score(pred,actual))"
   ]
  },
  {
   "cell_type": "code",
   "execution_count": 314,
   "metadata": {},
   "outputs": [
    {
     "output_type": "stream",
     "name": "stdout",
     "text": [
      "Root Mean Squared Error :  123.64308003866569\nMean Absolute Error :  74.70675639990804\nMean Absolute Percentage Error :  3194697000.111689\n"
     ]
    }
   ],
   "source": [
    "print(\"Root Mean Squared Error : \",np.sqrt(keras.metrics.mean_squared_error(test_df['irradiance'],naive_forecast['irradiance']).numpy()))\n",
    "print(\"Mean Absolute Error : \",keras.metrics.mean_absolute_error(test_df['irradiance'],naive_forecast['irradiance']).numpy())\n",
    "print(\"Mean Absolute Percentage Error : \",keras.metrics.mean_absolute_percentage_error(test_df['irradiance'],naive_forecast['irradiance']).numpy())\n"
   ]
  },
  {
   "cell_type": "code",
   "execution_count": 143,
   "metadata": {},
   "outputs": [],
   "source": [
    "from sklearn import metrics"
   ]
  },
  {
   "cell_type": "code",
   "execution_count": 145,
   "metadata": {},
   "outputs": [
    {
     "output_type": "execute_result",
     "data": {
      "text/plain": [
       "0.8488371216701203"
      ]
     },
     "metadata": {},
     "execution_count": 145
    }
   ],
   "source": [
    "sklearn.metrics.r2_score(test_df['irradiance'],naive_forecast['irradiance'])"
   ]
  },
  {
   "source": [
    "## Statistical ARIMA Model\n",
    "\n",
    "------------------------------"
   ],
   "cell_type": "markdown",
   "metadata": {}
  },
  {
   "cell_type": "code",
   "execution_count": 152,
   "metadata": {},
   "outputs": [],
   "source": [
    "from statsmodels.tsa.arima_model import ARIMA"
   ]
  },
  {
   "cell_type": "code",
   "execution_count": 163,
   "metadata": {},
   "outputs": [
    {
     "output_type": "stream",
     "name": "stderr",
     "text": [
      "/opt/conda/lib/python3.8/site-packages/statsmodels/tsa/arima_model.py:472: FutureWarning: \nstatsmodels.tsa.arima_model.ARMA and statsmodels.tsa.arima_model.ARIMA have\nbeen deprecated in favor of statsmodels.tsa.arima.model.ARIMA (note the .\nbetween arima and model) and\nstatsmodels.tsa.SARIMAX. These will be removed after the 0.12 release.\n\nstatsmodels.tsa.arima.model.ARIMA makes use of the statespace framework and\nis both well tested and maintained.\n\nTo silence this warning and continue using ARMA and ARIMA until they are\nremoved, use:\n\nimport warnings\nwarnings.filterwarnings('ignore', 'statsmodels.tsa.arima_model.ARMA',\n                        FutureWarning)\nwarnings.filterwarnings('ignore', 'statsmodels.tsa.arima_model.ARIMA',\n                        FutureWarning)\n\n  warnings.warn(ARIMA_DEPRECATION_WARN, FutureWarning)\n"
     ]
    },
    {
     "output_type": "error",
     "ename": "MissingDataError",
     "evalue": "exog contains inf or nans",
     "traceback": [
      "\u001b[0;31m---------------------------------------------------------------------------\u001b[0m",
      "\u001b[0;31mMissingDataError\u001b[0m                          Traceback (most recent call last)",
      "\u001b[0;32m<ipython-input-163-42df897c52c2>\u001b[0m in \u001b[0;36m<module>\u001b[0;34m\u001b[0m\n\u001b[1;32m      1\u001b[0m \u001b[0mmodel\u001b[0m \u001b[0;34m=\u001b[0m \u001b[0mARIMA\u001b[0m\u001b[0;34m(\u001b[0m\u001b[0mtrain_df\u001b[0m\u001b[0;34m[\u001b[0m\u001b[0;34m'irradiance'\u001b[0m\u001b[0;34m]\u001b[0m\u001b[0;34m,\u001b[0m\u001b[0morder\u001b[0m\u001b[0;34m=\u001b[0m\u001b[0;34m(\u001b[0m\u001b[0;36m2\u001b[0m\u001b[0;34m,\u001b[0m\u001b[0;36m1\u001b[0m\u001b[0;34m,\u001b[0m\u001b[0;36m2\u001b[0m\u001b[0;34m)\u001b[0m\u001b[0;34m)\u001b[0m\u001b[0;34m\u001b[0m\u001b[0;34m\u001b[0m\u001b[0m\n\u001b[0;32m----> 2\u001b[0;31m \u001b[0marima_res\u001b[0m \u001b[0;34m=\u001b[0m \u001b[0mmodel\u001b[0m\u001b[0;34m.\u001b[0m\u001b[0mfit\u001b[0m\u001b[0;34m(\u001b[0m\u001b[0mdisp\u001b[0m\u001b[0;34m=\u001b[0m\u001b[0;34m-\u001b[0m\u001b[0;36m1\u001b[0m\u001b[0;34m)\u001b[0m\u001b[0;34m\u001b[0m\u001b[0;34m\u001b[0m\u001b[0m\n\u001b[0m\u001b[1;32m      3\u001b[0m \u001b[0mplt\u001b[0m\u001b[0;34m.\u001b[0m\u001b[0mplot\u001b[0m\u001b[0;34m(\u001b[0m\u001b[0marima_res\u001b[0m\u001b[0;34m.\u001b[0m\u001b[0mfittedvalues\u001b[0m\u001b[0;34m)\u001b[0m\u001b[0;34m\u001b[0m\u001b[0;34m\u001b[0m\u001b[0m\n",
      "\u001b[0;32m/opt/conda/lib/python3.8/site-packages/statsmodels/tsa/arima_model.py\u001b[0m in \u001b[0;36mfit\u001b[0;34m(self, start_params, trend, method, transparams, solver, maxiter, full_output, disp, callback, start_ar_lags, **kwargs)\u001b[0m\n\u001b[1;32m   1226\u001b[0m         r, order = 'F')\n\u001b[1;32m   1227\u001b[0m         \"\"\"\n\u001b[0;32m-> 1228\u001b[0;31m         mlefit = super(ARIMA, self).fit(start_params, trend,\n\u001b[0m\u001b[1;32m   1229\u001b[0m                                         \u001b[0mmethod\u001b[0m\u001b[0;34m,\u001b[0m \u001b[0mtransparams\u001b[0m\u001b[0;34m,\u001b[0m \u001b[0msolver\u001b[0m\u001b[0;34m,\u001b[0m\u001b[0;34m\u001b[0m\u001b[0;34m\u001b[0m\u001b[0m\n\u001b[1;32m   1230\u001b[0m                                         \u001b[0mmaxiter\u001b[0m\u001b[0;34m,\u001b[0m \u001b[0mfull_output\u001b[0m\u001b[0;34m,\u001b[0m \u001b[0mdisp\u001b[0m\u001b[0;34m,\u001b[0m\u001b[0;34m\u001b[0m\u001b[0;34m\u001b[0m\u001b[0m\n",
      "\u001b[0;32m/opt/conda/lib/python3.8/site-packages/statsmodels/tsa/arima_model.py\u001b[0m in \u001b[0;36mfit\u001b[0;34m(self, start_params, trend, method, transparams, solver, maxiter, full_output, disp, callback, start_ar_lags, **kwargs)\u001b[0m\n\u001b[1;32m   1014\u001b[0m             \u001b[0mstart_params\u001b[0m \u001b[0;34m=\u001b[0m \u001b[0marray_like\u001b[0m\u001b[0;34m(\u001b[0m\u001b[0mstart_params\u001b[0m\u001b[0;34m,\u001b[0m \u001b[0;34m'start_params'\u001b[0m\u001b[0;34m)\u001b[0m\u001b[0;34m\u001b[0m\u001b[0;34m\u001b[0m\u001b[0m\n\u001b[1;32m   1015\u001b[0m         \u001b[0;32melse\u001b[0m\u001b[0;34m:\u001b[0m  \u001b[0;31m# estimate starting parameters\u001b[0m\u001b[0;34m\u001b[0m\u001b[0;34m\u001b[0m\u001b[0m\n\u001b[0;32m-> 1016\u001b[0;31m             start_params = self._fit_start_params((k_ar, k_ma, k), method,\n\u001b[0m\u001b[1;32m   1017\u001b[0m                                                   start_ar_lags)\n\u001b[1;32m   1018\u001b[0m \u001b[0;34m\u001b[0m\u001b[0m\n",
      "\u001b[0;32m/opt/conda/lib/python3.8/site-packages/statsmodels/tsa/arima_model.py\u001b[0m in \u001b[0;36m_fit_start_params\u001b[0;34m(self, order, method, start_ar_lags)\u001b[0m\n\u001b[1;32m    606\u001b[0m                 \u001b[0;32mreturn\u001b[0m \u001b[0;34m-\u001b[0m\u001b[0mself\u001b[0m\u001b[0;34m.\u001b[0m\u001b[0mloglike_css\u001b[0m\u001b[0;34m(\u001b[0m\u001b[0mparams\u001b[0m\u001b[0;34m)\u001b[0m\u001b[0;34m\u001b[0m\u001b[0;34m\u001b[0m\u001b[0m\n\u001b[1;32m    607\u001b[0m \u001b[0;34m\u001b[0m\u001b[0m\n\u001b[0;32m--> 608\u001b[0;31m             \u001b[0mstart_params\u001b[0m \u001b[0;34m=\u001b[0m \u001b[0mself\u001b[0m\u001b[0;34m.\u001b[0m\u001b[0m_fit_start_params_hr\u001b[0m\u001b[0;34m(\u001b[0m\u001b[0morder\u001b[0m\u001b[0;34m,\u001b[0m \u001b[0mstart_ar_lags\u001b[0m\u001b[0;34m)\u001b[0m\u001b[0;34m\u001b[0m\u001b[0;34m\u001b[0m\u001b[0m\n\u001b[0m\u001b[1;32m    609\u001b[0m             \u001b[0;32mif\u001b[0m \u001b[0mself\u001b[0m\u001b[0;34m.\u001b[0m\u001b[0mtransparams\u001b[0m\u001b[0;34m:\u001b[0m\u001b[0;34m\u001b[0m\u001b[0;34m\u001b[0m\u001b[0m\n\u001b[1;32m    610\u001b[0m                 \u001b[0mstart_params\u001b[0m \u001b[0;34m=\u001b[0m \u001b[0mself\u001b[0m\u001b[0;34m.\u001b[0m\u001b[0m_invtransparams\u001b[0m\u001b[0;34m(\u001b[0m\u001b[0mstart_params\u001b[0m\u001b[0;34m)\u001b[0m\u001b[0;34m\u001b[0m\u001b[0;34m\u001b[0m\u001b[0m\n",
      "\u001b[0;32m/opt/conda/lib/python3.8/site-packages/statsmodels/tsa/arima_model.py\u001b[0m in \u001b[0;36m_fit_start_params_hr\u001b[0;34m(self, order, start_ar_lags)\u001b[0m\n\u001b[1;32m    539\u001b[0m                     \u001b[0;32mif\u001b[0m \u001b[0mmaxlag\u001b[0m \u001b[0;34m>=\u001b[0m \u001b[0mnobs\u001b[0m\u001b[0;34m:\u001b[0m\u001b[0;34m\u001b[0m\u001b[0;34m\u001b[0m\u001b[0m\n\u001b[1;32m    540\u001b[0m                         \u001b[0mmaxlag\u001b[0m \u001b[0;34m=\u001b[0m \u001b[0mnobs\u001b[0m \u001b[0;34m-\u001b[0m \u001b[0;36m1\u001b[0m\u001b[0;34m\u001b[0m\u001b[0;34m\u001b[0m\u001b[0m\n\u001b[0;32m--> 541\u001b[0;31m                     mod = ar_select_order(endog, maxlag, trend='n',\n\u001b[0m\u001b[1;32m    542\u001b[0m                                           old_names=False).model\n\u001b[1;32m    543\u001b[0m                     \u001b[0marmod\u001b[0m \u001b[0;34m=\u001b[0m \u001b[0mmod\u001b[0m\u001b[0;34m.\u001b[0m\u001b[0mfit\u001b[0m\u001b[0;34m(\u001b[0m\u001b[0;34m)\u001b[0m\u001b[0;34m\u001b[0m\u001b[0;34m\u001b[0m\u001b[0m\n",
      "\u001b[0;32m/opt/conda/lib/python3.8/site-packages/statsmodels/tsa/ar_model.py\u001b[0m in \u001b[0;36mar_select_order\u001b[0;34m(endog, maxlag, ic, glob, trend, seasonal, exog, hold_back, period, missing, old_names)\u001b[0m\n\u001b[1;32m   2695\u001b[0m                 \u001b[0mics\u001b[0m\u001b[0;34m.\u001b[0m\u001b[0mappend\u001b[0m\u001b[0;34m(\u001b[0m\u001b[0;34m(\u001b[0m\u001b[0;36m0\u001b[0m\u001b[0;34m,\u001b[0m \u001b[0mic_no_data\u001b[0m\u001b[0;34m(\u001b[0m\u001b[0;34m)\u001b[0m\u001b[0;34m)\u001b[0m\u001b[0;34m)\u001b[0m\u001b[0;34m\u001b[0m\u001b[0;34m\u001b[0m\u001b[0m\n\u001b[1;32m   2696\u001b[0m                 \u001b[0;32mcontinue\u001b[0m\u001b[0;34m\u001b[0m\u001b[0;34m\u001b[0m\u001b[0m\n\u001b[0;32m-> 2697\u001b[0;31m             \u001b[0mres\u001b[0m \u001b[0;34m=\u001b[0m \u001b[0mOLS\u001b[0m\u001b[0;34m(\u001b[0m\u001b[0my\u001b[0m\u001b[0;34m,\u001b[0m \u001b[0mx\u001b[0m\u001b[0;34m[\u001b[0m\u001b[0;34m:\u001b[0m\u001b[0;34m,\u001b[0m \u001b[0msel\u001b[0m\u001b[0;34m]\u001b[0m\u001b[0;34m)\u001b[0m\u001b[0;34m.\u001b[0m\u001b[0mfit\u001b[0m\u001b[0;34m(\u001b[0m\u001b[0;34m)\u001b[0m\u001b[0;34m\u001b[0m\u001b[0;34m\u001b[0m\u001b[0m\n\u001b[0m\u001b[1;32m   2698\u001b[0m             \u001b[0mlags\u001b[0m \u001b[0;34m=\u001b[0m \u001b[0mtuple\u001b[0m\u001b[0;34m(\u001b[0m\u001b[0mj\u001b[0m \u001b[0;32mfor\u001b[0m \u001b[0mj\u001b[0m \u001b[0;32min\u001b[0m \u001b[0mrange\u001b[0m\u001b[0;34m(\u001b[0m\u001b[0;36m1\u001b[0m\u001b[0;34m,\u001b[0m \u001b[0mi\u001b[0m \u001b[0;34m+\u001b[0m \u001b[0;36m1\u001b[0m\u001b[0;34m)\u001b[0m\u001b[0;34m)\u001b[0m\u001b[0;34m\u001b[0m\u001b[0;34m\u001b[0m\u001b[0m\n\u001b[1;32m   2699\u001b[0m             \u001b[0mlags\u001b[0m \u001b[0;34m=\u001b[0m \u001b[0;36m0\u001b[0m \u001b[0;32mif\u001b[0m \u001b[0;32mnot\u001b[0m \u001b[0mlags\u001b[0m \u001b[0;32melse\u001b[0m \u001b[0mlags\u001b[0m\u001b[0;34m\u001b[0m\u001b[0;34m\u001b[0m\u001b[0m\n",
      "\u001b[0;32m/opt/conda/lib/python3.8/site-packages/statsmodels/regression/linear_model.py\u001b[0m in \u001b[0;36m__init__\u001b[0;34m(self, endog, exog, missing, hasconst, **kwargs)\u001b[0m\n\u001b[1;32m    870\u001b[0m     def __init__(self, endog, exog=None, missing='none', hasconst=None,\n\u001b[1;32m    871\u001b[0m                  **kwargs):\n\u001b[0;32m--> 872\u001b[0;31m         super(OLS, self).__init__(endog, exog, missing=missing,\n\u001b[0m\u001b[1;32m    873\u001b[0m                                   hasconst=hasconst, **kwargs)\n\u001b[1;32m    874\u001b[0m         \u001b[0;32mif\u001b[0m \u001b[0;34m\"weights\"\u001b[0m \u001b[0;32min\u001b[0m \u001b[0mself\u001b[0m\u001b[0;34m.\u001b[0m\u001b[0m_init_keys\u001b[0m\u001b[0;34m:\u001b[0m\u001b[0;34m\u001b[0m\u001b[0;34m\u001b[0m\u001b[0m\n",
      "\u001b[0;32m/opt/conda/lib/python3.8/site-packages/statsmodels/regression/linear_model.py\u001b[0m in \u001b[0;36m__init__\u001b[0;34m(self, endog, exog, weights, missing, hasconst, **kwargs)\u001b[0m\n\u001b[1;32m    701\u001b[0m         \u001b[0;32melse\u001b[0m\u001b[0;34m:\u001b[0m\u001b[0;34m\u001b[0m\u001b[0;34m\u001b[0m\u001b[0m\n\u001b[1;32m    702\u001b[0m             \u001b[0mweights\u001b[0m \u001b[0;34m=\u001b[0m \u001b[0mweights\u001b[0m\u001b[0;34m.\u001b[0m\u001b[0msqueeze\u001b[0m\u001b[0;34m(\u001b[0m\u001b[0;34m)\u001b[0m\u001b[0;34m\u001b[0m\u001b[0;34m\u001b[0m\u001b[0m\n\u001b[0;32m--> 703\u001b[0;31m         super(WLS, self).__init__(endog, exog, missing=missing,\n\u001b[0m\u001b[1;32m    704\u001b[0m                                   weights=weights, hasconst=hasconst, **kwargs)\n\u001b[1;32m    705\u001b[0m         \u001b[0mnobs\u001b[0m \u001b[0;34m=\u001b[0m \u001b[0mself\u001b[0m\u001b[0;34m.\u001b[0m\u001b[0mexog\u001b[0m\u001b[0;34m.\u001b[0m\u001b[0mshape\u001b[0m\u001b[0;34m[\u001b[0m\u001b[0;36m0\u001b[0m\u001b[0;34m]\u001b[0m\u001b[0;34m\u001b[0m\u001b[0;34m\u001b[0m\u001b[0m\n",
      "\u001b[0;32m/opt/conda/lib/python3.8/site-packages/statsmodels/regression/linear_model.py\u001b[0m in \u001b[0;36m__init__\u001b[0;34m(self, endog, exog, **kwargs)\u001b[0m\n\u001b[1;32m    188\u001b[0m     \"\"\"\n\u001b[1;32m    189\u001b[0m     \u001b[0;32mdef\u001b[0m \u001b[0m__init__\u001b[0m\u001b[0;34m(\u001b[0m\u001b[0mself\u001b[0m\u001b[0;34m,\u001b[0m \u001b[0mendog\u001b[0m\u001b[0;34m,\u001b[0m \u001b[0mexog\u001b[0m\u001b[0;34m,\u001b[0m \u001b[0;34m**\u001b[0m\u001b[0mkwargs\u001b[0m\u001b[0;34m)\u001b[0m\u001b[0;34m:\u001b[0m\u001b[0;34m\u001b[0m\u001b[0;34m\u001b[0m\u001b[0m\n\u001b[0;32m--> 190\u001b[0;31m         \u001b[0msuper\u001b[0m\u001b[0;34m(\u001b[0m\u001b[0mRegressionModel\u001b[0m\u001b[0;34m,\u001b[0m \u001b[0mself\u001b[0m\u001b[0;34m)\u001b[0m\u001b[0;34m.\u001b[0m\u001b[0m__init__\u001b[0m\u001b[0;34m(\u001b[0m\u001b[0mendog\u001b[0m\u001b[0;34m,\u001b[0m \u001b[0mexog\u001b[0m\u001b[0;34m,\u001b[0m \u001b[0;34m**\u001b[0m\u001b[0mkwargs\u001b[0m\u001b[0;34m)\u001b[0m\u001b[0;34m\u001b[0m\u001b[0;34m\u001b[0m\u001b[0m\n\u001b[0m\u001b[1;32m    191\u001b[0m         \u001b[0mself\u001b[0m\u001b[0;34m.\u001b[0m\u001b[0m_data_attr\u001b[0m\u001b[0;34m.\u001b[0m\u001b[0mextend\u001b[0m\u001b[0;34m(\u001b[0m\u001b[0;34m[\u001b[0m\u001b[0;34m'pinv_wexog'\u001b[0m\u001b[0;34m,\u001b[0m \u001b[0;34m'weights'\u001b[0m\u001b[0;34m]\u001b[0m\u001b[0;34m)\u001b[0m\u001b[0;34m\u001b[0m\u001b[0;34m\u001b[0m\u001b[0m\n\u001b[1;32m    192\u001b[0m \u001b[0;34m\u001b[0m\u001b[0m\n",
      "\u001b[0;32m/opt/conda/lib/python3.8/site-packages/statsmodels/base/model.py\u001b[0m in \u001b[0;36m__init__\u001b[0;34m(self, endog, exog, **kwargs)\u001b[0m\n\u001b[1;32m    235\u001b[0m \u001b[0;34m\u001b[0m\u001b[0m\n\u001b[1;32m    236\u001b[0m     \u001b[0;32mdef\u001b[0m \u001b[0m__init__\u001b[0m\u001b[0;34m(\u001b[0m\u001b[0mself\u001b[0m\u001b[0;34m,\u001b[0m \u001b[0mendog\u001b[0m\u001b[0;34m,\u001b[0m \u001b[0mexog\u001b[0m\u001b[0;34m=\u001b[0m\u001b[0;32mNone\u001b[0m\u001b[0;34m,\u001b[0m \u001b[0;34m**\u001b[0m\u001b[0mkwargs\u001b[0m\u001b[0;34m)\u001b[0m\u001b[0;34m:\u001b[0m\u001b[0;34m\u001b[0m\u001b[0;34m\u001b[0m\u001b[0m\n\u001b[0;32m--> 237\u001b[0;31m         \u001b[0msuper\u001b[0m\u001b[0;34m(\u001b[0m\u001b[0mLikelihoodModel\u001b[0m\u001b[0;34m,\u001b[0m \u001b[0mself\u001b[0m\u001b[0;34m)\u001b[0m\u001b[0;34m.\u001b[0m\u001b[0m__init__\u001b[0m\u001b[0;34m(\u001b[0m\u001b[0mendog\u001b[0m\u001b[0;34m,\u001b[0m \u001b[0mexog\u001b[0m\u001b[0;34m,\u001b[0m \u001b[0;34m**\u001b[0m\u001b[0mkwargs\u001b[0m\u001b[0;34m)\u001b[0m\u001b[0;34m\u001b[0m\u001b[0;34m\u001b[0m\u001b[0m\n\u001b[0m\u001b[1;32m    238\u001b[0m         \u001b[0mself\u001b[0m\u001b[0;34m.\u001b[0m\u001b[0minitialize\u001b[0m\u001b[0;34m(\u001b[0m\u001b[0;34m)\u001b[0m\u001b[0;34m\u001b[0m\u001b[0;34m\u001b[0m\u001b[0m\n\u001b[1;32m    239\u001b[0m \u001b[0;34m\u001b[0m\u001b[0m\n",
      "\u001b[0;32m/opt/conda/lib/python3.8/site-packages/statsmodels/base/model.py\u001b[0m in \u001b[0;36m__init__\u001b[0;34m(self, endog, exog, **kwargs)\u001b[0m\n\u001b[1;32m     75\u001b[0m         \u001b[0mmissing\u001b[0m \u001b[0;34m=\u001b[0m \u001b[0mkwargs\u001b[0m\u001b[0;34m.\u001b[0m\u001b[0mpop\u001b[0m\u001b[0;34m(\u001b[0m\u001b[0;34m'missing'\u001b[0m\u001b[0;34m,\u001b[0m \u001b[0;34m'none'\u001b[0m\u001b[0;34m)\u001b[0m\u001b[0;34m\u001b[0m\u001b[0;34m\u001b[0m\u001b[0m\n\u001b[1;32m     76\u001b[0m         \u001b[0mhasconst\u001b[0m \u001b[0;34m=\u001b[0m \u001b[0mkwargs\u001b[0m\u001b[0;34m.\u001b[0m\u001b[0mpop\u001b[0m\u001b[0;34m(\u001b[0m\u001b[0;34m'hasconst'\u001b[0m\u001b[0;34m,\u001b[0m \u001b[0;32mNone\u001b[0m\u001b[0;34m)\u001b[0m\u001b[0;34m\u001b[0m\u001b[0;34m\u001b[0m\u001b[0m\n\u001b[0;32m---> 77\u001b[0;31m         self.data = self._handle_data(endog, exog, missing, hasconst,\n\u001b[0m\u001b[1;32m     78\u001b[0m                                       **kwargs)\n\u001b[1;32m     79\u001b[0m         \u001b[0mself\u001b[0m\u001b[0;34m.\u001b[0m\u001b[0mk_constant\u001b[0m \u001b[0;34m=\u001b[0m \u001b[0mself\u001b[0m\u001b[0;34m.\u001b[0m\u001b[0mdata\u001b[0m\u001b[0;34m.\u001b[0m\u001b[0mk_constant\u001b[0m\u001b[0;34m\u001b[0m\u001b[0;34m\u001b[0m\u001b[0m\n",
      "\u001b[0;32m/opt/conda/lib/python3.8/site-packages/statsmodels/base/model.py\u001b[0m in \u001b[0;36m_handle_data\u001b[0;34m(self, endog, exog, missing, hasconst, **kwargs)\u001b[0m\n\u001b[1;32m     99\u001b[0m \u001b[0;34m\u001b[0m\u001b[0m\n\u001b[1;32m    100\u001b[0m     \u001b[0;32mdef\u001b[0m \u001b[0m_handle_data\u001b[0m\u001b[0;34m(\u001b[0m\u001b[0mself\u001b[0m\u001b[0;34m,\u001b[0m \u001b[0mendog\u001b[0m\u001b[0;34m,\u001b[0m \u001b[0mexog\u001b[0m\u001b[0;34m,\u001b[0m \u001b[0mmissing\u001b[0m\u001b[0;34m,\u001b[0m \u001b[0mhasconst\u001b[0m\u001b[0;34m,\u001b[0m \u001b[0;34m**\u001b[0m\u001b[0mkwargs\u001b[0m\u001b[0;34m)\u001b[0m\u001b[0;34m:\u001b[0m\u001b[0;34m\u001b[0m\u001b[0;34m\u001b[0m\u001b[0m\n\u001b[0;32m--> 101\u001b[0;31m         \u001b[0mdata\u001b[0m \u001b[0;34m=\u001b[0m \u001b[0mhandle_data\u001b[0m\u001b[0;34m(\u001b[0m\u001b[0mendog\u001b[0m\u001b[0;34m,\u001b[0m \u001b[0mexog\u001b[0m\u001b[0;34m,\u001b[0m \u001b[0mmissing\u001b[0m\u001b[0;34m,\u001b[0m \u001b[0mhasconst\u001b[0m\u001b[0;34m,\u001b[0m \u001b[0;34m**\u001b[0m\u001b[0mkwargs\u001b[0m\u001b[0;34m)\u001b[0m\u001b[0;34m\u001b[0m\u001b[0;34m\u001b[0m\u001b[0m\n\u001b[0m\u001b[1;32m    102\u001b[0m         \u001b[0;31m# kwargs arrays could have changed, easier to just attach here\u001b[0m\u001b[0;34m\u001b[0m\u001b[0;34m\u001b[0m\u001b[0;34m\u001b[0m\u001b[0m\n\u001b[1;32m    103\u001b[0m         \u001b[0;32mfor\u001b[0m \u001b[0mkey\u001b[0m \u001b[0;32min\u001b[0m \u001b[0mkwargs\u001b[0m\u001b[0;34m:\u001b[0m\u001b[0;34m\u001b[0m\u001b[0;34m\u001b[0m\u001b[0m\n",
      "\u001b[0;32m/opt/conda/lib/python3.8/site-packages/statsmodels/base/data.py\u001b[0m in \u001b[0;36mhandle_data\u001b[0;34m(endog, exog, missing, hasconst, **kwargs)\u001b[0m\n\u001b[1;32m    670\u001b[0m \u001b[0;34m\u001b[0m\u001b[0m\n\u001b[1;32m    671\u001b[0m     \u001b[0mklass\u001b[0m \u001b[0;34m=\u001b[0m \u001b[0mhandle_data_class_factory\u001b[0m\u001b[0;34m(\u001b[0m\u001b[0mendog\u001b[0m\u001b[0;34m,\u001b[0m \u001b[0mexog\u001b[0m\u001b[0;34m)\u001b[0m\u001b[0;34m\u001b[0m\u001b[0;34m\u001b[0m\u001b[0m\n\u001b[0;32m--> 672\u001b[0;31m     return klass(endog, exog=exog, missing=missing, hasconst=hasconst,\n\u001b[0m\u001b[1;32m    673\u001b[0m                  **kwargs)\n",
      "\u001b[0;32m/opt/conda/lib/python3.8/site-packages/statsmodels/base/data.py\u001b[0m in \u001b[0;36m__init__\u001b[0;34m(self, endog, exog, missing, hasconst, **kwargs)\u001b[0m\n\u001b[1;32m     85\u001b[0m         \u001b[0mself\u001b[0m\u001b[0;34m.\u001b[0m\u001b[0mconst_idx\u001b[0m \u001b[0;34m=\u001b[0m \u001b[0;32mNone\u001b[0m\u001b[0;34m\u001b[0m\u001b[0;34m\u001b[0m\u001b[0m\n\u001b[1;32m     86\u001b[0m         \u001b[0mself\u001b[0m\u001b[0;34m.\u001b[0m\u001b[0mk_constant\u001b[0m \u001b[0;34m=\u001b[0m \u001b[0;36m0\u001b[0m\u001b[0;34m\u001b[0m\u001b[0;34m\u001b[0m\u001b[0m\n\u001b[0;32m---> 87\u001b[0;31m         \u001b[0mself\u001b[0m\u001b[0;34m.\u001b[0m\u001b[0m_handle_constant\u001b[0m\u001b[0;34m(\u001b[0m\u001b[0mhasconst\u001b[0m\u001b[0;34m)\u001b[0m\u001b[0;34m\u001b[0m\u001b[0;34m\u001b[0m\u001b[0m\n\u001b[0m\u001b[1;32m     88\u001b[0m         \u001b[0mself\u001b[0m\u001b[0;34m.\u001b[0m\u001b[0m_check_integrity\u001b[0m\u001b[0;34m(\u001b[0m\u001b[0;34m)\u001b[0m\u001b[0;34m\u001b[0m\u001b[0;34m\u001b[0m\u001b[0m\n\u001b[1;32m     89\u001b[0m         \u001b[0mself\u001b[0m\u001b[0;34m.\u001b[0m\u001b[0m_cache\u001b[0m \u001b[0;34m=\u001b[0m \u001b[0;34m{\u001b[0m\u001b[0;34m}\u001b[0m\u001b[0;34m\u001b[0m\u001b[0;34m\u001b[0m\u001b[0m\n",
      "\u001b[0;32m/opt/conda/lib/python3.8/site-packages/statsmodels/base/data.py\u001b[0m in \u001b[0;36m_handle_constant\u001b[0;34m(self, hasconst)\u001b[0m\n\u001b[1;32m    131\u001b[0m             \u001b[0mexog_max\u001b[0m \u001b[0;34m=\u001b[0m \u001b[0mnp\u001b[0m\u001b[0;34m.\u001b[0m\u001b[0mmax\u001b[0m\u001b[0;34m(\u001b[0m\u001b[0mself\u001b[0m\u001b[0;34m.\u001b[0m\u001b[0mexog\u001b[0m\u001b[0;34m,\u001b[0m \u001b[0maxis\u001b[0m\u001b[0;34m=\u001b[0m\u001b[0;36m0\u001b[0m\u001b[0;34m)\u001b[0m\u001b[0;34m\u001b[0m\u001b[0;34m\u001b[0m\u001b[0m\n\u001b[1;32m    132\u001b[0m             \u001b[0;32mif\u001b[0m \u001b[0;32mnot\u001b[0m \u001b[0mnp\u001b[0m\u001b[0;34m.\u001b[0m\u001b[0misfinite\u001b[0m\u001b[0;34m(\u001b[0m\u001b[0mexog_max\u001b[0m\u001b[0;34m)\u001b[0m\u001b[0;34m.\u001b[0m\u001b[0mall\u001b[0m\u001b[0;34m(\u001b[0m\u001b[0;34m)\u001b[0m\u001b[0;34m:\u001b[0m\u001b[0;34m\u001b[0m\u001b[0;34m\u001b[0m\u001b[0m\n\u001b[0;32m--> 133\u001b[0;31m                 \u001b[0;32mraise\u001b[0m \u001b[0mMissingDataError\u001b[0m\u001b[0;34m(\u001b[0m\u001b[0;34m'exog contains inf or nans'\u001b[0m\u001b[0;34m)\u001b[0m\u001b[0;34m\u001b[0m\u001b[0;34m\u001b[0m\u001b[0m\n\u001b[0m\u001b[1;32m    134\u001b[0m             \u001b[0mexog_min\u001b[0m \u001b[0;34m=\u001b[0m \u001b[0mnp\u001b[0m\u001b[0;34m.\u001b[0m\u001b[0mmin\u001b[0m\u001b[0;34m(\u001b[0m\u001b[0mself\u001b[0m\u001b[0;34m.\u001b[0m\u001b[0mexog\u001b[0m\u001b[0;34m,\u001b[0m \u001b[0maxis\u001b[0m\u001b[0;34m=\u001b[0m\u001b[0;36m0\u001b[0m\u001b[0;34m)\u001b[0m\u001b[0;34m\u001b[0m\u001b[0;34m\u001b[0m\u001b[0m\n\u001b[1;32m    135\u001b[0m             \u001b[0mconst_idx\u001b[0m \u001b[0;34m=\u001b[0m \u001b[0mnp\u001b[0m\u001b[0;34m.\u001b[0m\u001b[0mwhere\u001b[0m\u001b[0;34m(\u001b[0m\u001b[0mexog_max\u001b[0m \u001b[0;34m==\u001b[0m \u001b[0mexog_min\u001b[0m\u001b[0;34m)\u001b[0m\u001b[0;34m[\u001b[0m\u001b[0;36m0\u001b[0m\u001b[0;34m]\u001b[0m\u001b[0;34m.\u001b[0m\u001b[0msqueeze\u001b[0m\u001b[0;34m(\u001b[0m\u001b[0;34m)\u001b[0m\u001b[0;34m\u001b[0m\u001b[0;34m\u001b[0m\u001b[0m\n",
      "\u001b[0;31mMissingDataError\u001b[0m: exog contains inf or nans"
     ]
    }
   ],
   "source": [
    "model = ARIMA(train_df['irradiance'],order=(2,1,2))\n",
    "arima_res = model.fit(disp=-1)\n",
    "plt.plot(arima_res.fittedvalues)"
   ]
  },
  {
   "cell_type": "code",
   "execution_count": null,
   "metadata": {},
   "outputs": [],
   "source": []
  },
  {
   "cell_type": "code",
   "execution_count": 166,
   "metadata": {},
   "outputs": [],
   "source": [
    "import tensorflow as tf"
   ]
  },
  {
   "source": [
    "## MLP Model"
   ],
   "cell_type": "markdown",
   "metadata": {}
  },
  {
   "cell_type": "code",
   "execution_count": 167,
   "metadata": {},
   "outputs": [],
   "source": [
    "def data_pipeline(irradiance):\n",
    "    window_size = 10\n",
    "    dataset = tf.data.Dataset.from_tensor_slices(irradiance)\n",
    "    dataset = dataset.window(window_size+1,shift=1,drop_remainder=True)\n",
    "    dataset = dataset.flat_map(lambda window: window.batch(window_size + 1))\n",
    "    dataset = dataset.map(lambda window: (window[:-1],window[-1]))\n",
    "\n",
    "    Xs, ys = [], []\n",
    "\n",
    "    for x,y in dataset:\n",
    "        Xs.append(x.numpy())\n",
    "        ys.append(y.numpy())\n",
    "\n",
    "    Xs = np.array(Xs)\n",
    "    ys = np.array(ys)\n",
    "\n",
    "    return Xs,ys"
   ]
  },
  {
   "cell_type": "code",
   "execution_count": 168,
   "metadata": {},
   "outputs": [],
   "source": [
    "xtrain,ytrain = data_pipeline(train_df['irradiance'])\n",
    "xtest,ytest = data_pipeline(test_df['irradiance'])"
   ]
  },
  {
   "cell_type": "code",
   "execution_count": 190,
   "metadata": {},
   "outputs": [
    {
     "output_type": "execute_result",
     "data": {
      "text/plain": [
       "array([  0.        ,   0.        ,   0.        ,   0.        ,\n",
       "         0.        ,   0.        ,   0.        ,   0.        ,\n",
       "         0.        ,   0.        ,   0.        , 110.1729965 ,\n",
       "       344.1929016 , 605.5789185 , 736.3297119 , 860.1663818 ,\n",
       "       908.1311035 , 887.4307251 , 770.4816895 , 612.2581177 ,\n",
       "       392.1202087 , 144.4653015 ,   3.44079304,   0.        ,\n",
       "         0.        ,   0.        ,   0.        ,   0.        ,\n",
       "         0.        ,   0.        ,   0.        ,   0.        ,\n",
       "         0.        ,   0.        ,   0.        , 123.9468002 ,\n",
       "       357.9605103 , 578.0518799 , 770.7376709 , 880.7178955 ,\n",
       "       901.2025757 , 866.7930908 , 777.3610229 , 605.3787842 ,\n",
       "       385.2413025 , 144.4701996 ,   0.        ,   0.        ,\n",
       "         0.        ,   0.        ,   0.        ,   0.        ,\n",
       "         0.        ,   0.        ,   0.        ,   0.        ,\n",
       "         0.        ,   0.        ,   0.        , 103.2826004 ,\n",
       "       330.4251099 , 564.3306885 , 736.3258057 , 846.4351196 ,\n",
       "       887.7122803 , 880.7092285 , 708.5692749 , 591.619873  ,\n",
       "       378.3616028 , 137.5888977 ,   0.        ,   0.        ,\n",
       "         0.        ,   0.        ,   0.        ,   0.        ,\n",
       "         0.        ,   0.        ,   0.        ,   0.        ,\n",
       "         0.        ,   0.        ,   0.        , 113.5944977 ,\n",
       "       351.0766907 , 564.2891846 , 736.3297119 , 846.3651123 ,\n",
       "       894.3115845 , 859.9127197 , 749.8441162 , 591.6212158 ,\n",
       "       371.4829102 , 130.7066956 ,   0.        ,   0.        ,\n",
       "         0.        ,   0.        ,   0.        ,   0.        ,\n",
       "         0.        ,   0.        ,   0.        ,   0.        ,\n",
       "         0.        ,   0.        ,   0.        , 106.735199  ,\n",
       "       337.3114929 , 550.5302124 , 701.9212036 , 846.4304199 ,\n",
       "       853.0449219 , 853.0333252 , 742.9655151 , 591.6213989 ,\n",
       "       361.1642151 , 127.2673035 ,   0.        ,   0.        ,\n",
       "         0.        ,   0.        ,   0.        ,   0.        ,\n",
       "         0.        ,   0.        ,   0.        ,   0.        ,\n",
       "         0.        ,   0.        ,   0.        , 117.0636978 ,\n",
       "       354.53479   , 564.3621826 , 732.8876953 , 853.3167114 ,\n",
       "       897.760376  , 873.6713257 , 770.4822998 , 598.5006714 ,\n",
       "       371.4831848 , 123.8275986 ,   0.        ,   0.        ,\n",
       "         0.        ,   0.        ,   0.        ,   0.        ,\n",
       "         0.        ,   0.        ,   0.        ,   0.        ,\n",
       "         0.        ,   0.        ,   0.        , 130.8421021 ,\n",
       "       357.9718018 , 578.0524292 , 750.0928955 , 853.065979  ,\n",
       "       908.067688  , 880.5515747 , 777.3630981 , 605.380127  ,\n",
       "       378.3435974 , 110.0690002 ,   0.        ,   0.        ,\n",
       "         0.        ,   0.        ,   0.        ,   0.        ,\n",
       "         0.        ,   0.        ,   0.        ,   0.        ,\n",
       "         0.        ,   0.        ,   0.        , 110.1783981 ,\n",
       "       347.637085  , 564.2891846 , 736.3297119 , 846.1763916 ,\n",
       "       887.430481  , 859.914917  , 753.2854004 , 584.6939697 ,\n",
       "       357.7167969 ,  82.55175781,   0.        ,   0.        ,\n",
       "         0.        ,   0.        ,   0.        ,   0.        ,\n",
       "         0.        ,   0.        ,   0.        ,   0.        ,\n",
       "         0.        ,   0.        ,   0.        ,  99.84641266,\n",
       "       347.6362    , 564.2888794 , 732.888916  , 839.281311  ,\n",
       "       883.991272  , 853.0355835 , 742.9644775 , 574.369873  ,\n",
       "       357.6731873 ,  58.47420883,   0.        ,   0.        ,\n",
       "         0.        ,   0.        ,   0.        ,   0.        ,\n",
       "         0.        ,   0.        ,   0.        ,   0.        ,\n",
       "         0.        ,   0.        ,   0.        , 113.639801  ,\n",
       "       344.2112122 , 557.4384766 , 726.0073242 , 846.1569824 ,\n",
       "       890.8709106 , 846.156189  , 756.7249756 , 591.588501  ,\n",
       "       374.9229126 ,  55.03448105,   0.        ,   0.        ,\n",
       "         0.        ,   0.        ,   0.        ,   0.        ,\n",
       "         0.        ,   0.        ,   0.        ,   0.        ,\n",
       "         0.        ,   0.        ,   0.        , 113.6666031 ,\n",
       "       354.6408081 , 578.1168823 , 746.6520996 , 846.1583862 ,\n",
       "       870.2335205 , 846.156189  , 746.3746948 , 570.8945923 ,\n",
       "       350.8196106 ,  65.35346985,   0.        ,   0.        ,\n",
       "         0.        ,   0.        ,   0.        ,   0.        ,\n",
       "         0.        ,   0.        ,   0.        ,   0.        ,\n",
       "         0.        ,   0.        ,   0.        ,  89.52947998,\n",
       "       399.3835144 , 495.6199036 , 777.6192017 , 825.5192871 ,\n",
       "       894.3110962 , 818.6389771 , 739.5175781 , 564.0789795 ,\n",
       "       330.2058105 ,  61.91379166,   0.        ,   0.        ,\n",
       "         0.        ,   0.        ,   0.        ,   0.        ,\n",
       "         0.        ,   0.        ,   0.        ,   0.        ,\n",
       "         0.        ,   0.        ,   0.        ,  41.31760025,\n",
       "       216.8858948 , 268.4678955 , 609.0187988 , 529.8140869 ,\n",
       "       667.2921753 , 732.6464233 , 405.8797913 , 392.1211853 ,\n",
       "       220.1380005 ,  55.03440857,   0.        ,   0.        ,\n",
       "         0.        ,   0.        ,   0.        ,   0.        ,\n",
       "         0.        ,   0.        ,   0.        ,   0.        ,\n",
       "         0.        ,   0.        ,   0.        ,  68.84351349,\n",
       "       230.6069946 , 172.0393066 , 357.8424072 , 299.343811  ,\n",
       "       509.0683899 , 632.8964844 , 343.9659119 , 275.1722107 ,\n",
       "       192.6204071 ,  41.2768898 ,   0.        ,   0.        ,\n",
       "         0.        ,   0.        ,   0.        ,   0.        ,\n",
       "         0.        ,   0.        ,   0.        ,   0.        ,\n",
       "         0.        ,   0.        ,   0.        ,  30.97735023,\n",
       "       144.5606995 , 498.9179993 , 670.9547119 , 801.6030884 ,\n",
       "       691.369812  , 409.3186951 , 347.4049072 , 113.5084991 ,\n",
       "        48.17097092, 106.6645966 ,   0.        ,   0.        ,\n",
       "         0.        ,   0.        ,   0.        ,   0.        ,\n",
       "         0.        ,   0.        ,   0.        ,   0.        ,\n",
       "         0.        ,   0.        ,   0.        ,   3.44212699,\n",
       "        37.86326981, 123.9133987 , 519.7224121 , 385.3685913 ,\n",
       "       825.6405029 , 794.5598145 , 615.6986084 , 522.8272705 ,\n",
       "       171.9828033 ,  34.40769958,   0.        ,   0.        ,\n",
       "         0.        ,   0.        ,   0.        ,   0.        ,\n",
       "         0.        ,   0.        ,   0.        ,   0.        ,\n",
       "         0.        ,   0.        ,   0.        ,  55.07085037,\n",
       "       292.5600891 , 488.5914917 , 677.8129272 , 825.6303711 ,\n",
       "       223.6036987 , 488.5925903 , 578.0532227 , 189.1916046 ,\n",
       "       113.5460968 ,  48.17058945,   0.        ,   0.        ,\n",
       "         0.        ,   0.        ,   0.        ,   0.        ,\n",
       "         0.        ,   0.        ,   0.        ,   0.        ,\n",
       "         0.        ,   0.        ,   0.        ,  68.84107971,\n",
       "       254.7021027 , 461.0664063 , 643.4279785 , 736.2764893 ,\n",
       "       780.8007202 ])"
      ]
     },
     "metadata": {},
     "execution_count": 190
    }
   ],
   "source": [
    "ytest"
   ]
  },
  {
   "cell_type": "code",
   "execution_count": 185,
   "metadata": {},
   "outputs": [
    {
     "output_type": "stream",
     "name": "stdout",
     "text": [
      "Epoch 1/10\n",
      "32/32 [==============================] - 1s 2ms/step - loss: nan - accuracy: 0.4450\n",
      "Epoch 2/10\n",
      "32/32 [==============================] - 0s 3ms/step - loss: nan - accuracy: 0.4552\n",
      "Epoch 3/10\n",
      "32/32 [==============================] - 0s 2ms/step - loss: nan - accuracy: 0.4556\n",
      "Epoch 4/10\n",
      "32/32 [==============================] - 0s 2ms/step - loss: nan - accuracy: 0.4411\n",
      "Epoch 5/10\n",
      "32/32 [==============================] - 0s 3ms/step - loss: nan - accuracy: 0.4524\n",
      "Epoch 6/10\n",
      "32/32 [==============================] - 0s 3ms/step - loss: nan - accuracy: 0.4581\n",
      "Epoch 7/10\n",
      "32/32 [==============================] - 0s 2ms/step - loss: nan - accuracy: 0.4304\n",
      "Epoch 8/10\n",
      "32/32 [==============================] - 0s 3ms/step - loss: nan - accuracy: 0.4465\n",
      "Epoch 9/10\n",
      "32/32 [==============================] - 0s 2ms/step - loss: nan - accuracy: 0.4389\n",
      "Epoch 10/10\n",
      "32/32 [==============================] - 0s 3ms/step - loss: nan - accuracy: 0.4577\n"
     ]
    },
    {
     "output_type": "execute_result",
     "data": {
      "text/plain": [
       "<tensorflow.python.keras.callbacks.History at 0x7f0ee7631d30>"
      ]
     },
     "metadata": {},
     "execution_count": 185
    }
   ],
   "source": [
    "mlp_model = tf.keras.Sequential([\n",
    "    tf.keras.layers.Dense(10),\n",
    "    tf.keras.layers.Dense(1)\n",
    "])\n",
    "mlp_model.compile(optimizer='adam',loss='mse',metrics=['accuracy'])\n",
    "mlp_model.fit(xtrain,ytrain,epochs=10)"
   ]
  },
  {
   "cell_type": "code",
   "execution_count": 175,
   "metadata": {},
   "outputs": [],
   "source": [
    "ypred = mlp_model.predict(xtest)"
   ]
  },
  {
   "cell_type": "code",
   "execution_count": 180,
   "metadata": {},
   "outputs": [
    {
     "output_type": "execute_result",
     "data": {
      "text/plain": [
       "array([[nan],\n",
       "       [nan],\n",
       "       [nan],\n",
       "       [nan],\n",
       "       [nan],\n",
       "       [nan],\n",
       "       [nan],\n",
       "       [nan],\n",
       "       [nan],\n",
       "       [nan],\n",
       "       [nan],\n",
       "       [nan],\n",
       "       [nan],\n",
       "       [nan],\n",
       "       [nan],\n",
       "       [nan],\n",
       "       [nan],\n",
       "       [nan],\n",
       "       [nan],\n",
       "       [nan],\n",
       "       [nan],\n",
       "       [nan],\n",
       "       [nan],\n",
       "       [nan],\n",
       "       [nan],\n",
       "       [nan],\n",
       "       [nan],\n",
       "       [nan],\n",
       "       [nan],\n",
       "       [nan],\n",
       "       [nan],\n",
       "       [nan],\n",
       "       [nan],\n",
       "       [nan],\n",
       "       [nan],\n",
       "       [nan],\n",
       "       [nan],\n",
       "       [nan],\n",
       "       [nan],\n",
       "       [nan],\n",
       "       [nan],\n",
       "       [nan],\n",
       "       [nan],\n",
       "       [nan],\n",
       "       [nan],\n",
       "       [nan],\n",
       "       [nan],\n",
       "       [nan],\n",
       "       [nan],\n",
       "       [nan],\n",
       "       [nan],\n",
       "       [nan],\n",
       "       [nan],\n",
       "       [nan],\n",
       "       [nan],\n",
       "       [nan],\n",
       "       [nan],\n",
       "       [nan],\n",
       "       [nan],\n",
       "       [nan],\n",
       "       [nan],\n",
       "       [nan],\n",
       "       [nan],\n",
       "       [nan],\n",
       "       [nan],\n",
       "       [nan],\n",
       "       [nan],\n",
       "       [nan],\n",
       "       [nan],\n",
       "       [nan],\n",
       "       [nan],\n",
       "       [nan],\n",
       "       [nan],\n",
       "       [nan],\n",
       "       [nan],\n",
       "       [nan],\n",
       "       [nan],\n",
       "       [nan],\n",
       "       [nan],\n",
       "       [nan],\n",
       "       [nan],\n",
       "       [nan],\n",
       "       [nan],\n",
       "       [nan],\n",
       "       [nan],\n",
       "       [nan],\n",
       "       [nan],\n",
       "       [nan],\n",
       "       [nan],\n",
       "       [nan],\n",
       "       [nan],\n",
       "       [nan],\n",
       "       [nan],\n",
       "       [nan],\n",
       "       [nan],\n",
       "       [nan],\n",
       "       [nan],\n",
       "       [nan],\n",
       "       [nan],\n",
       "       [nan],\n",
       "       [nan],\n",
       "       [nan],\n",
       "       [nan],\n",
       "       [nan],\n",
       "       [nan],\n",
       "       [nan],\n",
       "       [nan],\n",
       "       [nan],\n",
       "       [nan],\n",
       "       [nan],\n",
       "       [nan],\n",
       "       [nan],\n",
       "       [nan],\n",
       "       [nan],\n",
       "       [nan],\n",
       "       [nan],\n",
       "       [nan],\n",
       "       [nan],\n",
       "       [nan],\n",
       "       [nan],\n",
       "       [nan],\n",
       "       [nan],\n",
       "       [nan],\n",
       "       [nan],\n",
       "       [nan],\n",
       "       [nan],\n",
       "       [nan],\n",
       "       [nan],\n",
       "       [nan],\n",
       "       [nan],\n",
       "       [nan],\n",
       "       [nan],\n",
       "       [nan],\n",
       "       [nan],\n",
       "       [nan],\n",
       "       [nan],\n",
       "       [nan],\n",
       "       [nan],\n",
       "       [nan],\n",
       "       [nan],\n",
       "       [nan],\n",
       "       [nan],\n",
       "       [nan],\n",
       "       [nan],\n",
       "       [nan],\n",
       "       [nan],\n",
       "       [nan],\n",
       "       [nan],\n",
       "       [nan],\n",
       "       [nan],\n",
       "       [nan],\n",
       "       [nan],\n",
       "       [nan],\n",
       "       [nan],\n",
       "       [nan],\n",
       "       [nan],\n",
       "       [nan],\n",
       "       [nan],\n",
       "       [nan],\n",
       "       [nan],\n",
       "       [nan],\n",
       "       [nan],\n",
       "       [nan],\n",
       "       [nan],\n",
       "       [nan],\n",
       "       [nan],\n",
       "       [nan],\n",
       "       [nan],\n",
       "       [nan],\n",
       "       [nan],\n",
       "       [nan],\n",
       "       [nan],\n",
       "       [nan],\n",
       "       [nan],\n",
       "       [nan],\n",
       "       [nan],\n",
       "       [nan],\n",
       "       [nan],\n",
       "       [nan],\n",
       "       [nan],\n",
       "       [nan],\n",
       "       [nan],\n",
       "       [nan],\n",
       "       [nan],\n",
       "       [nan],\n",
       "       [nan],\n",
       "       [nan],\n",
       "       [nan],\n",
       "       [nan],\n",
       "       [nan],\n",
       "       [nan],\n",
       "       [nan],\n",
       "       [nan],\n",
       "       [nan],\n",
       "       [nan],\n",
       "       [nan],\n",
       "       [nan],\n",
       "       [nan],\n",
       "       [nan],\n",
       "       [nan],\n",
       "       [nan],\n",
       "       [nan],\n",
       "       [nan],\n",
       "       [nan],\n",
       "       [nan],\n",
       "       [nan],\n",
       "       [nan],\n",
       "       [nan],\n",
       "       [nan],\n",
       "       [nan],\n",
       "       [nan],\n",
       "       [nan],\n",
       "       [nan],\n",
       "       [nan],\n",
       "       [nan],\n",
       "       [nan],\n",
       "       [nan],\n",
       "       [nan],\n",
       "       [nan],\n",
       "       [nan],\n",
       "       [nan],\n",
       "       [nan],\n",
       "       [nan],\n",
       "       [nan],\n",
       "       [nan],\n",
       "       [nan],\n",
       "       [nan],\n",
       "       [nan],\n",
       "       [nan],\n",
       "       [nan],\n",
       "       [nan],\n",
       "       [nan],\n",
       "       [nan],\n",
       "       [nan],\n",
       "       [nan],\n",
       "       [nan],\n",
       "       [nan],\n",
       "       [nan],\n",
       "       [nan],\n",
       "       [nan],\n",
       "       [nan],\n",
       "       [nan],\n",
       "       [nan],\n",
       "       [nan],\n",
       "       [nan],\n",
       "       [nan],\n",
       "       [nan],\n",
       "       [nan],\n",
       "       [nan],\n",
       "       [nan],\n",
       "       [nan],\n",
       "       [nan],\n",
       "       [nan],\n",
       "       [nan],\n",
       "       [nan],\n",
       "       [nan],\n",
       "       [nan],\n",
       "       [nan],\n",
       "       [nan],\n",
       "       [nan],\n",
       "       [nan],\n",
       "       [nan],\n",
       "       [nan],\n",
       "       [nan],\n",
       "       [nan],\n",
       "       [nan],\n",
       "       [nan],\n",
       "       [nan],\n",
       "       [nan],\n",
       "       [nan],\n",
       "       [nan],\n",
       "       [nan],\n",
       "       [nan],\n",
       "       [nan],\n",
       "       [nan],\n",
       "       [nan],\n",
       "       [nan],\n",
       "       [nan],\n",
       "       [nan],\n",
       "       [nan],\n",
       "       [nan],\n",
       "       [nan],\n",
       "       [nan],\n",
       "       [nan],\n",
       "       [nan],\n",
       "       [nan],\n",
       "       [nan],\n",
       "       [nan],\n",
       "       [nan],\n",
       "       [nan],\n",
       "       [nan],\n",
       "       [nan],\n",
       "       [nan],\n",
       "       [nan],\n",
       "       [nan],\n",
       "       [nan],\n",
       "       [nan],\n",
       "       [nan],\n",
       "       [nan],\n",
       "       [nan],\n",
       "       [nan],\n",
       "       [nan],\n",
       "       [nan],\n",
       "       [nan],\n",
       "       [nan],\n",
       "       [nan],\n",
       "       [nan],\n",
       "       [nan],\n",
       "       [nan],\n",
       "       [nan],\n",
       "       [nan],\n",
       "       [nan],\n",
       "       [nan],\n",
       "       [nan],\n",
       "       [nan],\n",
       "       [nan],\n",
       "       [nan],\n",
       "       [nan],\n",
       "       [nan],\n",
       "       [nan],\n",
       "       [nan],\n",
       "       [nan],\n",
       "       [nan],\n",
       "       [nan],\n",
       "       [nan],\n",
       "       [nan],\n",
       "       [nan],\n",
       "       [nan],\n",
       "       [nan],\n",
       "       [nan],\n",
       "       [nan],\n",
       "       [nan],\n",
       "       [nan],\n",
       "       [nan],\n",
       "       [nan],\n",
       "       [nan],\n",
       "       [nan],\n",
       "       [nan],\n",
       "       [nan],\n",
       "       [nan],\n",
       "       [nan],\n",
       "       [nan],\n",
       "       [nan],\n",
       "       [nan],\n",
       "       [nan],\n",
       "       [nan],\n",
       "       [nan],\n",
       "       [nan],\n",
       "       [nan],\n",
       "       [nan],\n",
       "       [nan],\n",
       "       [nan],\n",
       "       [nan],\n",
       "       [nan],\n",
       "       [nan],\n",
       "       [nan],\n",
       "       [nan],\n",
       "       [nan],\n",
       "       [nan],\n",
       "       [nan],\n",
       "       [nan],\n",
       "       [nan],\n",
       "       [nan],\n",
       "       [nan],\n",
       "       [nan],\n",
       "       [nan],\n",
       "       [nan],\n",
       "       [nan],\n",
       "       [nan],\n",
       "       [nan],\n",
       "       [nan],\n",
       "       [nan],\n",
       "       [nan],\n",
       "       [nan],\n",
       "       [nan],\n",
       "       [nan],\n",
       "       [nan],\n",
       "       [nan],\n",
       "       [nan],\n",
       "       [nan],\n",
       "       [nan],\n",
       "       [nan],\n",
       "       [nan],\n",
       "       [nan],\n",
       "       [nan],\n",
       "       [nan],\n",
       "       [nan],\n",
       "       [nan],\n",
       "       [nan],\n",
       "       [nan],\n",
       "       [nan],\n",
       "       [nan],\n",
       "       [nan],\n",
       "       [nan],\n",
       "       [nan],\n",
       "       [nan],\n",
       "       [nan],\n",
       "       [nan],\n",
       "       [nan],\n",
       "       [nan],\n",
       "       [nan],\n",
       "       [nan],\n",
       "       [nan],\n",
       "       [nan],\n",
       "       [nan],\n",
       "       [nan],\n",
       "       [nan],\n",
       "       [nan],\n",
       "       [nan],\n",
       "       [nan],\n",
       "       [nan],\n",
       "       [nan],\n",
       "       [nan],\n",
       "       [nan],\n",
       "       [nan],\n",
       "       [nan],\n",
       "       [nan],\n",
       "       [nan],\n",
       "       [nan],\n",
       "       [nan],\n",
       "       [nan],\n",
       "       [nan],\n",
       "       [nan],\n",
       "       [nan],\n",
       "       [nan]], dtype=float32)"
      ]
     },
     "metadata": {},
     "execution_count": 180
    }
   ],
   "source": [
    "ypred"
   ]
  },
  {
   "cell_type": "code",
   "execution_count": null,
   "metadata": {},
   "outputs": [],
   "source": []
  },
  {
   "source": [
    "## LSTM "
   ],
   "cell_type": "markdown",
   "metadata": {}
  },
  {
   "cell_type": "code",
   "execution_count": null,
   "metadata": {},
   "outputs": [],
   "source": [
    "b"
   ]
  },
  {
   "cell_type": "code",
   "execution_count": null,
   "metadata": {},
   "outputs": [],
   "source": []
  },
  {
   "cell_type": "code",
   "execution_count": null,
   "metadata": {},
   "outputs": [],
   "source": []
  },
  {
   "cell_type": "code",
   "execution_count": null,
   "metadata": {},
   "outputs": [],
   "source": []
  },
  {
   "cell_type": "code",
   "execution_count": 360,
   "metadata": {},
   "outputs": [],
   "source": [
    "from numpy import array\n",
    "\n",
    "def split_sequence(sequence, n_steps_in, n_steps_out):\n",
    "\tX, y = list(), list()\n",
    "\tfor i in range(len(sequence)):\n",
    "\t\t# find the end of this pattern\n",
    "\t\tend_ix = i + n_steps_in\n",
    "\t\tout_end_ix = end_ix + n_steps_out\n",
    "\t\t# check if we are beyond the sequence\n",
    "\t\tif out_end_ix > len(sequence):\n",
    "\t\t\tbreak\n",
    "\t\t# gather input and output parts of the pattern\n",
    "\t\tseq_x, seq_y = sequence[i:end_ix], sequence[end_ix:out_end_ix]\n",
    "\t\tX.append(seq_x)\n",
    "\t\ty.append(seq_y)\n",
    "\treturn array(X), array(y)"
   ]
  },
  {
   "cell_type": "code",
   "execution_count": 361,
   "metadata": {},
   "outputs": [],
   "source": [
    "n_steps = 20\n",
    "n_steps_out = 10\n",
    "\n",
    "X_train,y_train = split_sequence(train_df['irradiance'].fillna(0),n_steps,n_steps_out)\n",
    "X_test,y_test = split_sequence(test_df['irradiance'].fillna(0),n_steps,n_steps_out)"
   ]
  },
  {
   "cell_type": "code",
   "execution_count": 362,
   "metadata": {
    "tags": [
     "outputPrepend"
    ]
   },
   "outputs": [
    {
     "output_type": "stream",
     "name": "stdout",
     "text": [
      "       0.         103.2659988\n",
      "  330.4251099  550.5825806  729.4456177  867.0797729 1028.796021\n",
      "  932.322876   839.3499756  598.5036011  385.2408142  178.9163055] [6.88158417 0.         0.         0.         0.         0.\n",
      " 0.         0.         0.         0.        ]\n",
      "[   0.            0.            0.            0.            0.\n",
      "    0.            0.            0.          103.2659988   330.4251099\n",
      "  550.5825806   729.4456177   867.0797729  1028.796021    932.322876\n",
      "  839.3499756   598.5036011   385.2408142   178.9163055     6.88158417] [0. 0. 0. 0. 0. 0. 0. 0. 0. 0.]\n",
      "[   0.            0.            0.            0.            0.\n",
      "    0.            0.          103.2659988   330.4251099   550.5825806\n",
      "  729.4456177   867.0797729  1028.796021    932.322876    839.3499756\n",
      "  598.5036011   385.2408142   178.9163055     6.88158417    0.        ] [0. 0. 0. 0. 0. 0. 0. 0. 0. 0.]\n",
      "[   0.            0.            0.            0.            0.\n",
      "    0.          103.2659988   330.4251099   550.5825806   729.4456177\n",
      "  867.0797729  1028.796021    932.322876    839.3499756   598.5036011\n",
      "  385.2408142   178.9163055     6.88158417    0.            0.        ] [0. 0. 0. 0. 0. 0. 0. 0. 0. 0.]\n",
      "[   0.            0.            0.            0.            0.\n",
      "  103.2659988   330.4251099   550.5825806   729.4456177   867.0797729\n",
      " 1028.796021    932.322876    839.3499756   598.5036011   385.2408142\n",
      "  178.9163055     6.88158417    0.            0.            0.        ] [  0.          0.          0.          0.          0.          0.\n",
      "   0.          0.          0.        110.1530991]\n",
      "[   0.            0.            0.            0.          103.2659988\n",
      "  330.4251099   550.5825806   729.4456177   867.0797729  1028.796021\n",
      "  932.322876    839.3499756   598.5036011   385.2408142   178.9163055\n",
      "    6.88158417    0.            0.            0.            0.        ] [  0.          0.          0.          0.          0.          0.\n",
      "   0.          0.        110.1530991 330.4255981]\n",
      "[   0.            0.            0.          103.2659988   330.4251099\n",
      "  550.5825806   729.4456177   867.0797729  1028.796021    932.322876\n",
      "  839.3499756   598.5036011   385.2408142   178.9163055     6.88158417\n",
      "    0.            0.            0.            0.            0.        ] [  0.          0.          0.          0.          0.          0.\n",
      "   0.        110.1530991 330.4255981 516.1751099]\n",
      "[   0.            0.          103.2659988   330.4251099   550.5825806\n",
      "  729.4456177   867.0797729  1028.796021    932.322876    839.3499756\n",
      "  598.5036011   385.2408142   178.9163055     6.88158417    0.\n",
      "    0.            0.            0.            0.            0.        ] [  0.          0.          0.          0.          0.          0.\n",
      " 110.1530991 330.4255981 516.1751099 743.2091064]\n",
      "[   0.          103.2659988   330.4251099   550.5825806   729.4456177\n",
      "  867.0797729  1028.796021    932.322876    839.3499756   598.5036011\n",
      "  385.2408142   178.9163055     6.88158417    0.            0.\n",
      "    0.            0.            0.            0.            0.        ] [  0.          0.          0.          0.          0.        110.1530991\n",
      " 330.4255981 516.1751099 743.2091064 839.5535278]\n",
      "[ 103.2659988   330.4251099   550.5825806   729.4456177   867.0797729\n",
      " 1028.796021    932.322876    839.3499756   598.5036011   385.2408142\n",
      "  178.9163055     6.88158417    0.            0.            0.\n",
      "    0.            0.            0.            0.            0.        ] [  0.          0.          0.          0.        110.1530991 330.4255981\n",
      " 516.1751099 743.2091064 839.5535278 928.9772949]\n",
      "[ 330.4251099   550.5825806   729.4456177   867.0797729  1028.796021\n",
      "  932.322876    839.3499756   598.5036011   385.2408142   178.9163055\n",
      "    6.88158417    0.            0.            0.            0.\n",
      "    0.            0.            0.            0.            0.        ] [  0.          0.          0.        110.1530991 330.4255981 516.1751099\n",
      " 743.2091064 839.5535278 928.9772949 866.9113159]\n",
      "[ 550.5825806   729.4456177   867.0797729  1028.796021    932.322876\n",
      "  839.3499756   598.5036011   385.2408142   178.9163055     6.88158417\n",
      "    0.            0.            0.            0.            0.\n",
      "    0.            0.            0.            0.            0.        ] [  0.          0.        110.1530991 330.4255981 516.1751099 743.2091064\n",
      " 839.5535278 928.9772949 866.9113159 722.328125 ]\n",
      "[ 729.4456177   867.0797729  1028.796021    932.322876    839.3499756\n",
      "  598.5036011   385.2408142   178.9163055     6.88158417    0.\n",
      "    0.            0.            0.            0.            0.\n",
      "    0.            0.            0.            0.            0.        ] [  0.        110.1530991 330.4255981 516.1751099 743.2091064 839.5535278\n",
      " 928.9772949 866.9113159 722.328125  605.4060059]\n",
      "[ 867.0797729  1028.796021    932.322876    839.3499756   598.5036011\n",
      "  385.2408142   178.9163055     6.88158417    0.            0.\n",
      "    0.            0.            0.            0.            0.\n",
      "    0.            0.            0.            0.            0.        ] [110.1530991 330.4255981 516.1751099 743.2091064 839.5535278 928.9772949\n",
      " 866.9113159 722.328125  605.4060059 110.0980988]\n",
      "[1028.796021    932.322876    839.3499756   598.5036011   385.2408142\n",
      "  178.9163055     6.88158417    0.            0.            0.\n",
      "    0.            0.            0.            0.            0.\n",
      "    0.            0.            0.            0.          110.1530991 ] [330.4255981 516.1751099 743.2091064 839.5535278 928.9772949 866.9113159\n",
      " 722.328125  605.4060059 110.0980988 137.6316071]\n",
      "[932.322876   839.3499756  598.5036011  385.2408142  178.9163055\n",
      "   6.88158417   0.           0.           0.           0.\n",
      "   0.           0.           0.           0.           0.\n",
      "   0.           0.           0.         110.1530991  330.4255981 ] [516.1751099  743.2091064  839.5535278  928.9772949  866.9113159\n",
      " 722.328125   605.4060059  110.0980988  137.6316071    3.44078207]\n",
      "[839.3499756  598.5036011  385.2408142  178.9163055    6.88158417\n",
      "   0.           0.           0.           0.           0.\n",
      "   0.           0.           0.           0.           0.\n",
      "   0.           0.         110.1530991  330.4255981  516.1751099 ] [743.2091064  839.5535278  928.9772949  866.9113159  722.328125\n",
      " 605.4060059  110.0980988  137.6316071    3.44078207   0.        ]\n",
      "[598.5036011  385.2408142  178.9163055    6.88158417   0.\n",
      "   0.           0.           0.           0.           0.\n",
      "   0.           0.           0.           0.           0.\n",
      "   0.         110.1530991  330.4255981  516.1751099  743.2091064 ] [839.5535278  928.9772949  866.9113159  722.328125   605.4060059\n",
      " 110.0980988  137.6316071    3.44078207   0.           0.        ]\n",
      "[385.2408142  178.9163055    6.88158417   0.           0.\n",
      "   0.           0.           0.           0.           0.\n",
      "   0.           0.           0.           0.           0.\n",
      " 110.1530991  330.4255981  516.1751099  743.2091064  839.5535278 ] [928.9772949  866.9113159  722.328125   605.4060059  110.0980988\n",
      " 137.6316071    3.44078207   0.           0.           0.        ]\n",
      "[178.9163055    6.88158417   0.           0.           0.\n",
      "   0.           0.           0.           0.           0.\n",
      "   0.           0.           0.           0.         110.1530991\n",
      " 330.4255981  516.1751099  743.2091064  839.5535278  928.9772949 ] [866.9113159  722.328125   605.4060059  110.0980988  137.6316071\n",
      "   3.44078207   0.           0.           0.           0.        ]\n",
      "[  6.88158417   0.           0.           0.           0.\n",
      "   0.           0.           0.           0.           0.\n",
      "   0.           0.           0.         110.1530991  330.4255981\n",
      " 516.1751099  743.2091064  839.5535278  928.9772949  866.9113159 ] [722.328125   605.4060059  110.0980988  137.6316071    3.44078207\n",
      "   0.           0.           0.           0.           0.        ]\n",
      "[  0.          0.          0.          0.          0.          0.\n",
      "   0.          0.          0.          0.          0.          0.\n",
      " 110.1530991 330.4255981 516.1751099 743.2091064 839.5535278 928.9772949\n",
      " 866.9113159 722.328125 ] [605.4060059  110.0980988  137.6316071    3.44078207   0.\n",
      "   0.           0.           0.           0.           0.        ]\n",
      "[  0.          0.          0.          0.          0.          0.\n",
      "   0.          0.          0.          0.          0.        110.1530991\n",
      " 330.4255981 516.1751099 743.2091064 839.5535278 928.9772949 866.9113159\n",
      " 722.328125  605.4060059] [110.0980988  137.6316071    3.44078207   0.           0.\n",
      "   0.           0.           0.           0.           0.        ]\n",
      "[  0.          0.          0.          0.          0.          0.\n",
      "   0.          0.          0.          0.        110.1530991 330.4255981\n",
      " 516.1751099 743.2091064 839.5535278 928.9772949 866.9113159 722.328125\n",
      " 605.4060059 110.0980988] [137.6316071    3.44078207   0.           0.           0.\n",
      "   0.           0.           0.           0.           0.        ]\n",
      "[  0.          0.          0.          0.          0.          0.\n",
      "   0.          0.          0.        110.1530991 330.4255981 516.1751099\n",
      " 743.2091064 839.5535278 928.9772949 866.9113159 722.328125  605.4060059\n",
      " 110.0980988 137.6316071] [3.44078207 0.         0.         0.         0.         0.\n",
      " 0.         0.         0.         0.        ]\n",
      "[  0.           0.           0.           0.           0.\n",
      "   0.           0.           0.         110.1530991  330.4255981\n",
      " 516.1751099  743.2091064  839.5535278  928.9772949  866.9113159\n",
      " 722.328125   605.4060059  110.0980988  137.6316071    3.44078207] [0. 0. 0. 0. 0. 0. 0. 0. 0. 0.]\n",
      "[  0.           0.           0.           0.           0.\n",
      "   0.           0.         110.1530991  330.4255981  516.1751099\n",
      " 743.2091064  839.5535278  928.9772949  866.9113159  722.328125\n",
      " 605.4060059  110.0980988  137.6316071    3.44078207   0.        ] [0. 0. 0. 0. 0. 0. 0. 0. 0. 0.]\n",
      "[  0.           0.           0.           0.           0.\n",
      "   0.         110.1530991  330.4255981  516.1751099  743.2091064\n",
      " 839.5535278  928.9772949  866.9113159  722.328125   605.4060059\n",
      " 110.0980988  137.6316071    3.44078207   0.           0.        ] [0. 0. 0. 0. 0. 0. 0. 0. 0. 0.]\n",
      "[  0.           0.           0.           0.           0.\n",
      " 110.1530991  330.4255981  516.1751099  743.2091064  839.5535278\n",
      " 928.9772949  866.9113159  722.328125   605.4060059  110.0980988\n",
      " 137.6316071    3.44078207   0.           0.           0.        ] [ 0.          0.          0.          0.          0.          0.\n",
      "  0.          0.          0.         89.49569702]\n",
      "[  0.           0.           0.           0.         110.1530991\n",
      " 330.4255981  516.1751099  743.2091064  839.5535278  928.9772949\n",
      " 866.9113159  722.328125   605.4060059  110.0980988  137.6316071\n",
      "   3.44078207   0.           0.           0.           0.        ] [  0.           0.           0.           0.           0.\n",
      "   0.           0.           0.          89.49569702 337.3070984 ]\n",
      "[  0.           0.           0.         110.1530991  330.4255981\n",
      " 516.1751099  743.2091064  839.5535278  928.9772949  866.9113159\n",
      " 722.328125   605.4060059  110.0980988  137.6316071    3.44078207\n",
      "   0.           0.           0.           0.           0.        ] [  0.           0.           0.           0.           0.\n",
      "   0.           0.          89.49569702 337.3070984  261.5007935 ]\n",
      "[  0.           0.         110.1530991  330.4255981  516.1751099\n",
      " 743.2091064  839.5535278  928.9772949  866.9113159  722.328125\n",
      " 605.4060059  110.0980988  137.6316071    3.44078207   0.\n",
      "   0.           0.           0.           0.           0.        ] [  0.           0.           0.           0.           0.\n",
      "   0.          89.49569702 337.3070984  261.5007935  798.2631226 ]\n",
      "[  0.         110.1530991  330.4255981  516.1751099  743.2091064\n",
      " 839.5535278  928.9772949  866.9113159  722.328125   605.4060059\n",
      " 110.0980988  137.6316071    3.44078207   0.           0.\n",
      "   0.           0.           0.           0.           0.        ] [  0.           0.           0.           0.           0.\n",
      "  89.49569702 337.3070984  261.5007935  798.2631226  867.0797729 ]\n",
      "[110.1530991  330.4255981  516.1751099  743.2091064  839.5535278\n",
      " 928.9772949  866.9113159  722.328125   605.4060059  110.0980988\n",
      " 137.6316071    3.44078207   0.           0.           0.\n",
      "   0.           0.           0.           0.           0.        ] [  0.           0.           0.           0.          89.49569702\n",
      " 337.3070984  261.5007935  798.2631226  867.0797729  288.9789124 ]\n",
      "[330.4255981  516.1751099  743.2091064  839.5535278  928.9772949\n",
      " 866.9113159  722.328125   605.4060059  110.0980988  137.6316071\n",
      "   3.44078207   0.           0.           0.           0.\n",
      "   0.           0.           0.           0.           0.        ] [  0.           0.           0.          89.49569702 337.3070984\n",
      " 261.5007935  798.2631226  867.0797729  288.9789124  921.954895  ]\n",
      "[516.1751099  743.2091064  839.5535278  928.9772949  866.9113159\n",
      " 722.328125   605.4060059  110.0980988  137.6316071    3.44078207\n",
      "   0.           0.           0.           0.           0.\n",
      "   0.           0.           0.           0.           0.        ] [  0.           0.          89.49569702 337.3070984  261.5007935\n",
      " 798.2631226  867.0797729  288.9789124  921.954895   825.5576172 ]\n",
      "[743.2091064  839.5535278  928.9772949  866.9113159  722.328125\n",
      " 605.4060059  110.0980988  137.6316071    3.44078207   0.\n",
      "   0.           0.           0.           0.           0.\n",
      "   0.           0.           0.           0.           0.        ] [  0.          89.49569702 337.3070984  261.5007935  798.2631226\n",
      " 867.0797729  288.9789124  921.954895   825.5576172  639.7750244 ]\n",
      "[839.5535278  928.9772949  866.9113159  722.328125   605.4060059\n",
      " 110.0980988  137.6316071    3.44078207   0.           0.\n",
      "   0.           0.           0.           0.           0.\n",
      "   0.           0.           0.           0.           0.        ] [ 89.49569702 337.3070984  261.5007935  798.2631226  867.0797729\n",
      " 288.9789124  921.954895   825.5576172  639.7750244  385.2408142 ]\n",
      "[928.9772949  866.9113159  722.328125   605.4060059  110.0980988\n",
      " 137.6316071    3.44078207   0.           0.           0.\n",
      "   0.           0.           0.           0.           0.\n",
      "   0.           0.           0.           0.          89.49569702] [337.3070984 261.5007935 798.2631226 867.0797729 288.9789124 921.954895\n",
      " 825.5576172 639.7750244 385.2408142 144.489502 ]\n",
      "[866.9113159  722.328125   605.4060059  110.0980988  137.6316071\n",
      "   3.44078207   0.           0.           0.           0.\n",
      "   0.           0.           0.           0.           0.\n",
      "   0.           0.           0.          89.49569702 337.3070984 ] [261.5007935  798.2631226  867.0797729  288.9789124  921.954895\n",
      " 825.5576172  639.7750244  385.2408142  144.489502     3.44079089]\n",
      "[722.328125   605.4060059  110.0980988  137.6316071    3.44078207\n",
      "   0.           0.           0.           0.           0.\n",
      "   0.           0.           0.           0.           0.\n",
      "   0.           0.          89.49569702 337.3070984  261.5007935 ] [798.2631226  867.0797729  288.9789124  921.954895   825.5576172\n",
      " 639.7750244  385.2408142  144.489502     3.44079089   0.        ]\n",
      "[605.4060059  110.0980988  137.6316071    3.44078207   0.\n",
      "   0.           0.           0.           0.           0.\n",
      "   0.           0.           0.           0.           0.\n",
      "   0.          89.49569702 337.3070984  261.5007935  798.2631226 ] [867.0797729  288.9789124  921.954895   825.5576172  639.7750244\n",
      " 385.2408142  144.489502     3.44079089   0.           0.        ]\n",
      "[110.0980988  137.6316071    3.44078207   0.           0.\n",
      "   0.           0.           0.           0.           0.\n",
      "   0.           0.           0.           0.           0.\n",
      "  89.49569702 337.3070984  261.5007935  798.2631226  867.0797729 ] [288.9789124  921.954895   825.5576172  639.7750244  385.2408142\n",
      " 144.489502     3.44079089   0.           0.           0.        ]\n",
      "[137.6316071    3.44078207   0.           0.           0.\n",
      "   0.           0.           0.           0.           0.\n",
      "   0.           0.           0.           0.          89.49569702\n",
      " 337.3070984  261.5007935  798.2631226  867.0797729  288.9789124 ] [921.954895   825.5576172  639.7750244  385.2408142  144.489502\n",
      "   3.44079089   0.           0.           0.           0.        ]\n",
      "[  3.44078207   0.           0.           0.           0.\n",
      "   0.           0.           0.           0.           0.\n",
      "   0.           0.           0.          89.49569702 337.3070984\n",
      " 261.5007935  798.2631226  867.0797729  288.9789124  921.954895  ] [825.5576172  639.7750244  385.2408142  144.489502     3.44079089\n",
      "   0.           0.           0.           0.           0.        ]\n",
      "[  0.           0.           0.           0.           0.\n",
      "   0.           0.           0.           0.           0.\n",
      "   0.           0.          89.49569702 337.3070984  261.5007935\n",
      " 798.2631226  867.0797729  288.9789124  921.954895   825.5576172 ] [639.7750244  385.2408142  144.489502     3.44079089   0.\n",
      "   0.           0.           0.           0.           0.        ]\n",
      "[  0.           0.           0.           0.           0.\n",
      "   0.           0.           0.           0.           0.\n",
      "   0.          89.49569702 337.3070984  261.5007935  798.2631226\n",
      " 867.0797729  288.9789124  921.954895   825.5576172  639.7750244 ] [385.2408142  144.489502     3.44079089   0.           0.\n",
      "   0.           0.           0.           0.           0.        ]\n",
      "[  0.           0.           0.           0.           0.\n",
      "   0.           0.           0.           0.           0.\n",
      "  89.49569702 337.3070984  261.5007935  798.2631226  867.0797729\n",
      " 288.9789124  921.954895   825.5576172  639.7750244  385.2408142 ] [144.489502     3.44079089   0.           0.           0.\n",
      "   0.           0.           0.           0.           0.        ]\n",
      "[  0.           0.           0.           0.           0.\n",
      "   0.           0.           0.           0.          89.49569702\n",
      " 337.3070984  261.5007935  798.2631226  867.0797729  288.9789124\n",
      " 921.954895   825.5576172  639.7750244  385.2408142  144.489502  ] [3.44079089 0.         0.         0.         0.         0.\n",
      " 0.         0.         0.         0.        ]\n",
      "[  0.           0.           0.           0.           0.\n",
      "   0.           0.           0.          89.49569702 337.3070984\n",
      " 261.5007935  798.2631226  867.0797729  288.9789124  921.954895\n",
      " 825.5576172  639.7750244  385.2408142  144.489502     3.44079089] [0. 0. 0. 0. 0. 0. 0. 0. 0. 0.]\n",
      "[  0.           0.           0.           0.           0.\n",
      "   0.           0.          89.49569702 337.3070984  261.5007935\n",
      " 798.2631226  867.0797729  288.9789124  921.954895   825.5576172\n",
      " 639.7750244  385.2408142  144.489502     3.44079089   0.        ] [0. 0. 0. 0. 0. 0. 0. 0. 0. 0.]\n",
      "[  0.           0.           0.           0.           0.\n",
      "   0.          89.49569702 337.3070984  261.5007935  798.2631226\n",
      " 867.0797729  288.9789124  921.954895   825.5576172  639.7750244\n",
      " 385.2408142  144.489502     3.44079089   0.           0.        ] [0. 0. 0. 0. 0. 0. 0. 0. 0. 0.]\n",
      "[  0.           0.           0.           0.           0.\n",
      "  89.49569702 337.3070984  261.5007935  798.2631226  867.0797729\n",
      " 288.9789124  921.954895   825.5576172  639.7750244  385.2408142\n",
      " 144.489502     3.44079089   0.           0.           0.        ] [  0.         0.         0.         0.         0.         0.\n",
      "   0.         0.         0.       110.151001]\n",
      "[  0.           0.           0.           0.          89.49569702\n",
      " 337.3070984  261.5007935  798.2631226  867.0797729  288.9789124\n",
      " 921.954895   825.5576172  639.7750244  385.2408142  144.489502\n",
      "   3.44079089   0.           0.           0.           0.        ] [  0.          0.          0.          0.          0.          0.\n",
      "   0.          0.        110.151001  344.1928101]\n",
      "[  0.           0.           0.          89.49569702 337.3070984\n",
      " 261.5007935  798.2631226  867.0797729  288.9789124  921.954895\n",
      " 825.5576172  639.7750244  385.2408142  144.489502     3.44079089\n",
      "   0.           0.           0.           0.           0.        ] [  0.          0.          0.          0.          0.          0.\n",
      "   0.        110.151001  344.1928101 536.7871704]\n"
     ]
    }
   ],
   "source": [
    "\n",
    "for i in range(len(X_train)):\n",
    "    print(X_train[i],y_train[i])"
   ]
  },
  {
   "cell_type": "code",
   "execution_count": 368,
   "metadata": {},
   "outputs": [],
   "source": [
    "from tensorflow.keras import optimizers\n",
    "\n",
    "model = tf.keras.Sequential()\n",
    "model.add(tf.keras.layers.Dense(100,activation='relu',input_dim=n_steps))\n",
    "model.add(tf.keras.layers.Dense(n_steps_out))\n",
    "model.compile(optimizer='adam',loss='mse')"
   ]
  },
  {
   "cell_type": "code",
   "execution_count": 371,
   "metadata": {},
   "outputs": [
    {
     "output_type": "execute_result",
     "data": {
      "text/plain": [
       "(983, 10)"
      ]
     },
     "metadata": {},
     "execution_count": 371
    }
   ],
   "source": [
    "y_train.shape"
   ]
  },
  {
   "cell_type": "code",
   "execution_count": 370,
   "metadata": {},
   "outputs": [
    {
     "output_type": "stream",
     "name": "stdout",
     "text": [
      "Epoch 1/50\n",
      "31/31 [==============================] - 2s 3ms/step - loss: 120993.2498\n",
      "Epoch 2/50\n",
      "31/31 [==============================] - 0s 4ms/step - loss: 56089.1521\n",
      "Epoch 3/50\n",
      "31/31 [==============================] - 0s 4ms/step - loss: 42280.5682\n",
      "Epoch 4/50\n",
      "31/31 [==============================] - 0s 4ms/step - loss: 38307.0280\n",
      "Epoch 5/50\n",
      "31/31 [==============================] - 0s 3ms/step - loss: 40239.3270\n",
      "Epoch 6/50\n",
      "31/31 [==============================] - 0s 4ms/step - loss: 38043.4660\n",
      "Epoch 7/50\n",
      "31/31 [==============================] - 0s 5ms/step - loss: 39055.2634\n",
      "Epoch 8/50\n",
      "31/31 [==============================] - 0s 4ms/step - loss: 34834.5139\n",
      "Epoch 9/50\n",
      "31/31 [==============================] - 0s 3ms/step - loss: 37229.4976\n",
      "Epoch 10/50\n",
      "31/31 [==============================] - 0s 4ms/step - loss: 34165.4443\n",
      "Epoch 11/50\n",
      "31/31 [==============================] - 0s 4ms/step - loss: 37647.9545\n",
      "Epoch 12/50\n",
      "31/31 [==============================] - 0s 4ms/step - loss: 36568.8322\n",
      "Epoch 13/50\n",
      "31/31 [==============================] - 0s 3ms/step - loss: 34602.1415\n",
      "Epoch 14/50\n",
      "31/31 [==============================] - 0s 3ms/step - loss: 37225.7985\n",
      "Epoch 15/50\n",
      "31/31 [==============================] - 0s 4ms/step - loss: 34998.6003\n",
      "Epoch 16/50\n",
      "31/31 [==============================] - 0s 4ms/step - loss: 36431.4478\n",
      "Epoch 17/50\n",
      "31/31 [==============================] - 0s 3ms/step - loss: 32081.1104\n",
      "Epoch 18/50\n",
      "31/31 [==============================] - 0s 4ms/step - loss: 35251.5059\n",
      "Epoch 19/50\n",
      "31/31 [==============================] - 0s 4ms/step - loss: 33885.6846\n",
      "Epoch 20/50\n",
      "31/31 [==============================] - 0s 3ms/step - loss: 35283.1495\n",
      "Epoch 21/50\n",
      "31/31 [==============================] - 0s 4ms/step - loss: 35941.7886\n",
      "Epoch 22/50\n",
      "31/31 [==============================] - 0s 4ms/step - loss: 31938.0001\n",
      "Epoch 23/50\n",
      "31/31 [==============================] - 0s 4ms/step - loss: 34781.8532\n",
      "Epoch 24/50\n",
      "31/31 [==============================] - 0s 4ms/step - loss: 32823.1511\n",
      "Epoch 25/50\n",
      "31/31 [==============================] - 0s 4ms/step - loss: 31898.6641\n",
      "Epoch 26/50\n",
      "31/31 [==============================] - 0s 3ms/step - loss: 31044.8747\n",
      "Epoch 27/50\n",
      "31/31 [==============================] - 0s 3ms/step - loss: 32317.7495\n",
      "Epoch 28/50\n",
      "31/31 [==============================] - 0s 3ms/step - loss: 33487.0848\n",
      "Epoch 29/50\n",
      "31/31 [==============================] - 0s 3ms/step - loss: 32651.2076\n",
      "Epoch 30/50\n",
      "31/31 [==============================] - 0s 3ms/step - loss: 33643.4606\n",
      "Epoch 31/50\n",
      "31/31 [==============================] - 0s 3ms/step - loss: 31313.4979\n",
      "Epoch 32/50\n",
      "31/31 [==============================] - 0s 5ms/step - loss: 31244.3963\n",
      "Epoch 33/50\n",
      "31/31 [==============================] - 0s 3ms/step - loss: 34222.4182\n",
      "Epoch 34/50\n",
      "31/31 [==============================] - 0s 4ms/step - loss: 32372.6963\n",
      "Epoch 35/50\n",
      "31/31 [==============================] - 0s 4ms/step - loss: 34531.5934\n",
      "Epoch 36/50\n",
      "31/31 [==============================] - 0s 4ms/step - loss: 32176.2396\n",
      "Epoch 37/50\n",
      "31/31 [==============================] - 0s 4ms/step - loss: 29557.5941\n",
      "Epoch 38/50\n",
      "31/31 [==============================] - 0s 4ms/step - loss: 33794.7253\n",
      "Epoch 39/50\n",
      "31/31 [==============================] - 0s 4ms/step - loss: 32895.1074\n",
      "Epoch 40/50\n",
      "31/31 [==============================] - 0s 3ms/step - loss: 33891.4078\n",
      "Epoch 41/50\n",
      "31/31 [==============================] - 0s 5ms/step - loss: 32592.1919\n",
      "Epoch 42/50\n",
      "31/31 [==============================] - 0s 3ms/step - loss: 33139.1524\n",
      "Epoch 43/50\n",
      "31/31 [==============================] - 0s 4ms/step - loss: 31192.9930\n",
      "Epoch 44/50\n",
      "31/31 [==============================] - 0s 4ms/step - loss: 31914.6099\n",
      "Epoch 45/50\n",
      "31/31 [==============================] - 0s 4ms/step - loss: 31329.7850\n",
      "Epoch 46/50\n",
      "31/31 [==============================] - 0s 5ms/step - loss: 31268.7109\n",
      "Epoch 47/50\n",
      "31/31 [==============================] - 0s 4ms/step - loss: 31999.3403\n",
      "Epoch 48/50\n",
      "31/31 [==============================] - 0s 4ms/step - loss: 31478.8130\n",
      "Epoch 49/50\n",
      "31/31 [==============================] - 0s 5ms/step - loss: 30132.0893\n",
      "Epoch 50/50\n",
      "31/31 [==============================] - 0s 4ms/step - loss: 32060.6782\n"
     ]
    },
    {
     "output_type": "execute_result",
     "data": {
      "text/plain": [
       "<tensorflow.python.keras.callbacks.History at 0x7f0ecc2b9220>"
      ]
     },
     "metadata": {},
     "execution_count": 370
    }
   ],
   "source": [
    "model.fit(X_train,y_train,epochs=50)"
   ]
  },
  {
   "cell_type": "code",
   "execution_count": 372,
   "metadata": {},
   "outputs": [],
   "source": [
    "y_pred = model.predict(X_test)"
   ]
  },
  {
   "cell_type": "code",
   "execution_count": 373,
   "metadata": {},
   "outputs": [
    {
     "output_type": "execute_result",
     "data": {
      "text/plain": [
       "(406, 10)"
      ]
     },
     "metadata": {},
     "execution_count": 373
    }
   ],
   "source": [
    "y_pred.shape"
   ]
  },
  {
   "cell_type": "code",
   "execution_count": 381,
   "metadata": {},
   "outputs": [
    {
     "output_type": "execute_result",
     "data": {
      "text/plain": [
       "[<matplotlib.lines.Line2D at 0x7f0ecc0c4a00>]"
      ]
     },
     "metadata": {},
     "execution_count": 381
    },
    {
     "output_type": "display_data",
     "data": {
      "text/plain": "<Figure size 864x576 with 1 Axes>",
      "image/svg+xml": "<?xml version=\"1.0\" encoding=\"utf-8\" standalone=\"no\"?>\n<!DOCTYPE svg PUBLIC \"-//W3C//DTD SVG 1.1//EN\"\n  \"http://www.w3.org/Graphics/SVG/1.1/DTD/svg11.dtd\">\n<!-- Created with matplotlib (https://matplotlib.org/) -->\n<svg height=\"465.958125pt\" version=\"1.1\" viewBox=\"0 0 710.0875 465.958125\" width=\"710.0875pt\" xmlns=\"http://www.w3.org/2000/svg\" xmlns:xlink=\"http://www.w3.org/1999/xlink\">\n <metadata>\n  <rdf:RDF xmlns:cc=\"http://creativecommons.org/ns#\" xmlns:dc=\"http://purl.org/dc/elements/1.1/\" xmlns:rdf=\"http://www.w3.org/1999/02/22-rdf-syntax-ns#\">\n   <cc:Work>\n    <dc:type rdf:resource=\"http://purl.org/dc/dcmitype/StillImage\"/>\n    <dc:date>2021-01-05T12:37:55.076410</dc:date>\n    <dc:format>image/svg+xml</dc:format>\n    <dc:creator>\n     <cc:Agent>\n      <dc:title>Matplotlib v3.3.3, https://matplotlib.org/</dc:title>\n     </cc:Agent>\n    </dc:creator>\n   </cc:Work>\n  </rdf:RDF>\n </metadata>\n <defs>\n  <style type=\"text/css\">*{stroke-linecap:butt;stroke-linejoin:round;}</style>\n </defs>\n <g id=\"figure_1\">\n  <g id=\"patch_1\">\n   <path d=\"M 0 465.958125 \nL 710.0875 465.958125 \nL 710.0875 0 \nL 0 0 \nz\n\" style=\"fill:none;\"/>\n  </g>\n  <g id=\"axes_1\">\n   <g id=\"patch_2\">\n    <path d=\"M 33.2875 442.08 \nL 702.8875 442.08 \nL 702.8875 7.2 \nL 33.2875 7.2 \nz\n\" style=\"fill:#ffffff;\"/>\n   </g>\n   <g id=\"matplotlib.axis_1\">\n    <g id=\"xtick_1\">\n     <g id=\"line2d_1\">\n      <defs>\n       <path d=\"M 0 0 \nL 0 3.5 \n\" id=\"mbb994da28f\" style=\"stroke:#000000;stroke-width:0.8;\"/>\n      </defs>\n      <g>\n       <use style=\"stroke:#000000;stroke-width:0.8;\" x=\"63.723864\" xlink:href=\"#mbb994da28f\" y=\"442.08\"/>\n      </g>\n     </g>\n     <g id=\"text_1\">\n      <!-- 0 -->\n      <g transform=\"translate(60.542614 456.678437)scale(0.1 -0.1)\">\n       <defs>\n        <path d=\"M 31.78125 66.40625 \nQ 24.171875 66.40625 20.328125 58.90625 \nQ 16.5 51.421875 16.5 36.375 \nQ 16.5 21.390625 20.328125 13.890625 \nQ 24.171875 6.390625 31.78125 6.390625 \nQ 39.453125 6.390625 43.28125 13.890625 \nQ 47.125 21.390625 47.125 36.375 \nQ 47.125 51.421875 43.28125 58.90625 \nQ 39.453125 66.40625 31.78125 66.40625 \nz\nM 31.78125 74.21875 \nQ 44.046875 74.21875 50.515625 64.515625 \nQ 56.984375 54.828125 56.984375 36.375 \nQ 56.984375 17.96875 50.515625 8.265625 \nQ 44.046875 -1.421875 31.78125 -1.421875 \nQ 19.53125 -1.421875 13.0625 8.265625 \nQ 6.59375 17.96875 6.59375 36.375 \nQ 6.59375 54.828125 13.0625 64.515625 \nQ 19.53125 74.21875 31.78125 74.21875 \nz\n\" id=\"DejaVuSans-48\"/>\n       </defs>\n       <use xlink:href=\"#DejaVuSans-48\"/>\n      </g>\n     </g>\n    </g>\n    <g id=\"xtick_2\">\n     <g id=\"line2d_2\">\n      <g>\n       <use style=\"stroke:#000000;stroke-width:0.8;\" x=\"198.996591\" xlink:href=\"#mbb994da28f\" y=\"442.08\"/>\n      </g>\n     </g>\n     <g id=\"text_2\">\n      <!-- 2 -->\n      <g transform=\"translate(195.815341 456.678437)scale(0.1 -0.1)\">\n       <defs>\n        <path d=\"M 19.1875 8.296875 \nL 53.609375 8.296875 \nL 53.609375 0 \nL 7.328125 0 \nL 7.328125 8.296875 \nQ 12.9375 14.109375 22.625 23.890625 \nQ 32.328125 33.6875 34.8125 36.53125 \nQ 39.546875 41.84375 41.421875 45.53125 \nQ 43.3125 49.21875 43.3125 52.78125 \nQ 43.3125 58.59375 39.234375 62.25 \nQ 35.15625 65.921875 28.609375 65.921875 \nQ 23.96875 65.921875 18.8125 64.3125 \nQ 13.671875 62.703125 7.8125 59.421875 \nL 7.8125 69.390625 \nQ 13.765625 71.78125 18.9375 73 \nQ 24.125 74.21875 28.421875 74.21875 \nQ 39.75 74.21875 46.484375 68.546875 \nQ 53.21875 62.890625 53.21875 53.421875 \nQ 53.21875 48.921875 51.53125 44.890625 \nQ 49.859375 40.875 45.40625 35.40625 \nQ 44.1875 33.984375 37.640625 27.21875 \nQ 31.109375 20.453125 19.1875 8.296875 \nz\n\" id=\"DejaVuSans-50\"/>\n       </defs>\n       <use xlink:href=\"#DejaVuSans-50\"/>\n      </g>\n     </g>\n    </g>\n    <g id=\"xtick_3\">\n     <g id=\"line2d_3\">\n      <g>\n       <use style=\"stroke:#000000;stroke-width:0.8;\" x=\"334.269318\" xlink:href=\"#mbb994da28f\" y=\"442.08\"/>\n      </g>\n     </g>\n     <g id=\"text_3\">\n      <!-- 4 -->\n      <g transform=\"translate(331.088068 456.678437)scale(0.1 -0.1)\">\n       <defs>\n        <path d=\"M 37.796875 64.3125 \nL 12.890625 25.390625 \nL 37.796875 25.390625 \nz\nM 35.203125 72.90625 \nL 47.609375 72.90625 \nL 47.609375 25.390625 \nL 58.015625 25.390625 \nL 58.015625 17.1875 \nL 47.609375 17.1875 \nL 47.609375 0 \nL 37.796875 0 \nL 37.796875 17.1875 \nL 4.890625 17.1875 \nL 4.890625 26.703125 \nz\n\" id=\"DejaVuSans-52\"/>\n       </defs>\n       <use xlink:href=\"#DejaVuSans-52\"/>\n      </g>\n     </g>\n    </g>\n    <g id=\"xtick_4\">\n     <g id=\"line2d_4\">\n      <g>\n       <use style=\"stroke:#000000;stroke-width:0.8;\" x=\"469.542045\" xlink:href=\"#mbb994da28f\" y=\"442.08\"/>\n      </g>\n     </g>\n     <g id=\"text_4\">\n      <!-- 6 -->\n      <g transform=\"translate(466.360795 456.678437)scale(0.1 -0.1)\">\n       <defs>\n        <path d=\"M 33.015625 40.375 \nQ 26.375 40.375 22.484375 35.828125 \nQ 18.609375 31.296875 18.609375 23.390625 \nQ 18.609375 15.53125 22.484375 10.953125 \nQ 26.375 6.390625 33.015625 6.390625 \nQ 39.65625 6.390625 43.53125 10.953125 \nQ 47.40625 15.53125 47.40625 23.390625 \nQ 47.40625 31.296875 43.53125 35.828125 \nQ 39.65625 40.375 33.015625 40.375 \nz\nM 52.59375 71.296875 \nL 52.59375 62.3125 \nQ 48.875 64.0625 45.09375 64.984375 \nQ 41.3125 65.921875 37.59375 65.921875 \nQ 27.828125 65.921875 22.671875 59.328125 \nQ 17.53125 52.734375 16.796875 39.40625 \nQ 19.671875 43.65625 24.015625 45.921875 \nQ 28.375 48.1875 33.59375 48.1875 \nQ 44.578125 48.1875 50.953125 41.515625 \nQ 57.328125 34.859375 57.328125 23.390625 \nQ 57.328125 12.15625 50.6875 5.359375 \nQ 44.046875 -1.421875 33.015625 -1.421875 \nQ 20.359375 -1.421875 13.671875 8.265625 \nQ 6.984375 17.96875 6.984375 36.375 \nQ 6.984375 53.65625 15.1875 63.9375 \nQ 23.390625 74.21875 37.203125 74.21875 \nQ 40.921875 74.21875 44.703125 73.484375 \nQ 48.484375 72.75 52.59375 71.296875 \nz\n\" id=\"DejaVuSans-54\"/>\n       </defs>\n       <use xlink:href=\"#DejaVuSans-54\"/>\n      </g>\n     </g>\n    </g>\n    <g id=\"xtick_5\">\n     <g id=\"line2d_5\">\n      <g>\n       <use style=\"stroke:#000000;stroke-width:0.8;\" x=\"604.814773\" xlink:href=\"#mbb994da28f\" y=\"442.08\"/>\n      </g>\n     </g>\n     <g id=\"text_5\">\n      <!-- 8 -->\n      <g transform=\"translate(601.633523 456.678437)scale(0.1 -0.1)\">\n       <defs>\n        <path d=\"M 31.78125 34.625 \nQ 24.75 34.625 20.71875 30.859375 \nQ 16.703125 27.09375 16.703125 20.515625 \nQ 16.703125 13.921875 20.71875 10.15625 \nQ 24.75 6.390625 31.78125 6.390625 \nQ 38.8125 6.390625 42.859375 10.171875 \nQ 46.921875 13.96875 46.921875 20.515625 \nQ 46.921875 27.09375 42.890625 30.859375 \nQ 38.875 34.625 31.78125 34.625 \nz\nM 21.921875 38.8125 \nQ 15.578125 40.375 12.03125 44.71875 \nQ 8.5 49.078125 8.5 55.328125 \nQ 8.5 64.0625 14.71875 69.140625 \nQ 20.953125 74.21875 31.78125 74.21875 \nQ 42.671875 74.21875 48.875 69.140625 \nQ 55.078125 64.0625 55.078125 55.328125 \nQ 55.078125 49.078125 51.53125 44.71875 \nQ 48 40.375 41.703125 38.8125 \nQ 48.828125 37.15625 52.796875 32.3125 \nQ 56.78125 27.484375 56.78125 20.515625 \nQ 56.78125 9.90625 50.3125 4.234375 \nQ 43.84375 -1.421875 31.78125 -1.421875 \nQ 19.734375 -1.421875 13.25 4.234375 \nQ 6.78125 9.90625 6.78125 20.515625 \nQ 6.78125 27.484375 10.78125 32.3125 \nQ 14.796875 37.15625 21.921875 38.8125 \nz\nM 18.3125 54.390625 \nQ 18.3125 48.734375 21.84375 45.5625 \nQ 25.390625 42.390625 31.78125 42.390625 \nQ 38.140625 42.390625 41.71875 45.5625 \nQ 45.3125 48.734375 45.3125 54.390625 \nQ 45.3125 60.0625 41.71875 63.234375 \nQ 38.140625 66.40625 31.78125 66.40625 \nQ 25.390625 66.40625 21.84375 63.234375 \nQ 18.3125 60.0625 18.3125 54.390625 \nz\n\" id=\"DejaVuSans-56\"/>\n       </defs>\n       <use xlink:href=\"#DejaVuSans-56\"/>\n      </g>\n     </g>\n    </g>\n   </g>\n   <g id=\"matplotlib.axis_2\">\n    <g id=\"ytick_1\">\n     <g id=\"line2d_6\">\n      <defs>\n       <path d=\"M 0 0 \nL -3.5 0 \n\" id=\"m5b0b509819\" style=\"stroke:#000000;stroke-width:0.8;\"/>\n      </defs>\n      <g>\n       <use style=\"stroke:#000000;stroke-width:0.8;\" x=\"33.2875\" xlink:href=\"#m5b0b509819\" y=\"417.022059\"/>\n      </g>\n     </g>\n     <g id=\"text_6\">\n      <!-- 0 -->\n      <g transform=\"translate(19.925 420.821277)scale(0.1 -0.1)\">\n       <use xlink:href=\"#DejaVuSans-48\"/>\n      </g>\n     </g>\n    </g>\n    <g id=\"ytick_2\">\n     <g id=\"line2d_7\">\n      <g>\n       <use style=\"stroke:#000000;stroke-width:0.8;\" x=\"33.2875\" xlink:href=\"#m5b0b509819\" y=\"345.031464\"/>\n      </g>\n     </g>\n     <g id=\"text_7\">\n      <!-- 50 -->\n      <g transform=\"translate(13.5625 348.830683)scale(0.1 -0.1)\">\n       <defs>\n        <path d=\"M 10.796875 72.90625 \nL 49.515625 72.90625 \nL 49.515625 64.59375 \nL 19.828125 64.59375 \nL 19.828125 46.734375 \nQ 21.96875 47.46875 24.109375 47.828125 \nQ 26.265625 48.1875 28.421875 48.1875 \nQ 40.625 48.1875 47.75 41.5 \nQ 54.890625 34.8125 54.890625 23.390625 \nQ 54.890625 11.625 47.5625 5.09375 \nQ 40.234375 -1.421875 26.90625 -1.421875 \nQ 22.3125 -1.421875 17.546875 -0.640625 \nQ 12.796875 0.140625 7.71875 1.703125 \nL 7.71875 11.625 \nQ 12.109375 9.234375 16.796875 8.0625 \nQ 21.484375 6.890625 26.703125 6.890625 \nQ 35.15625 6.890625 40.078125 11.328125 \nQ 45.015625 15.765625 45.015625 23.390625 \nQ 45.015625 31 40.078125 35.4375 \nQ 35.15625 39.890625 26.703125 39.890625 \nQ 22.75 39.890625 18.8125 39.015625 \nQ 14.890625 38.140625 10.796875 36.28125 \nz\n\" id=\"DejaVuSans-53\"/>\n       </defs>\n       <use xlink:href=\"#DejaVuSans-53\"/>\n       <use x=\"63.623047\" xlink:href=\"#DejaVuSans-48\"/>\n      </g>\n     </g>\n    </g>\n    <g id=\"ytick_3\">\n     <g id=\"line2d_8\">\n      <g>\n       <use style=\"stroke:#000000;stroke-width:0.8;\" x=\"33.2875\" xlink:href=\"#m5b0b509819\" y=\"273.04087\"/>\n      </g>\n     </g>\n     <g id=\"text_8\">\n      <!-- 100 -->\n      <g transform=\"translate(7.2 276.840089)scale(0.1 -0.1)\">\n       <defs>\n        <path d=\"M 12.40625 8.296875 \nL 28.515625 8.296875 \nL 28.515625 63.921875 \nL 10.984375 60.40625 \nL 10.984375 69.390625 \nL 28.421875 72.90625 \nL 38.28125 72.90625 \nL 38.28125 8.296875 \nL 54.390625 8.296875 \nL 54.390625 0 \nL 12.40625 0 \nz\n\" id=\"DejaVuSans-49\"/>\n       </defs>\n       <use xlink:href=\"#DejaVuSans-49\"/>\n       <use x=\"63.623047\" xlink:href=\"#DejaVuSans-48\"/>\n       <use x=\"127.246094\" xlink:href=\"#DejaVuSans-48\"/>\n      </g>\n     </g>\n    </g>\n    <g id=\"ytick_4\">\n     <g id=\"line2d_9\">\n      <g>\n       <use style=\"stroke:#000000;stroke-width:0.8;\" x=\"33.2875\" xlink:href=\"#m5b0b509819\" y=\"201.050276\"/>\n      </g>\n     </g>\n     <g id=\"text_9\">\n      <!-- 150 -->\n      <g transform=\"translate(7.2 204.849494)scale(0.1 -0.1)\">\n       <use xlink:href=\"#DejaVuSans-49\"/>\n       <use x=\"63.623047\" xlink:href=\"#DejaVuSans-53\"/>\n       <use x=\"127.246094\" xlink:href=\"#DejaVuSans-48\"/>\n      </g>\n     </g>\n    </g>\n    <g id=\"ytick_5\">\n     <g id=\"line2d_10\">\n      <g>\n       <use style=\"stroke:#000000;stroke-width:0.8;\" x=\"33.2875\" xlink:href=\"#m5b0b509819\" y=\"129.059681\"/>\n      </g>\n     </g>\n     <g id=\"text_10\">\n      <!-- 200 -->\n      <g transform=\"translate(7.2 132.8589)scale(0.1 -0.1)\">\n       <use xlink:href=\"#DejaVuSans-50\"/>\n       <use x=\"63.623047\" xlink:href=\"#DejaVuSans-48\"/>\n       <use x=\"127.246094\" xlink:href=\"#DejaVuSans-48\"/>\n      </g>\n     </g>\n    </g>\n    <g id=\"ytick_6\">\n     <g id=\"line2d_11\">\n      <g>\n       <use style=\"stroke:#000000;stroke-width:0.8;\" x=\"33.2875\" xlink:href=\"#m5b0b509819\" y=\"57.069087\"/>\n      </g>\n     </g>\n     <g id=\"text_11\">\n      <!-- 250 -->\n      <g transform=\"translate(7.2 60.868306)scale(0.1 -0.1)\">\n       <use xlink:href=\"#DejaVuSans-50\"/>\n       <use x=\"63.623047\" xlink:href=\"#DejaVuSans-53\"/>\n       <use x=\"127.246094\" xlink:href=\"#DejaVuSans-48\"/>\n      </g>\n     </g>\n    </g>\n   </g>\n   <g id=\"line2d_12\">\n    <path clip-path=\"url(#p49756e1e5c)\" d=\"M 63.723864 391.198341 \nL 131.360227 341.898628 \nL 198.996591 408.271381 \nL 266.632955 375.882121 \nL 334.269318 421.500186 \nL 401.905682 394.383287 \nL 469.542045 422.312727 \nL 537.178409 375.020834 \nL 604.814773 277.08063 \nL 672.451136 26.967273 \n\" style=\"fill:none;stroke:#1f77b4;stroke-linecap:square;stroke-width:1.5;\"/>\n   </g>\n   <g id=\"line2d_13\">\n    <path clip-path=\"url(#p49756e1e5c)\" d=\"M 63.723864 417.022059 \nL 131.360227 417.022059 \nL 198.996591 417.022059 \nL 266.632955 417.022059 \nL 334.269318 417.022059 \nL 401.905682 417.022059 \nL 469.542045 417.022059 \nL 537.178409 417.022059 \nL 604.814773 317.903854 \nL 672.451136 50.298944 \n\" style=\"fill:none;stroke:#ff7f0e;stroke-linecap:square;stroke-width:1.5;\"/>\n   </g>\n   <g id=\"patch_3\">\n    <path d=\"M 33.2875 442.08 \nL 33.2875 7.2 \n\" style=\"fill:none;stroke:#000000;stroke-linecap:square;stroke-linejoin:miter;stroke-width:0.8;\"/>\n   </g>\n   <g id=\"patch_4\">\n    <path d=\"M 702.8875 442.08 \nL 702.8875 7.2 \n\" style=\"fill:none;stroke:#000000;stroke-linecap:square;stroke-linejoin:miter;stroke-width:0.8;\"/>\n   </g>\n   <g id=\"patch_5\">\n    <path d=\"M 33.2875 442.08 \nL 702.8875 442.08 \n\" style=\"fill:none;stroke:#000000;stroke-linecap:square;stroke-linejoin:miter;stroke-width:0.8;\"/>\n   </g>\n   <g id=\"patch_6\">\n    <path d=\"M 33.2875 7.2 \nL 702.8875 7.2 \n\" style=\"fill:none;stroke:#000000;stroke-linecap:square;stroke-linejoin:miter;stroke-width:0.8;\"/>\n   </g>\n  </g>\n </g>\n <defs>\n  <clipPath id=\"p49756e1e5c\">\n   <rect height=\"434.88\" width=\"669.6\" x=\"33.2875\" y=\"7.2\"/>\n  </clipPath>\n </defs>\n</svg>\n",
      "image/png": "[encoded data removed]"
     },
     "metadata": {
      "needs_background": "light"
     }
    }
   ],
   "source": []
  },
  {
   "cell_type": "code",
   "execution_count": 374,
   "metadata": {},
   "outputs": [
    {
     "output_type": "stream",
     "name": "stdout",
     "text": [
      "Root Mean Squared Error :  [ 95.96529732 138.49544379 152.66646134 108.44746578  47.22152227\n  37.24439186  73.47437173  80.56956156  21.62477348  16.87421447\n  16.60607606  13.03874546  18.21135585  16.71962465  16.44133316\n  23.79880298  16.82992938  28.14709395  36.67578608  80.53682164\n 107.21372616 118.06523589 100.25502463  98.73538014  94.45034073\n 137.40450714 143.49489366  94.73921115  48.46602955  28.48740007\n  54.49023097  67.9574736   24.82851346  15.7516988   17.76381387\n  13.67545975  16.65306082  16.10326862  17.70304096  23.03369244\n  16.10009948  20.71958265  30.6372515   69.89260392  86.83560157\n  98.1912133   83.86116274  88.62750824  73.83902328 120.90194778\n 137.64944277  99.29850068  48.67199799  32.61102304  53.84395827\n  68.17612719  15.46077639  17.76117192  17.66550702  13.94118338\n  17.46212604  16.81736831  15.72622975  22.17598716  15.8596694\n  27.59980055  38.51424619  77.72590044 101.61758511 113.21051694\n 101.38179127  98.81642819  92.42337244 138.0419704  146.84989138\n  95.02793283  56.2134329   30.36404047  61.01151186  68.60740451\n  21.65050043  16.84791043  16.73175645  13.72768898  15.26942736\n  15.33086655  16.91463094  22.44966239  14.97832312  21.63392842\n  30.60288597  65.20962283  84.34898734  92.74659042  79.65064115\n  80.03723139  73.90598929 116.50045201 132.39241721  87.86041913\n  44.50303812  37.52438985  62.16158266  76.74268418  24.58536837\n  17.99600119  17.52064244  13.96784416  15.76843765  15.31492966\n  15.29231184  22.6722902   15.15403081  27.89888817  39.56356811\n  79.38353999 103.2299481  117.68082476 104.76228696 107.98909277\n  98.38799717 141.96193647 152.76189896  98.39714808  56.8670471\n  42.32300711  76.62497163  77.48231172  26.20077434  19.01983673\n  17.49349744  15.00252111  14.49758086  15.07561401  16.79403672\n  23.09605249  16.25230635  26.38646852  36.90764247  78.43598348\n  95.75994521 109.08947382  95.69650896  97.51417011  90.20622742\n 133.7062402  139.21701851  92.7403493   50.90936861  38.15786349\n  76.31572565  79.04976416  29.91272597  21.53431372  18.72206928\n  17.00582339  13.3805097   14.70797689  17.67737495  23.18927985\n  16.07689677  22.17235669  30.48530387  67.10339048  83.97327961\n  90.94187722  79.19257313  76.93725698  71.79787362 113.25632075\n 129.95429944  85.68402558  42.1250149   32.32684754  66.88064078\n  75.69909665  32.08035653  29.90028234  25.00515743  23.35034966\n  13.26963799  14.72332079  16.72428237  21.66625506  16.82935448\n  22.78685184  34.89369078  71.66704013  88.79391866  97.18067755\n  83.05344062  79.88763634  77.39265143 120.37582169 143.00018858\n  97.17490768  53.05225559  41.91594669  79.17539512  81.07684213\n  37.38369308  37.66382933  30.90908447  29.78000121  15.07773357\n  15.21131148  16.47606437  20.83997046  17.37078586  21.84005019\n  31.54811025  68.81898842  87.75883055  98.94866141  82.50243556\n  78.01190543  81.5058612  127.14526644 141.66982834 104.89772479\n  62.81857796  53.34435843  93.43187945  93.59788047  39.73289683\n  36.73994443  32.15294682  31.15086343  14.15720391  14.99496227\n  16.98700874  21.17675442  17.95030824  23.80970516  36.96219813\n  76.10205354  93.52477316 101.26656777  85.25584283  80.47639219\n  77.53605447 119.66651565 133.41733936  93.19372906  44.03610642\n  33.18105982  74.46128903  86.42794094  35.81798351  32.89668529\n  26.43307783  26.14198602  13.8552      14.81775873  17.03870483\n  20.93282057  18.86514597  35.35537902  41.66295039  75.63685743\n  95.28746098 102.239806    90.99639745  83.85985928  84.74999286\n 125.77897696 151.91878124  81.51441233  65.06276005  36.77969777\n  77.49448065  73.10662119  37.11759699  32.00349557  31.1911477\n  25.5230757   17.27295894  12.82802526  17.23110737  20.53483892\n  28.12984117  39.93739187  80.27184705  65.56762573  97.87300468\n  84.65065499 103.54429946 138.80301184 138.66269307 114.54005833\n  85.54335435  93.49288199  93.67439609  76.06929023  66.22139109\n  77.97291514  65.97910452  50.60565661  43.12398726  25.92012869\n  17.75636268  10.69160662  11.41383849  17.50412004  15.17510337\n  16.80112729  56.75141006  55.16007661  74.93677935  74.28998729\n  76.14931078 104.06643741 106.54538485  86.50762668  72.73408101\n  98.5800016   80.76411853  73.59894218 101.76578511  95.33700569\n  29.06146288  20.62259123  17.28470222  14.28585702  11.65474195\n   7.39438839   8.57873964  13.80088533  20.45120122  15.54571787\n  81.39071871 130.52711366 184.5112658  203.81260866 212.82962478\n 208.31757657 201.58644303 224.59689204 239.44392815 228.31255493\n 165.68900085 122.84750734 108.65314291 130.15741429 142.32994433\n 124.54020743  54.57956862  29.84368386  18.54780707  19.21369214\n  18.49707111  26.24572546  44.21468244  92.24285029 154.15419531\n 154.90050878 126.58674914 166.51417442 232.10923638 252.6577746\n 250.02188045 258.63851927 275.01327269 332.02228952 347.11065886\n 295.22647128 263.50056295 124.05817164 102.34795938 149.89545423\n 166.66295302  79.35276879  31.54996399  28.53731989  13.11694867\n  20.49296617  34.95683217  53.82694503  94.60362134  70.35457019\n 125.7978325  180.18426786 206.25755872 175.49922775 192.30737625\n 211.81400367 193.86558343 181.94023167 184.3911478  197.25252855\n 156.62588423  74.22320313  88.89617751  73.26124113  29.93112398\n  21.14409981  12.67453631   9.73876557  15.71329695  25.09197592\n  26.07428196  24.66824989  56.43675129  99.65100829 133.76992277\n 181.28758292]\nMean Absolute Error :  [ 85.48546858 124.70841064 140.61933899  98.3412467   39.86195106\n  29.62636065  58.40066505  58.59486177  16.0393243   13.92695629\n  12.1733818    9.80400891  16.1772238   11.84196018  13.68746624\n  18.50428234  15.27981281  21.60361805  21.76183272  58.15575609\n  81.52385912  95.59671593  79.31594134  87.70229991  81.94903622\n 122.54301529 130.42563172  83.73594236  41.99107637  23.66320452\n  44.02747887  50.72531481  16.96531312  13.09610426  12.21578186\n   9.57170133  14.44379021  11.45999176  14.88802875  17.89556794\n  14.23880224  16.42064538  20.05397728  53.57858239  67.63182917\n  78.54912129  68.11818028  80.81870963  63.81159621 102.46491242\n 121.8689499   86.23523426  39.55232763  25.59254126  43.23615343\n  47.80239663  12.66587564  14.35035155  13.46711679  10.91826732\n  15.32258883  12.57283651  13.29485433  17.43983221  14.27652254\n  20.74016519  23.25149495  57.89037447  77.74696961  91.99295512\n  82.0248643   86.98545015  83.20230684 124.0513939  134.39694596\n  85.47890244  48.31972704  25.01184201  48.52178618  49.64890724\n  16.94867516  13.40061037  11.65028034  10.27203596  13.31011876\n  11.15431115  14.19599514  17.70696979  12.74848761  17.10434356\n  19.55955441  50.85542459  65.92246541  75.28278284  63.77335929\n  71.56813436  67.0075591  103.62292404 120.29226989  79.41709528\n  37.77858858  30.99412097  48.18800648  54.44390044  18.17489598\n  12.36871381  12.25410815  10.51645539  13.87380509  11.04899199\n  12.92105763  17.69573934  13.33685589  20.73528351  22.83170666\n  57.35272989  77.59074229  95.27624835  85.74774751  92.37180344\n  89.61847629 129.45269469 140.33066101  89.76684585  48.87723856\n  34.72404399  58.93714914  54.68846872  19.36758888  14.16696417\n  12.29112253  11.2218579   12.78331292  11.09491509  14.0119792\n  18.24647236  14.57471219  20.76209048  20.92988608  57.88918086\n  73.22754842  89.09191781  78.79283715  85.22231156  80.43744922\n 122.86875001 129.57166825  83.05267417  42.60696583  32.10622712\n  58.24861834  54.81450898  21.04727734  15.55331661  13.92121656\n  12.46309259  11.77231386  11.25081029  14.32074869  18.39334829\n  14.06445031  17.25583153  19.29270013  52.49267455  66.27184301\n  73.24435912  62.12580215  69.43061152  63.41557008 100.45777132\n 121.60997468  74.27220078  36.09194975  28.06086673  52.13468324\n  53.44946997  23.06977989  18.64514591  16.80695433  15.42149165\n  11.98811581  11.13064337  13.3042884   17.53234434  14.67002048\n  17.4863731   22.22778091  55.9764309   70.23823385  77.3600132\n  66.97031021  68.65136815  69.18450639 110.1140686  135.75571175\n  86.81606607  46.28222122  35.64104824  62.8408618   58.48989122\n  24.12546456  22.0554063   19.82796607  18.03476694  13.40388129\n  11.38092128  12.82057688  16.99517754  14.91231546  16.71095634\n  20.48930628  53.2380314   68.03281527  79.36736726  63.77238341\n  68.15228481  71.95270858 116.73024598 135.6130993   93.94855628\n  56.1071846   46.41560221  73.35626662  66.72002941  25.31466034\n  21.21533419  19.69300492  17.93387976  13.1056035   11.23911257\n  13.1640016   17.28396981  14.89699302  17.7527981   22.89196435\n  56.87111206  72.68292817  80.77388114  66.61581859  69.40449982\n  66.96779119 107.94791641 125.50492706  80.76401271  36.47669411\n  30.11268168  58.26204944  60.11719742  23.78879804  19.45853288\n  17.30859533  16.58441247  12.53925874  11.197825    13.03188856\n  16.80500489  16.62273817  24.26923755  21.75744284  59.74457618\n  72.85812712  77.1130499   69.01177167  67.35250513  72.02381097\n 112.68758011 140.93391076  65.79065137  52.08219648  33.80815296\n  59.81418174  51.88217068  26.88995066  21.11341186  23.87242623\n  15.80905323  14.76332663   9.21178118  13.32698463  17.78422613\n  21.07338745  28.9184595   45.2494277   53.34147167  76.39396031\n  65.19748005  81.02260113 103.94429608 117.1002203   93.53137549\n  68.6754898   75.9470333   72.66675128  62.72795285  51.16945495\n  38.92566251  44.35660331  35.51574986  33.70504873  17.28847151\n  15.08629303   8.74583937   9.05540529  15.36900816  11.68804322\n  13.1449015   29.35519075  40.13233822  51.970356    48.87907077\n  52.71737348  81.355403    84.18301144  69.24036332  56.26237527\n  74.88022443  53.49593093  55.40012055  56.77527984  49.02066842\n  22.58113541  17.56283498  12.18351313   9.65716695   8.68464016\n   6.2623095    6.08816366  10.4922726   17.54792242  11.59069557\n  42.68179271  75.33692112 110.14620125 135.70186348 145.97496152\n 138.37780476 152.41201773 166.02679386 175.20627557 174.72425233\n 120.80249721  88.88786994  76.16631298  84.74923804  86.87888773\n  82.32068434  33.81185329  23.17710864  14.59796478  15.90411125\n  14.01078236  18.60384293  26.2124675   59.96135986 105.17023431\n 109.30179642  88.74688988 124.8089658  185.50037235 221.0680508\n 224.69963992 222.41084063 219.2471035  253.10719775 264.33648126\n 208.09600954 176.67446789  97.70599309  70.15718062  90.16646056\n 100.62386101  49.59941864  28.24605017  22.87554253  10.415897\n  16.12355175  28.89869862  32.15865055  51.50421564  49.50233116\n  88.94168567 140.85718298 161.72954856 135.83132234 157.05240823\n 166.55582162 160.61618005 137.7287613  127.15548158 129.85957514\n  94.69756808  44.695612    67.81801386  42.08641416  26.32760966\n  17.74548988  10.16771158   7.44275433  12.45869328  19.92693728\n  20.29492269  20.09994862  39.67495979  69.93934534  93.36817023\n 125.53588592]\nMean Absolute Percentage Error :  [ 27.27366757  25.06789763  29.67309453  29.6143011   25.68789799\n  32.92281768  42.70474355  66.49463431  56.15215598  68.80996115\n  79.57112337  88.54948452  98.08611791 100.         100.\n 100.          91.86978663  85.03491759  75.84081829  69.11259551\n  63.68248869  62.8506706   44.3663872   42.23599283  26.06057166\n  25.983266    26.81876228  29.37827243  27.51142484  33.15668903\n  48.16177578  60.65982159  62.67020959  71.96258198  80.60943699\n  90.07976527 100.         100.         100.         100.\n  90.87568126  81.15596691  76.19117548  69.09034154  60.42268961\n  56.00031532  41.10096559  36.42083381  23.83761924  20.17650281\n  25.19983741  28.67419181  26.60744362  33.86838069  47.40268487\n  59.60551079  62.5160257   72.63932323  81.0622847   90.96245425\n 100.         100.         100.         100.          91.21460923\n  84.50476558  76.87443679  69.4333222   62.99557553  63.05197497\n  44.72316487  41.76991211  26.89967921  26.15034002  28.35446586\n  29.38723057  28.10128326  33.88051624  48.69617083  59.90390886\n  63.1925191   72.46203796  80.90784766  90.90098864 100.\n 100.         100.         100.          90.07164668  81.99526387\n  76.12711449  68.45618443  60.20658635  56.39771586  40.34000128\n  35.94693323  24.45208623  20.85750931  25.31014479  27.84221318\n  26.4061976   34.72878196  48.68376373  60.89569168  63.7133762\n  72.7203363   81.30167539  91.11408211 100.         100.\n 100.         100.          91.04092239  84.5772473   76.54022602\n  69.57406753  62.67419653  62.59154221  45.35633131  43.13572657\n  27.82416032  26.97940487  29.21631903  30.32644627  28.19278218\n  35.58292478  50.72503548  60.66271633  63.85702356  72.93116794\n  81.46536456  91.44154956 100.         100.         100.\n 100.          91.79726741  84.55593285  75.48665622  69.58814139\n  61.76533883  60.88189965  44.14152256  40.57061899  25.5982185\n  25.77780764  26.83228687  27.89551819  27.03029072  36.007416\n  49.62968113  60.11448253  64.63216433  73.72116555  82.51825726\n  92.36900166 100.         100.         100.         100.\n  90.58769828  81.53077904  76.04175066  68.69923545  60.61634163\n  53.82573543  39.88807617  33.68793912  23.58670939  19.75381468\n  27.45572751  24.4287983   27.84823934  36.69455392  49.34857279\n  61.06517708  66.63398173  75.47392614  84.3468189   94.1869007\n 100.         100.         100.         100.          90.823096\n  82.22499173  76.99215143  69.6776975   61.82006819  54.12586722\n  41.45551253  31.41388795  25.07092632  23.3295687   32.70606134\n  28.88638212  31.41653649  39.50143489  53.27140605  64.03626177\n  67.94520469  77.11294509  85.98074481  95.86741829 100.\n 100.         100.         100.          90.73377457  82.147186\n  75.70872994  68.08524487  60.27657102  55.59334476  39.72327584\n  31.07377456  24.83223093  24.53426625  32.58037637  30.83148332\n  33.75524411  41.73757907  56.01881194  66.67541494  68.04700585\n  77.20214747  86.39055114  96.18778249 100.         100.\n 100.         100.          90.35104749  81.73413591  76.33649534\n  69.41943013  61.86139853  55.5927202   40.9970962   32.3258414\n  24.1904674   22.40323139  29.51105298  26.65208216  29.42004282\n  37.73842671  51.63558121  63.60509719  67.65005147  76.30004686\n  85.06017712  95.15766349 100.         100.         100.\n 100.          91.95312424  84.99648615  78.06837636  71.17360526\n  63.47229291  52.55552281  43.25024057  32.75010445  26.42998137\n  25.14604422  34.76274053  22.75747248  31.61897339  38.61758435\n  51.2966071   61.56231046  68.33112051  76.59945926  86.18354358\n  95.19209288 100.         100.         100.         100.\n  96.20300407  89.03748195  84.19926136  73.39139709  67.1736153\n  55.19784893  48.80005384  41.50050538  35.76654201  23.41249011\n  19.1431319   28.12697291  38.34148242  45.32734769  52.31336926\n  60.09170405  72.67759689  80.49499735  88.71470325  95.68866632\n 100.         100.         100.         100.          90.70409011\n  83.80510337  80.80880931  68.21285927  61.4080271   59.51497821\n  42.9516986   40.56304002  32.3640714   19.54197178  18.88722931\n  28.71343973  34.58459091  45.76946016  57.23202728  69.48933444\n  67.16591326  74.29754515  85.04412133  94.85797924 100.\n 100.         100.         100.          95.73706891  86.01883278\n  88.64664354  86.99287773  87.46834411  82.55291076  77.06304674\n  64.84464467  58.90289168  60.34821984  69.71920302  80.98568834\n  55.41226646  53.90745452  60.28851396  71.21317274  82.70723219\n  88.82663495  88.86628634 105.45447297 100.         100.\n 100.         100.          99.71828301  98.34471726  95.78203424\n  87.31422352  79.07816617  75.21895009  73.60877514  74.31630957\n  76.50003116  80.51714802  87.8952986  139.89558677 164.7347521\n 122.02894536 107.85428606  75.64194163  76.65981463  86.40846357\n  95.7312034   98.61466612 100.         100.         100.\n 100.          92.1815072   91.99642308  98.37418741  71.95481824\n  70.56357118 101.03198918  93.73297538  50.96518523  42.98616482\n  37.79745371  43.25831186  39.30106925  48.35471054  58.39722389\n  62.74460183  63.84465927  80.04570801  85.86563691  86.2970047\n  90.59479498 100.         100.         100.         100.\n  94.44083841  83.51532893  79.93553458  77.5757983   74.41235085\n  72.33512474]\nR2 Score :  0.8831347295442008\n"
     ]
    }
   ],
   "source": [
    "print_score(y_pred,y_test)"
   ]
  },
  {
   "cell_type": "code",
   "execution_count": 328,
   "metadata": {},
   "outputs": [
    {
     "output_type": "stream",
     "name": "stdout",
     "text": [
      "Root Mean Squared Error :  103.48599995778571\nMean Absolute Error :  74.70675639990804\nMean Absolute Percentage Error :  3194697000.111689\n"
     ]
    }
   ],
   "source": [
    "print(\"Root Mean Squared Error : \",np.sqrt(keras.metrics.mean_squared_error(y_pred.reshape(-1),y_test).numpy()))\n",
    "print(\"Mean Absolute Error : \",keras.metrics.mean_absolute_error(test_df['irradiance'],naive_forecast['irradiance']).numpy())\n",
    "print(\"Mean Absolute Percentage Error : \",keras.metrics.mean_absolute_percentage_error(test_df['irradiance'],naive_forecast['irradiance']).numpy())\n"
   ]
  },
  {
   "cell_type": "code",
   "execution_count": 304,
   "metadata": {},
   "outputs": [
    {
     "output_type": "execute_result",
     "data": {
      "text/plain": [
       "(432,)"
      ]
     },
     "metadata": {},
     "execution_count": 304
    }
   ],
   "source": [
    "y_test.reshape(-1).shape"
   ]
  },
  {
   "cell_type": "code",
   "execution_count": 389,
   "metadata": {},
   "outputs": [],
   "source": [
    "def evaluate_forecasts(actual, predicted):\n",
    "\tscores = list()\n",
    "\t# calculate an RMSE score for each day\n",
    "\tfor i in range(actual.shape[1]):\n",
    "\t\t# calculate mse\n",
    "\t\tmse = keras.metrics.mean_squared_error(actual[:, i], predicted[:, i])\n",
    "\t\t# calculate rmse\n",
    "\t\trmse = np.sqrt(mse)\n",
    "\t\t# store\n",
    "\t\tscores.append(rmse)\n",
    "\t# calculate overall RMSE\n",
    "\ts = 0\n",
    "\tfor row in range(actual.shape[0]):\n",
    "\t\tfor col in range(actual.shape[1]):\n",
    "\t\t\ts += (actual[row, col] - predicted[row, col])**2\n",
    "\tscore = np.sqrt(s / (actual.shape[0] * actual.shape[1]))\n",
    "\treturn score, scores\n"
   ]
  },
  {
   "cell_type": "code",
   "execution_count": 390,
   "metadata": {},
   "outputs": [
    {
     "output_type": "execute_result",
     "data": {
      "text/plain": [
       "(92.31933427383508,\n",
       " [80.11391,\n",
       "  90.032906,\n",
       "  98.73733,\n",
       "  106.645325,\n",
       "  94.87477,\n",
       "  87.416985,\n",
       "  90.13453,\n",
       "  91.95323,\n",
       "  95.20155,\n",
       "  85.41798])"
      ]
     },
     "metadata": {},
     "execution_count": 390
    }
   ],
   "source": [
    "evaluate_forecasts(y_test,y_pred)"
   ]
  },
  {
   "cell_type": "code",
   "execution_count": null,
   "metadata": {},
   "outputs": [],
   "source": []
  }
 ]
}